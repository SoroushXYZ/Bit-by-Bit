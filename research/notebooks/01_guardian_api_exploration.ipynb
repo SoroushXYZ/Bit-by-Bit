{
  "cells": [
    {
      "cell_type": "markdown",
      "metadata": {},
      "source": [
        "# Guardian API Exploration\n",
        "\n",
        "This notebook explores the Guardian API to understand:\n",
        "- What data is available\n",
        "- Quality of tech news content\n",
        "- Best search terms and filters\n",
        "- Data structure and fields\n",
        "\n",
        "## Setup\n"
      ]
    },
    {
      "cell_type": "code",
      "execution_count": 17,
      "metadata": {},
      "outputs": [
        {
          "name": "stdout",
          "output_type": "stream",
          "text": [
            "✅ .env file found\n"
          ]
        }
      ],
      "source": [
        "import sys\n",
        "import os\n",
        "import requests\n",
        "import pandas as pd\n",
        "import matplotlib.pyplot as plt\n",
        "from datetime import datetime, timedelta\n",
        "from typing import List, Dict, Optional\n",
        "from dotenv import load_dotenv\n",
        "\n",
        "# Load environment variables\n",
        "load_dotenv('../../.env')  # Load from project root\n",
        "\n",
        "# Check if .env file exists\n",
        "if not os.path.exists('../../.env'):\n",
        "    print(\"❌ No .env file found!\")\n",
        "    print(\"📝 Please create a .env file with your Guardian API key:\")\n",
        "    print(\"   GUARDIAN_API_KEY=your_api_key_here\")\n",
        "    print(\"\\n💡 You can copy env.example to .env and add your key\")\n",
        "    print(\"   cp ../../env.example ../../.env\")\n",
        "else:\n",
        "    print(\"✅ .env file found\")\n",
        "\n",
        "class GuardianCollector:\n",
        "    def __init__(self):\n",
        "        # Try to load from .env file if not already loaded\n",
        "        if not os.getenv('GUARDIAN_API_KEY'):\n",
        "            load_dotenv()\n",
        "        \n",
        "        self.api_key = os.getenv('GUARDIAN_API_KEY')\n",
        "        self.base_url = 'https://content.guardianapis.com/search'\n",
        "        \n",
        "        if not self.api_key:\n",
        "            raise ValueError(\"GUARDIAN_API_KEY not found in environment variables\")\n",
        "    \n",
        "    def fetch_articles(self, \n",
        "                      query: str = \"technology\",\n",
        "                      section: str = \"technology\",\n",
        "                      days_back: int = 1,\n",
        "                      page_size: int = 20,\n",
        "                      order_by: str = \"newest\") -> List[Dict]:\n",
        "        \"\"\"\n",
        "        Fetch articles from Guardian API\n",
        "        \n",
        "        Args:\n",
        "            query: Search terms (e.g., \"artificial intelligence\", \"startup\")\n",
        "            section: Section to search (technology, business, science)\n",
        "            days_back: How many days back to search\n",
        "            page_size: Number of articles to fetch (max 50)\n",
        "            order_by: Sort by newest, oldest, or relevance\n",
        "        \n",
        "        Returns:\n",
        "            List of article dictionaries\n",
        "        \"\"\"\n",
        "        # Calculate date range\n",
        "        to_date = datetime.now()\n",
        "        from_date = to_date - timedelta(days=days_back)\n",
        "        \n",
        "        params = {\n",
        "            'q': query,\n",
        "            'section': section,\n",
        "            'from-date': from_date.strftime('%Y-%m-%d'),\n",
        "            'to-date': to_date.strftime('%Y-%m-%d'),\n",
        "            'order-by': order_by,\n",
        "            'page-size': min(page_size, 50),  # API limit is 50\n",
        "            'show-fields': 'all',\n",
        "            'api-key': self.api_key\n",
        "        }\n",
        "        \n",
        "        try:\n",
        "            response = requests.get(self.base_url, params=params)\n",
        "            response.raise_for_status()\n",
        "            \n",
        "            data = response.json()\n",
        "            articles = data.get('response', {}).get('results', [])\n",
        "            \n",
        "            # Clean and structure the data\n",
        "            cleaned_articles = []\n",
        "            for article in articles:\n",
        "                cleaned_article = {\n",
        "                    'title': article.get('webTitle', ''),\n",
        "                    'url': article.get('webUrl', ''),\n",
        "                    'section': article.get('sectionName', ''),\n",
        "                    'published': article.get('webPublicationDate', ''),\n",
        "                    'summary': article.get('fields', {}).get('trailText', ''),\n",
        "                    'content': article.get('fields', {}).get('body', ''),\n",
        "                    'thumbnail': article.get('fields', {}).get('thumbnail', ''),\n",
        "                    'tags': [tag.get('webTitle', '') for tag in article.get('tags', [])]\n",
        "                }\n",
        "                cleaned_articles.append(cleaned_article)\n",
        "            \n",
        "            return cleaned_articles\n",
        "            \n",
        "        except requests.exceptions.RequestException as e:\n",
        "            print(f\"Error fetching articles: {e}\")\n",
        "            return []\n",
        "    \n",
        "    def get_tech_news(self, days_back: int = 1) -> List[Dict]:\n",
        "        \"\"\"Get general tech news\"\"\"\n",
        "        return self.fetch_articles(\n",
        "            query=\"technology\",\n",
        "            section=\"technology\",\n",
        "            days_back=days_back\n",
        "        )\n",
        "    \n",
        "    def get_ai_news(self, days_back: int = 1) -> List[Dict]:\n",
        "        \"\"\"Get AI-related news\"\"\"\n",
        "        return self.fetch_articles(\n",
        "            query=\"artificial intelligence OR machine learning OR AI\",\n",
        "            section=\"technology\",\n",
        "            days_back=days_back\n",
        "        )\n",
        "    \n",
        "    def get_startup_news(self, days_back: int = 1) -> List[Dict]:\n",
        "        \"\"\"Get startup and business tech news\"\"\"\n",
        "        return self.fetch_articles(\n",
        "            query=\"startup OR venture capital OR funding\",\n",
        "            section=\"business\",\n",
        "            days_back=days_back\n",
        "        )\n",
        "    \n",
        "    def get_science_tech(self, days_back: int = 1) -> List[Dict]:\n",
        "        \"\"\"Get science and research tech news\"\"\"\n",
        "        return self.fetch_articles(\n",
        "            query=\"technology\",\n",
        "            section=\"science\",\n",
        "            days_back=days_back\n",
        "        )\n",
        "\n"
      ]
    },
    {
      "cell_type": "markdown",
      "metadata": {},
      "source": [
        "## Test API Connection\n"
      ]
    },
    {
      "cell_type": "code",
      "execution_count": 18,
      "metadata": {},
      "outputs": [
        {
          "name": "stdout",
          "output_type": "stream",
          "text": [
            "API Key loaded: ✅\n",
            "✅ API key found, ready to fetch data!\n"
          ]
        }
      ],
      "source": [
        "# Test basic connection\n",
        "try:\n",
        "    collector = GuardianCollector()\n",
        "    print(f\"API Key loaded: {'✅' if collector.api_key else '❌'}\")\n",
        "    print(\"✅ API key found, ready to fetch data!\")\n",
        "except ValueError as e:\n",
        "    print(f\"❌ Error: {e}\")\n",
        "    print(\"\\n📝 To fix this:\")\n",
        "    print(\"1. Copy the example file: cp ../../env.example ../../.env\")\n",
        "    print(\"2. Edit ../../.env and add your Guardian API key\")\n",
        "    print(\"3. Restart this notebook\")\n",
        "    print(\"\\n💡 Get your API key from: https://open-platform.theguardian.com/\")\n"
      ]
    },
    {
      "cell_type": "markdown",
      "metadata": {},
      "source": [
        "## Fetch Sample Data\n"
      ]
    },
    {
      "cell_type": "code",
      "execution_count": 19,
      "metadata": {},
      "outputs": [
        {
          "name": "stdout",
          "output_type": "stream",
          "text": [
            "📰 Fetching tech news from today...\n",
            "✅ Successfully fetched 3 articles\n",
            "\n",
            "📋 Sample articles:\n",
            "1. What is new in UK-US tech deal and what will it mean for the British economy?\n",
            "   Published: 2025-09-17T14:29:18Z\n",
            "   Section: Technology\n",
            "   URL: https://www.theguardian.com/technology/2025/sep/17/what-is-new-uk-us-tech-deal-ai-supercomputers-investment-economy\n",
            "\n",
            "2. ChatGPT developing age-verification system to identify under-18 users after teen death\n",
            "   Published: 2025-09-17T06:05:06Z\n",
            "   Section: Technology\n",
            "   URL: https://www.theguardian.com/technology/2025/sep/17/chatgpt-developing-age-verification-system-to-identify-under-18-users-after-teen-death\n",
            "\n",
            "3. ‘I love you too!’ My family’s creepy, unsettling week with an AI toy\n",
            "   Published: 2025-09-16T04:00:27Z\n",
            "   Section: Technology\n",
            "   URL: https://www.theguardian.com/technology/2025/sep/16/i-love-you-too-my-familys-creepy-unsettling-week-with-an-ai-toy\n",
            "\n"
          ]
        }
      ],
      "source": [
        "# Fetch tech news from today\n",
        "print(\"📰 Fetching tech news from today...\")\n",
        "articles = collector.get_tech_news(days_back=1)\n",
        "\n",
        "if articles:\n",
        "    print(f\"✅ Successfully fetched {len(articles)} articles\")\n",
        "    print(\"\\n📋 Sample articles:\")\n",
        "    for i, article in enumerate(articles[:3], 1):\n",
        "        print(f\"{i}. {article['title']}\")\n",
        "        print(f\"   Published: {article['published']}\")\n",
        "        print(f\"   Section: {article['section']}\")\n",
        "        print(f\"   URL: {article['url']}\")\n",
        "        print()\n",
        "else:\n",
        "    print(\"❌ No articles found\")\n"
      ]
    },
    {
      "cell_type": "markdown",
      "metadata": {},
      "source": [
        "## Save Data for Future Processing\n"
      ]
    },
    {
      "cell_type": "code",
      "execution_count": 20,
      "metadata": {},
      "outputs": [
        {
          "name": "stdout",
          "output_type": "stream",
          "text": [
            "💾 Saved 3 articles to ../data/guardian/guardian_articles.json\n",
            "\n",
            "📊 Data Summary:\n",
            "   Total articles: 3\n",
            "   Columns: ['title', 'url', 'section', 'published', 'summary', 'content', 'thumbnail', 'tags']\n",
            "   Date range: 2025-09-16T04:00:27Z to 2025-09-17T14:29:18Z\n"
          ]
        }
      ],
      "source": [
        "# Save articles to JSON for future processing\n",
        "if articles:\n",
        "    df = pd.DataFrame(articles)\n",
        "    \n",
        "    # Create guardian data directory if it doesn't exist\n",
        "    os.makedirs('../data/guardian', exist_ok=True)\n",
        "    \n",
        "    # Save to JSON (better for complex data structures)\n",
        "    json_path = '../data/guardian/guardian_articles.json'\n",
        "    df.to_json(json_path, orient='records', indent=2)\n",
        "    print(f\"💾 Saved {len(df)} articles to {json_path}\")\n",
        "    \n",
        "    # Display basic info\n",
        "    print(f\"\\n📊 Data Summary:\")\n",
        "    print(f\"   Total articles: {len(df)}\")\n",
        "    print(f\"   Columns: {list(df.columns)}\")\n",
        "    print(f\"   Date range: {df['published'].min()} to {df['published'].max()}\")\n",
        "else:\n",
        "    print(\"❌ No data to save\")\n"
      ]
    },
    {
      "cell_type": "markdown",
      "metadata": {},
      "source": [
        "## Explore Different News Categories\n"
      ]
    },
    {
      "cell_type": "code",
      "execution_count": 21,
      "metadata": {},
      "outputs": [
        {
          "name": "stdout",
          "output_type": "stream",
          "text": [
            "📊 Category Analysis:\n",
            "General Tech: 3 articles\n",
            "   💾 Saved to ../data/guardian/guardian_general_tech.json\n",
            "AI News: 8 articles\n",
            "   💾 Saved to ../data/guardian/guardian_ai_news.json\n",
            "Startup News: 2 articles\n",
            "   💾 Saved to ../data/guardian/guardian_startup_news.json\n",
            "Science Tech: 1 articles\n",
            "   💾 Saved to ../data/guardian/guardian_science_tech.json\n",
            "\n",
            "📈 Category Summary:\n",
            "       Category  Article_Count\n",
            "0  General Tech              3\n",
            "1       AI News              8\n",
            "2  Startup News              2\n",
            "3  Science Tech              1\n"
          ]
        }
      ],
      "source": [
        "# Test different categories\n",
        "categories = {\n",
        "    'General Tech': collector.get_tech_news(days_back=1),\n",
        "    'AI News': collector.get_ai_news(days_back=1),\n",
        "    'Startup News': collector.get_startup_news(days_back=1),\n",
        "    'Science Tech': collector.get_science_tech(days_back=1)\n",
        "}\n",
        "\n",
        "print(\"📊 Category Analysis:\")\n",
        "for category, articles in categories.items():\n",
        "    print(f\"{category}: {len(articles)} articles\")\n",
        "    \n",
        "    # Save each category separately as JSON\n",
        "    if articles:\n",
        "        df_cat = pd.DataFrame(articles)\n",
        "        filename = f\"../data/guardian/guardian_{category.lower().replace(' ', '_')}.json\"\n",
        "        df_cat.to_json(filename, orient='records', indent=2)\n",
        "        print(f\"   💾 Saved to {filename}\")\n",
        "\n",
        "# Create summary\n",
        "category_summary = pd.DataFrame([\n",
        "    {'Category': cat, 'Article_Count': len(arts)} \n",
        "    for cat, arts in categories.items()\n",
        "])\n",
        "print(f\"\\n📈 Category Summary:\")\n",
        "print(category_summary)\n"
      ]
    },
    {
      "cell_type": "markdown",
      "metadata": {},
      "source": [
        "## Visualize Category Distribution\n"
      ]
    },
    {
      "cell_type": "code",
      "execution_count": 22,
      "metadata": {},
      "outputs": [
        {
          "name": "stdout",
          "output_type": "stream",
          "text": [
            "💾 Saved plot to ../data/guardian/category_distribution.png\n"
          ]
        },
        {
          "data": {
            "image/png": "[encoded data removed]",
            "text/plain": [
              "<Figure size 1000x600 with 1 Axes>"
            ]
          },
          "metadata": {},
          "output_type": "display_data"
        }
      ],
      "source": [
        "# Create visualization\n",
        "plt.figure(figsize=(10, 6))\n",
        "plt.bar(category_summary['Category'], category_summary['Article_Count'])\n",
        "plt.title('Guardian API: Articles by Category (Today)')\n",
        "plt.xlabel('Category')\n",
        "plt.ylabel('Number of Articles')\n",
        "plt.xticks(rotation=45)\n",
        "plt.tight_layout()\n",
        "\n",
        "# Save the plot to guardian folder BEFORE showing it\n",
        "plt.savefig('../data/guardian/category_distribution.png', dpi=300, bbox_inches='tight')\n",
        "print(\"💾 Saved plot to ../data/guardian/category_distribution.png\")\n",
        "\n",
        "# Show the plot\n",
        "plt.show()\n"
      ]
    },
    {
      "cell_type": "markdown",
      "metadata": {},
      "source": [
        "## Save Summary and Metadata\n"
      ]
    },
    {
      "cell_type": "code",
      "execution_count": 23,
      "metadata": {},
      "outputs": [
        {
          "name": "stdout",
          "output_type": "stream",
          "text": [
            "💾 Saved collection summary to ../data/guardian/collection_summary.json\n",
            "\n",
            "📊 Collection Summary:\n",
            "   Total articles collected: 14\n",
            "   Categories: ['General Tech', 'AI News', 'Startup News', 'Science Tech']\n",
            "   Collection date: 2025-09-17T16:57:28.763831\n"
          ]
        }
      ],
      "source": [
        "# Create summary metadata\n",
        "summary_data = {\n",
        "    'collection_date': datetime.now().isoformat(),\n",
        "    'total_articles': sum(len(articles) for articles in categories.values()),\n",
        "    'categories': {\n",
        "        category: {\n",
        "            'article_count': len(articles),\n",
        "            'filename': f\"guardian_{category.lower().replace(' ', '_')}.json\"\n",
        "        }\n",
        "        for category, articles in categories.items()\n",
        "    },\n",
        "    'data_structure': {\n",
        "        'fields': ['title', 'url', 'section', 'published', 'summary', 'content', 'thumbnail', 'tags'],\n",
        "        'format': 'JSON',\n",
        "        'encoding': 'UTF-8'\n",
        "    },\n",
        "    'api_info': {\n",
        "        'source': 'Guardian API',\n",
        "        'endpoint': 'https://content.guardianapis.com/search',\n",
        "        'rate_limit': '5000 requests/day',\n",
        "        'collection_period': '1 day'\n",
        "    }\n",
        "}\n",
        "\n",
        "# Save summary metadata\n",
        "import json\n",
        "summary_path = '../data/guardian/collection_summary.json'\n",
        "with open(summary_path, 'w') as f:\n",
        "    json.dump(summary_data, f, indent=2)\n",
        "\n",
        "print(f\"💾 Saved collection summary to {summary_path}\")\n",
        "print(f\"\\n📊 Collection Summary:\")\n",
        "print(f\"   Total articles collected: {summary_data['total_articles']}\")\n",
        "print(f\"   Categories: {list(summary_data['categories'].keys())}\")\n",
        "print(f\"   Collection date: {summary_data['collection_date']}\")\n"
      ]
    }
  ],
  "metadata": {
    "kernelspec": {
      "display_name": "venv",
      "language": "python",
      "name": "python3"
    },
    "language_info": {
      "codemirror_mode": {
        "name": "ipython",
        "version": 3
      },
      "file_extension": ".py",
      "mimetype": "text/x-python",
      "name": "python",
      "nbconvert_exporter": "python",
      "pygments_lexer": "ipython3",
      "version": "3.13.5"
    }
  },
  "nbformat": 4,
  "nbformat_minor": 2
}
