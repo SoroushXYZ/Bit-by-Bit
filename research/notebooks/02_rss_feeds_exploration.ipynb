{
  "cells": [
    {
      "cell_type": "markdown",
      "metadata": {},
      "source": [
        "# RSS Feeds Exploration\n",
        "\n",
        "This notebook explores RSS feeds as a data source for tech news. We'll:\n",
        "\n",
        "- Load RSS feed configuration from JSON\n",
        "- Collect articles from multiple tech RSS feeds\n",
        "- Parse and clean the data\n",
        "- Filter articles from the last 24 hours\n",
        "- Save organized data in JSON format\n",
        "- Analyze feed performance and content quality\n",
        "\n",
        "## Setup\n"
      ]
    },
    {
      "cell_type": "code",
      "execution_count": 1,
      "metadata": {},
      "outputs": [
        {
          "name": "stdout",
          "output_type": "stream",
          "text": [
            "✅ RSS feed configuration loaded\n",
            "📊 Total feeds configured: 61\n",
            "⚙️ Settings: {'max_age_hours': 24, 'max_items_per_feed': 30, 'timeout_seconds': 30, 'retry_attempts': 3}\n",
            "\n",
            "📰 Enabled feeds (61):\n",
            "  • TechCrunch (Tech News)\n",
            "  • WIRED (Tech News)\n",
            "  • The Verge (Tech News)\n",
            "  • Ars Technica (Tech News)\n",
            "  • Engadget (Tech News)\n",
            "  • Gizmodo (Tech News)\n",
            "  • CNET News (Tech News)\n",
            "  • TechRadar (Tech News)\n",
            "  • Digital Trends (Tech News)\n",
            "  • VentureBeat (Tech News)\n",
            "  • Recode (Vox Technology) (Tech News)\n",
            "  • GeekWire (Tech News)\n",
            "  • Mashable (Tech) (Tech News)\n",
            "  • Hacker News (Top) (Tech News)\n",
            "  • TechMeme (Tech News)\n",
            "  • Slashdot (Tech News)\n",
            "  • Lifehacker (Tech News)\n",
            "  • MIT Technology Review (Tech News)\n",
            "  • BBC News - Technology (Tech News)\n",
            "  • The Guardian - Technology (Tech News)\n",
            "  • NY Times - Technology (Tech News)\n",
            "  • Reuters Technology News (Tech News)\n",
            "  • CNN Technology (Tech News)\n",
            "  • Business Insider (Tech) (Tech News)\n",
            "  • HuffPost Tech (Tech News)\n",
            "  • ZDNet (All Topics) (Tech News)\n",
            "  • InfoWorld (Tech News)\n",
            "  • Computerworld (Tech News)\n",
            "  • OpenAI Blog (AI/ML)\n",
            "  • Google AI Blog (Research) (AI/ML)\n",
            "  • DeepMind Blog (AI/ML)\n",
            "  • BAIR (Berkeley AI Research) Blog (AI/ML)\n",
            "  • Machine Learning Mastery (AI/ML)\n",
            "  • MarkTechPost (AI News) (AI/ML)\n",
            "  • Analytics Vidhya (Data Science)\n",
            "  • KDnuggets (Data Science)\n",
            "  • Towards Data Science (Data Science)\n",
            "  • Datanami (Data Science)\n",
            "  • Kaggle Blog (Data Science)\n",
            "  • AWS News Blog (Cloud/Enterprise)\n",
            "  • All Things Distributed (AWS CTO) (Cloud/Enterprise)\n",
            "  • Microsoft Azure Blog (Cloud/Enterprise)\n",
            "  • Google Cloud Blog (Cloud/Enterprise)\n",
            "  • CloudTech News (Cloud/Enterprise)\n",
            "  • CloudTweaks (Cloud/Enterprise)\n",
            "  • TechRepublic (Cloud) (Cloud/Enterprise)\n",
            "  • IBM Cloud Blog (Cloud/Enterprise)\n",
            "  • AnandTech (Hardware/Gadgets)\n",
            "  • Tom's Hardware (Hardware/Gadgets)\n",
            "  • 9to5Mac (Hardware/Gadgets)\n",
            "  • Android Authority (Hardware/Gadgets)\n",
            "  • ExtremeTech (Hardware/Gadgets)\n",
            "  • NVIDIA Blog (Big Tech)\n",
            "  • Official Microsoft Blog (Big Tech)\n",
            "  • Apple Newsroom (Big Tech)\n",
            "  • Google (The Keyword) (Big Tech)\n",
            "  • Facebook Newsroom (Meta) (Big Tech)\n",
            "  • Meta Engineering Blog (Big Tech)\n",
            "  • Meta Research Blog (Big Tech)\n",
            "  • Stratechery (Ben Thompson) (Tech Blog)\n",
            "  • Daring Fireball (Tech Blog)\n"
          ]
        }
      ],
      "source": [
        "import sys\n",
        "import os\n",
        "import json\n",
        "import feedparser\n",
        "import requests\n",
        "import pandas as pd\n",
        "import matplotlib.pyplot as plt\n",
        "from datetime import datetime, timedelta\n",
        "from typing import List, Dict, Optional\n",
        "import time\n",
        "import re\n",
        "from tqdm import tqdm\n",
        "\n",
        "# Load RSS feed configuration\n",
        "with open('../config/rss_feeds.json', 'r') as f:\n",
        "    rss_config = json.load(f)\n",
        "\n",
        "print(\"✅ RSS feed configuration loaded\")\n",
        "print(f\"📊 Total feeds configured: {len(rss_config['feeds'])}\")\n",
        "print(f\"⚙️ Settings: {rss_config['settings']}\")\n",
        "\n",
        "# Display enabled feeds\n",
        "enabled_feeds = [feed for feed in rss_config['feeds'] if feed['enabled']]\n",
        "print(f\"\\n📰 Enabled feeds ({len(enabled_feeds)}):\")\n",
        "for feed in enabled_feeds:\n",
        "    print(f\"  • {feed['name']} ({feed['category']})\")\n"
      ]
    },
    {
      "cell_type": "markdown",
      "metadata": {},
      "source": [
        "## RSS Feed Collector Class\n"
      ]
    },
    {
      "cell_type": "code",
      "execution_count": 2,
      "metadata": {},
      "outputs": [],
      "source": [
        "class RSSFeedCollector:\n",
        "    def __init__(self, config):\n",
        "        self.config = config\n",
        "        self.settings = config['settings']\n",
        "        self.feeds = [feed for feed in config['feeds'] if feed['enabled']]\n",
        "        \n",
        "    def clean_text(self, text):\n",
        "        \"\"\"Clean and normalize text content\"\"\"\n",
        "        if not text:\n",
        "            return \"\"\n",
        "        \n",
        "        # Remove HTML tags\n",
        "        text = re.sub(r'<[^>]+>', '', text)\n",
        "        # Normalize whitespace\n",
        "        text = re.sub(r'\\s+', ' ', text)\n",
        "        # Strip leading/trailing whitespace\n",
        "        return text.strip()\n",
        "    \n",
        "    def parse_article(self, entry, feed_info):\n",
        "        \"\"\"Parse a single RSS entry into standardized format\"\"\"\n",
        "        try:\n",
        "            # Handle different date formats\n",
        "            published_date = None\n",
        "            if hasattr(entry, 'published_parsed') and entry.published_parsed:\n",
        "                published_date = datetime(*entry.published_parsed[:6])\n",
        "            elif hasattr(entry, 'updated_parsed') and entry.updated_parsed:\n",
        "                published_date = datetime(*entry.updated_parsed[:6])\n",
        "            \n",
        "            # Clean content\n",
        "            title = self.clean_text(entry.get('title', ''))\n",
        "            summary = self.clean_text(entry.get('summary', ''))\n",
        "            description = self.clean_text(entry.get('description', ''))\n",
        "            \n",
        "            # Use description if summary is empty\n",
        "            if not summary and description:\n",
        "                summary = description\n",
        "            \n",
        "            article = {\n",
        "                'title': title,\n",
        "                'url': entry.get('link', ''),\n",
        "                'summary': summary,\n",
        "                'content': self.clean_text(entry.get('content', [{}])[0].get('value', '')),\n",
        "                'published': published_date.isoformat() if published_date else None,\n",
        "                'author': entry.get('author', ''),\n",
        "                'feed_name': feed_info['name'],\n",
        "                'feed_category': feed_info['category'],\n",
        "                'feed_url': feed_info['url'],\n",
        "                'tags': [tag.term for tag in entry.get('tags', [])],\n",
        "                'guid': entry.get('id', entry.get('guid', '')),\n",
        "                'raw_entry': {\n",
        "                    'title': entry.get('title', ''),\n",
        "                    'summary': entry.get('summary', ''),\n",
        "                    'link': entry.get('link', ''),\n",
        "                    'published': entry.get('published', ''),\n",
        "                    'author': entry.get('author', '')\n",
        "                }\n",
        "            }\n",
        "            \n",
        "            return article\n",
        "            \n",
        "        except Exception as e:\n",
        "            print(f\"Error parsing article: {e}\")\n",
        "            return None\n",
        "    \n",
        "    def fetch_feed(self, feed_info):\n",
        "        \"\"\"Fetch and parse a single RSS feed\"\"\"\n",
        "        try:\n",
        "            # Parse the RSS feed\n",
        "            feed = feedparser.parse(feed_info['url'])\n",
        "            \n",
        "            if feed.bozo:\n",
        "                tqdm.write(f\"⚠️ Warning: {feed_info['name']} has parsing issues\")\n",
        "            \n",
        "            articles = []\n",
        "            cutoff_time = datetime.now() - timedelta(hours=self.settings['max_age_hours'])\n",
        "            \n",
        "            for entry in feed.entries[:self.settings['max_items_per_feed']]:\n",
        "                article = self.parse_article(entry, feed_info)\n",
        "                if article:\n",
        "                    # Filter by age\n",
        "                    if article['published']:\n",
        "                        article_date = datetime.fromisoformat(article['published'].replace('Z', '+00:00'))\n",
        "                        if article_date >= cutoff_time:\n",
        "                            articles.append(article)\n",
        "                    else:\n",
        "                        # If no date, include it (might be recent)\n",
        "                        articles.append(article)\n",
        "            \n",
        "            # Use tqdm.write to avoid interfering with progress bar\n",
        "            tqdm.write(f\"✅ {feed_info['name']}: {len(articles)} articles\")\n",
        "            return articles\n",
        "            \n",
        "        except Exception as e:\n",
        "            tqdm.write(f\"❌ Error fetching {feed_info['name']}: {e}\")\n",
        "            return []\n",
        "    \n",
        "    def collect_all_feeds(self):\n",
        "        \"\"\"Collect articles from all enabled feeds\"\"\"\n",
        "        all_articles = []\n",
        "        feed_stats = []\n",
        "        \n",
        "        # Use tqdm for progress tracking\n",
        "        for feed in tqdm(self.feeds, desc=\"Fetching RSS feeds\", unit=\"feed\"):\n",
        "            articles = self.fetch_feed(feed)\n",
        "            all_articles.extend(articles)\n",
        "            \n",
        "            feed_stats.append({\n",
        "                'feed_name': feed['name'],\n",
        "                'category': feed['category'],\n",
        "                'articles_count': len(articles),\n",
        "                'url': feed['url']\n",
        "            })\n",
        "            \n",
        "            # Minimal delay to be respectful to servers\n",
        "            time.sleep(0.1)  # 100ms delay\n",
        "        \n",
        "        return all_articles, feed_stats\n"
      ]
    },
    {
      "cell_type": "markdown",
      "metadata": {},
      "source": [
        "## Collect RSS Data\n"
      ]
    },
    {
      "cell_type": "code",
      "execution_count": 3,
      "metadata": {},
      "outputs": [
        {
          "name": "stdout",
          "output_type": "stream",
          "text": [
            "🚀 Starting RSS feed collection...\n",
            "⏰ Collecting articles from last 24 hours\n",
            "============================================================\n"
          ]
        },
        {
          "name": "stderr",
          "output_type": "stream",
          "text": [
            "Fetching RSS feeds:   0%|          | 0/61 [00:00<?, ?feed/s]"
          ]
        },
        {
          "name": "stdout",
          "output_type": "stream",
          "text": [
            "✅ TechCrunch: 9 articles\n"
          ]
        },
        {
          "name": "stderr",
          "output_type": "stream",
          "text": [
            "Fetching RSS feeds:   2%|▏         | 1/61 [00:00<00:11,  5.20feed/s]"
          ]
        },
        {
          "name": "stdout",
          "output_type": "stream",
          "text": [
            "✅ WIRED: 10 articles\n"
          ]
        },
        {
          "name": "stderr",
          "output_type": "stream",
          "text": [
            "Fetching RSS feeds:   5%|▍         | 3/61 [00:00<00:11,  5.03feed/s]"
          ]
        },
        {
          "name": "stdout",
          "output_type": "stream",
          "text": [
            "✅ The Verge: 10 articles\n"
          ]
        },
        {
          "name": "stderr",
          "output_type": "stream",
          "text": [
            "Fetching RSS feeds:   7%|▋         | 4/61 [00:00<00:12,  4.67feed/s]"
          ]
        },
        {
          "name": "stdout",
          "output_type": "stream",
          "text": [
            "✅ Ars Technica: 0 articles\n"
          ]
        },
        {
          "name": "stderr",
          "output_type": "stream",
          "text": [
            "Fetching RSS feeds:   8%|▊         | 5/61 [00:01<00:23,  2.37feed/s]"
          ]
        },
        {
          "name": "stdout",
          "output_type": "stream",
          "text": [
            "⚠️ Warning: Engadget has parsing issues\n",
            "✅ Engadget: 15 articles\n"
          ]
        },
        {
          "name": "stderr",
          "output_type": "stream",
          "text": [
            "Fetching RSS feeds:  10%|▉         | 6/61 [00:02<00:20,  2.64feed/s]"
          ]
        },
        {
          "name": "stdout",
          "output_type": "stream",
          "text": [
            "✅ Gizmodo: 18 articles\n",
            "✅ CNET News: 25 articles\n"
          ]
        },
        {
          "name": "stderr",
          "output_type": "stream",
          "text": [
            "Fetching RSS feeds:  13%|█▎        | 8/61 [00:03<00:37,  1.40feed/s]"
          ]
        },
        {
          "name": "stdout",
          "output_type": "stream",
          "text": [
            "⚠️ Warning: TechRadar has parsing issues\n",
            "✅ TechRadar: 0 articles\n"
          ]
        },
        {
          "name": "stderr",
          "output_type": "stream",
          "text": [
            "Fetching RSS feeds:  15%|█▍        | 9/61 [00:03<00:30,  1.71feed/s]"
          ]
        },
        {
          "name": "stdout",
          "output_type": "stream",
          "text": [
            "⚠️ Warning: Digital Trends has parsing issues\n",
            "✅ Digital Trends: 0 articles\n"
          ]
        },
        {
          "name": "stderr",
          "output_type": "stream",
          "text": [
            "Fetching RSS feeds:  16%|█▋        | 10/61 [00:04<00:24,  2.12feed/s]"
          ]
        },
        {
          "name": "stdout",
          "output_type": "stream",
          "text": [
            "⚠️ Warning: VentureBeat has parsing issues\n",
            "✅ VentureBeat: 0 articles\n"
          ]
        },
        {
          "name": "stderr",
          "output_type": "stream",
          "text": [
            "Fetching RSS feeds:  18%|█▊        | 11/61 [00:04<00:19,  2.53feed/s]"
          ]
        },
        {
          "name": "stdout",
          "output_type": "stream",
          "text": [
            "✅ Recode (Vox Technology): 1 articles\n"
          ]
        },
        {
          "name": "stderr",
          "output_type": "stream",
          "text": [
            "Fetching RSS feeds:  20%|█▉        | 12/61 [00:04<00:18,  2.69feed/s]"
          ]
        },
        {
          "name": "stdout",
          "output_type": "stream",
          "text": [
            "✅ GeekWire: 5 articles\n"
          ]
        },
        {
          "name": "stderr",
          "output_type": "stream",
          "text": [
            "Fetching RSS feeds:  21%|██▏       | 13/61 [00:05<00:21,  2.24feed/s]"
          ]
        },
        {
          "name": "stdout",
          "output_type": "stream",
          "text": [
            "✅ Mashable (Tech): 25 articles\n"
          ]
        },
        {
          "name": "stderr",
          "output_type": "stream",
          "text": [
            "Fetching RSS feeds:  23%|██▎       | 14/61 [00:05<00:20,  2.29feed/s]"
          ]
        },
        {
          "name": "stdout",
          "output_type": "stream",
          "text": [
            "✅ Hacker News (Top): 17 articles\n"
          ]
        },
        {
          "name": "stderr",
          "output_type": "stream",
          "text": [
            "Fetching RSS feeds:  25%|██▍       | 15/61 [00:06<00:21,  2.18feed/s]"
          ]
        },
        {
          "name": "stdout",
          "output_type": "stream",
          "text": [
            "⚠️ Warning: TechMeme has parsing issues\n",
            "✅ TechMeme: 15 articles\n"
          ]
        },
        {
          "name": "stderr",
          "output_type": "stream",
          "text": [
            "Fetching RSS feeds:  26%|██▌       | 16/61 [00:06<00:17,  2.63feed/s]"
          ]
        },
        {
          "name": "stdout",
          "output_type": "stream",
          "text": [
            "✅ Slashdot: 15 articles\n"
          ]
        },
        {
          "name": "stderr",
          "output_type": "stream",
          "text": [
            "Fetching RSS feeds:  28%|██▊       | 17/61 [00:07<00:18,  2.33feed/s]"
          ]
        },
        {
          "name": "stdout",
          "output_type": "stream",
          "text": [
            "✅ Lifehacker: 0 articles\n",
            "✅ MIT Technology Review: 0 articles\n"
          ]
        },
        {
          "name": "stderr",
          "output_type": "stream",
          "text": [
            "Fetching RSS feeds:  31%|███       | 19/61 [00:07<00:15,  2.73feed/s]"
          ]
        },
        {
          "name": "stdout",
          "output_type": "stream",
          "text": [
            "✅ BBC News - Technology: 0 articles\n"
          ]
        },
        {
          "name": "stderr",
          "output_type": "stream",
          "text": [
            "Fetching RSS feeds:  33%|███▎      | 20/61 [00:07<00:13,  3.12feed/s]"
          ]
        },
        {
          "name": "stdout",
          "output_type": "stream",
          "text": [
            "✅ The Guardian - Technology: 4 articles\n",
            "✅ NY Times - Technology: 3 articles\n"
          ]
        },
        {
          "name": "stderr",
          "output_type": "stream",
          "text": [
            "Fetching RSS feeds:  36%|███▌      | 22/61 [00:08<00:08,  4.35feed/s]"
          ]
        },
        {
          "name": "stdout",
          "output_type": "stream",
          "text": [
            "⚠️ Warning: Reuters Technology News has parsing issues\n",
            "✅ Reuters Technology News: 0 articles\n"
          ]
        },
        {
          "name": "stderr",
          "output_type": "stream",
          "text": [
            "Fetching RSS feeds:  38%|███▊      | 23/61 [00:08<00:10,  3.48feed/s]"
          ]
        },
        {
          "name": "stdout",
          "output_type": "stream",
          "text": [
            "✅ CNN Technology: 20 articles\n"
          ]
        },
        {
          "name": "stderr",
          "output_type": "stream",
          "text": [
            "Fetching RSS feeds:  39%|███▉      | 24/61 [00:08<00:10,  3.39feed/s]"
          ]
        },
        {
          "name": "stdout",
          "output_type": "stream",
          "text": [
            "✅ Business Insider (Tech): 20 articles\n"
          ]
        },
        {
          "name": "stderr",
          "output_type": "stream",
          "text": [
            "Fetching RSS feeds:  41%|████      | 25/61 [00:09<00:10,  3.31feed/s]"
          ]
        },
        {
          "name": "stdout",
          "output_type": "stream",
          "text": [
            "✅ HuffPost Tech: 0 articles\n"
          ]
        },
        {
          "name": "stderr",
          "output_type": "stream",
          "text": [
            "Fetching RSS feeds:  43%|████▎     | 26/61 [00:09<00:10,  3.41feed/s]"
          ]
        },
        {
          "name": "stdout",
          "output_type": "stream",
          "text": [
            "✅ ZDNet (All Topics): 5 articles\n"
          ]
        },
        {
          "name": "stderr",
          "output_type": "stream",
          "text": [
            "Fetching RSS feeds:  44%|████▍     | 27/61 [00:09<00:12,  2.72feed/s]"
          ]
        },
        {
          "name": "stdout",
          "output_type": "stream",
          "text": [
            "⚠️ Warning: InfoWorld has parsing issues\n",
            "✅ InfoWorld: 0 articles\n"
          ]
        },
        {
          "name": "stderr",
          "output_type": "stream",
          "text": [
            "Fetching RSS feeds:  46%|████▌     | 28/61 [00:10<00:14,  2.35feed/s]"
          ]
        },
        {
          "name": "stdout",
          "output_type": "stream",
          "text": [
            "⚠️ Warning: Computerworld has parsing issues\n",
            "✅ Computerworld: 0 articles\n"
          ]
        },
        {
          "name": "stderr",
          "output_type": "stream",
          "text": [
            "Fetching RSS feeds:  48%|████▊     | 29/61 [00:10<00:13,  2.39feed/s]"
          ]
        },
        {
          "name": "stdout",
          "output_type": "stream",
          "text": [
            "✅ OpenAI Blog: 0 articles\n"
          ]
        },
        {
          "name": "stderr",
          "output_type": "stream",
          "text": [
            "Fetching RSS feeds:  49%|████▉     | 30/61 [00:11<00:12,  2.54feed/s]"
          ]
        },
        {
          "name": "stdout",
          "output_type": "stream",
          "text": [
            "✅ Google AI Blog (Research): 0 articles\n"
          ]
        },
        {
          "name": "stderr",
          "output_type": "stream",
          "text": [
            "Fetching RSS feeds:  51%|█████     | 31/61 [00:11<00:14,  2.02feed/s]"
          ]
        },
        {
          "name": "stdout",
          "output_type": "stream",
          "text": [
            "✅ DeepMind Blog: 0 articles\n"
          ]
        },
        {
          "name": "stderr",
          "output_type": "stream",
          "text": [
            "Fetching RSS feeds:  52%|█████▏    | 32/61 [00:12<00:14,  1.96feed/s]"
          ]
        },
        {
          "name": "stdout",
          "output_type": "stream",
          "text": [
            "✅ BAIR (Berkeley AI Research) Blog: 0 articles\n",
            "✅ Machine Learning Mastery: 0 articles\n"
          ]
        },
        {
          "name": "stderr",
          "output_type": "stream",
          "text": [
            "Fetching RSS feeds:  56%|█████▌    | 34/61 [00:16<00:36,  1.36s/feed]"
          ]
        },
        {
          "name": "stdout",
          "output_type": "stream",
          "text": [
            "✅ MarkTechPost (AI News): 5 articles\n"
          ]
        },
        {
          "name": "stderr",
          "output_type": "stream",
          "text": [
            "Fetching RSS feeds:  57%|█████▋    | 35/61 [00:18<00:43,  1.68s/feed]"
          ]
        },
        {
          "name": "stdout",
          "output_type": "stream",
          "text": [
            "✅ Analytics Vidhya: 2 articles\n",
            "✅ KDnuggets: 0 articles\n"
          ]
        },
        {
          "name": "stderr",
          "output_type": "stream",
          "text": [
            "Fetching RSS feeds:  61%|██████    | 37/61 [00:19<00:25,  1.06s/feed]"
          ]
        },
        {
          "name": "stdout",
          "output_type": "stream",
          "text": [
            "✅ Towards Data Science: 3 articles\n"
          ]
        },
        {
          "name": "stderr",
          "output_type": "stream",
          "text": [
            "Fetching RSS feeds:  62%|██████▏   | 38/61 [00:19<00:19,  1.16feed/s]"
          ]
        },
        {
          "name": "stdout",
          "output_type": "stream",
          "text": [
            "✅ Datanami: 0 articles\n"
          ]
        },
        {
          "name": "stderr",
          "output_type": "stream",
          "text": [
            "Fetching RSS feeds:  64%|██████▍   | 39/61 [00:20<00:15,  1.39feed/s]"
          ]
        },
        {
          "name": "stdout",
          "output_type": "stream",
          "text": [
            "✅ Kaggle Blog: 0 articles\n"
          ]
        },
        {
          "name": "stderr",
          "output_type": "stream",
          "text": [
            "Fetching RSS feeds:  66%|██████▌   | 40/61 [00:20<00:13,  1.58feed/s]"
          ]
        },
        {
          "name": "stdout",
          "output_type": "stream",
          "text": [
            "✅ AWS News Blog: 0 articles\n"
          ]
        },
        {
          "name": "stderr",
          "output_type": "stream",
          "text": [
            "Fetching RSS feeds:  67%|██████▋   | 41/61 [00:21<00:10,  1.96feed/s]"
          ]
        },
        {
          "name": "stdout",
          "output_type": "stream",
          "text": [
            "✅ All Things Distributed (AWS CTO): 0 articles\n"
          ]
        },
        {
          "name": "stderr",
          "output_type": "stream",
          "text": [
            "Fetching RSS feeds:  69%|██████▉   | 42/61 [00:21<00:08,  2.23feed/s]"
          ]
        },
        {
          "name": "stdout",
          "output_type": "stream",
          "text": [
            "✅ Microsoft Azure Blog: 0 articles\n"
          ]
        },
        {
          "name": "stderr",
          "output_type": "stream",
          "text": [
            "Fetching RSS feeds:  70%|███████   | 43/61 [00:23<00:14,  1.21feed/s]"
          ]
        },
        {
          "name": "stdout",
          "output_type": "stream",
          "text": [
            "✅ Google Cloud Blog: 0 articles\n"
          ]
        },
        {
          "name": "stderr",
          "output_type": "stream",
          "text": [
            "Fetching RSS feeds:  72%|███████▏  | 44/61 [00:24<00:18,  1.07s/feed]"
          ]
        },
        {
          "name": "stdout",
          "output_type": "stream",
          "text": [
            "✅ CloudTech News: 0 articles\n"
          ]
        },
        {
          "name": "stderr",
          "output_type": "stream",
          "text": [
            "Fetching RSS feeds:  74%|███████▍  | 45/61 [00:25<00:16,  1.01s/feed]"
          ]
        },
        {
          "name": "stdout",
          "output_type": "stream",
          "text": [
            "✅ CloudTweaks: 0 articles\n"
          ]
        },
        {
          "name": "stderr",
          "output_type": "stream",
          "text": [
            "Fetching RSS feeds:  75%|███████▌  | 46/61 [00:25<00:11,  1.28feed/s]"
          ]
        },
        {
          "name": "stdout",
          "output_type": "stream",
          "text": [
            "✅ TechRepublic (Cloud): 0 articles\n"
          ]
        },
        {
          "name": "stderr",
          "output_type": "stream",
          "text": [
            "Fetching RSS feeds:  77%|███████▋  | 47/61 [00:26<00:08,  1.56feed/s]"
          ]
        },
        {
          "name": "stdout",
          "output_type": "stream",
          "text": [
            "⚠️ Warning: IBM Cloud Blog has parsing issues\n",
            "✅ IBM Cloud Blog: 0 articles\n"
          ]
        },
        {
          "name": "stderr",
          "output_type": "stream",
          "text": [
            "Fetching RSS feeds:  79%|███████▊  | 48/61 [00:27<00:10,  1.26feed/s]"
          ]
        },
        {
          "name": "stdout",
          "output_type": "stream",
          "text": [
            "⚠️ Warning: AnandTech has parsing issues\n",
            "✅ AnandTech: 0 articles\n"
          ]
        },
        {
          "name": "stderr",
          "output_type": "stream",
          "text": [
            "Fetching RSS feeds:  80%|████████  | 49/61 [00:27<00:08,  1.41feed/s]"
          ]
        },
        {
          "name": "stdout",
          "output_type": "stream",
          "text": [
            "✅ Tom's Hardware: 17 articles\n"
          ]
        },
        {
          "name": "stderr",
          "output_type": "stream",
          "text": [
            "Fetching RSS feeds:  82%|████████▏ | 50/61 [00:28<00:06,  1.74feed/s]"
          ]
        },
        {
          "name": "stdout",
          "output_type": "stream",
          "text": [
            "✅ 9to5Mac: 13 articles\n"
          ]
        },
        {
          "name": "stderr",
          "output_type": "stream",
          "text": [
            "Fetching RSS feeds:  84%|████████▎ | 51/61 [00:28<00:05,  1.92feed/s]"
          ]
        },
        {
          "name": "stdout",
          "output_type": "stream",
          "text": [
            "✅ Android Authority: 16 articles\n",
            "✅ ExtremeTech: 0 articles\n"
          ]
        },
        {
          "name": "stderr",
          "output_type": "stream",
          "text": [
            "Fetching RSS feeds:  87%|████████▋ | 53/61 [00:29<00:04,  1.76feed/s]"
          ]
        },
        {
          "name": "stdout",
          "output_type": "stream",
          "text": [
            "✅ NVIDIA Blog: 0 articles\n"
          ]
        },
        {
          "name": "stderr",
          "output_type": "stream",
          "text": [
            "Fetching RSS feeds:  89%|████████▊ | 54/61 [00:29<00:03,  2.04feed/s]"
          ]
        },
        {
          "name": "stdout",
          "output_type": "stream",
          "text": [
            "✅ Official Microsoft Blog: 0 articles\n",
            "✅ Apple Newsroom: 0 articles\n"
          ]
        },
        {
          "name": "stderr",
          "output_type": "stream",
          "text": [
            "Fetching RSS feeds:  92%|█████████▏| 56/61 [00:30<00:01,  2.87feed/s]"
          ]
        },
        {
          "name": "stdout",
          "output_type": "stream",
          "text": [
            "✅ Google (The Keyword): 0 articles\n"
          ]
        },
        {
          "name": "stderr",
          "output_type": "stream",
          "text": [
            "Fetching RSS feeds:  93%|█████████▎| 57/61 [00:30<00:01,  3.23feed/s]"
          ]
        },
        {
          "name": "stdout",
          "output_type": "stream",
          "text": [
            "✅ Facebook Newsroom (Meta): 0 articles\n",
            "✅ Meta Engineering Blog: 0 articles\n"
          ]
        },
        {
          "name": "stderr",
          "output_type": "stream",
          "text": [
            "Fetching RSS feeds:  97%|█████████▋| 59/61 [00:31<00:01,  1.87feed/s]"
          ]
        },
        {
          "name": "stdout",
          "output_type": "stream",
          "text": [
            "✅ Meta Research Blog: 10 articles\n",
            "✅ Stratechery (Ben Thompson): 0 articles\n"
          ]
        },
        {
          "name": "stderr",
          "output_type": "stream",
          "text": [
            "Fetching RSS feeds: 100%|██████████| 61/61 [00:32<00:00,  1.88feed/s]"
          ]
        },
        {
          "name": "stdout",
          "output_type": "stream",
          "text": [
            "✅ Daring Fireball: 1 articles\n",
            "============================================================\n",
            "✅ Collection complete!\n",
            "📊 Total articles collected: 284\n",
            "📰 Feeds processed: 61\n",
            "\n",
            "📈 Feed Statistics:\n",
            "  • TechCrunch: 9 articles\n",
            "  • WIRED: 10 articles\n",
            "  • The Verge: 10 articles\n",
            "  • Ars Technica: 0 articles\n",
            "  • Engadget: 15 articles\n",
            "  • Gizmodo: 18 articles\n",
            "  • CNET News: 25 articles\n",
            "  • TechRadar: 0 articles\n",
            "  • Digital Trends: 0 articles\n",
            "  • VentureBeat: 0 articles\n",
            "  • Recode (Vox Technology): 1 articles\n",
            "  • GeekWire: 5 articles\n",
            "  • Mashable (Tech): 25 articles\n",
            "  • Hacker News (Top): 17 articles\n",
            "  • TechMeme: 15 articles\n",
            "  • Slashdot: 15 articles\n",
            "  • Lifehacker: 0 articles\n",
            "  • MIT Technology Review: 0 articles\n",
            "  • BBC News - Technology: 0 articles\n",
            "  • The Guardian - Technology: 4 articles\n",
            "  • NY Times - Technology: 3 articles\n",
            "  • Reuters Technology News: 0 articles\n",
            "  • CNN Technology: 20 articles\n",
            "  • Business Insider (Tech): 20 articles\n",
            "  • HuffPost Tech: 0 articles\n",
            "  • ZDNet (All Topics): 5 articles\n",
            "  • InfoWorld: 0 articles\n",
            "  • Computerworld: 0 articles\n",
            "  • OpenAI Blog: 0 articles\n",
            "  • Google AI Blog (Research): 0 articles\n",
            "  • DeepMind Blog: 0 articles\n",
            "  • BAIR (Berkeley AI Research) Blog: 0 articles\n",
            "  • Machine Learning Mastery: 0 articles\n",
            "  • MarkTechPost (AI News): 5 articles\n",
            "  • Analytics Vidhya: 2 articles\n",
            "  • KDnuggets: 0 articles\n",
            "  • Towards Data Science: 3 articles\n",
            "  • Datanami: 0 articles\n",
            "  • Kaggle Blog: 0 articles\n",
            "  • AWS News Blog: 0 articles\n",
            "  • All Things Distributed (AWS CTO): 0 articles\n",
            "  • Microsoft Azure Blog: 0 articles\n",
            "  • Google Cloud Blog: 0 articles\n",
            "  • CloudTech News: 0 articles\n",
            "  • CloudTweaks: 0 articles\n",
            "  • TechRepublic (Cloud): 0 articles\n",
            "  • IBM Cloud Blog: 0 articles\n",
            "  • AnandTech: 0 articles\n",
            "  • Tom's Hardware: 17 articles\n",
            "  • 9to5Mac: 13 articles\n",
            "  • Android Authority: 16 articles\n",
            "  • ExtremeTech: 0 articles\n",
            "  • NVIDIA Blog: 0 articles\n",
            "  • Official Microsoft Blog: 0 articles\n",
            "  • Apple Newsroom: 0 articles\n",
            "  • Google (The Keyword): 0 articles\n",
            "  • Facebook Newsroom (Meta): 0 articles\n",
            "  • Meta Engineering Blog: 0 articles\n",
            "  • Meta Research Blog: 10 articles\n",
            "  • Stratechery (Ben Thompson): 0 articles\n",
            "  • Daring Fireball: 1 articles\n"
          ]
        },
        {
          "name": "stderr",
          "output_type": "stream",
          "text": [
            "\n"
          ]
        }
      ],
      "source": [
        "# Initialize collector\n",
        "collector = RSSFeedCollector(rss_config)\n",
        "\n",
        "# Collect articles from all feeds\n",
        "print(\"🚀 Starting RSS feed collection...\")\n",
        "print(f\"⏰ Collecting articles from last {rss_config['settings']['max_age_hours']} hours\")\n",
        "print(\"=\" * 60)\n",
        "\n",
        "all_articles, feed_stats = collector.collect_all_feeds()\n",
        "\n",
        "print(\"=\" * 60)\n",
        "print(f\"✅ Collection complete!\")\n",
        "print(f\"📊 Total articles collected: {len(all_articles)}\")\n",
        "print(f\"📰 Feeds processed: {len(feed_stats)}\")\n",
        "\n",
        "# Display feed statistics\n",
        "print(f\"\\n📈 Feed Statistics:\")\n",
        "for stat in feed_stats:\n",
        "    print(f\"  • {stat['feed_name']}: {stat['articles_count']} articles\")\n"
      ]
    },
    {
      "cell_type": "markdown",
      "metadata": {},
      "source": [
        "## Analyze and Save Data\n"
      ]
    },
    {
      "cell_type": "code",
      "execution_count": 4,
      "metadata": {},
      "outputs": [
        {
          "name": "stdout",
          "output_type": "stream",
          "text": [
            "📊 Data Analysis:\n",
            "   Total articles: 284\n",
            "   Unique feeds: 25\n",
            "   Categories: ['Tech News', 'AI/ML', 'Data Science', 'Hardware/Gadgets', 'Big Tech', 'Tech Blog']\n"
          ]
        },
        {
          "ename": "TypeError",
          "evalue": "'<=' not supported between instances of 'str' and 'float'",
          "output_type": "error",
          "traceback": [
            "\u001b[31m---------------------------------------------------------------------------\u001b[39m",
            "\u001b[31mTypeError\u001b[39m                                 Traceback (most recent call last)",
            "\u001b[36mCell\u001b[39m\u001b[36m \u001b[39m\u001b[32mIn[4]\u001b[39m\u001b[32m, line 12\u001b[39m\n\u001b[32m     10\u001b[39m \u001b[38;5;28mprint\u001b[39m(\u001b[33mf\u001b[39m\u001b[33m\"\u001b[39m\u001b[33m   Unique feeds: \u001b[39m\u001b[38;5;132;01m{\u001b[39;00mdf[\u001b[33m'\u001b[39m\u001b[33mfeed_name\u001b[39m\u001b[33m'\u001b[39m].nunique()\u001b[38;5;132;01m}\u001b[39;00m\u001b[33m\"\u001b[39m)\n\u001b[32m     11\u001b[39m \u001b[38;5;28mprint\u001b[39m(\u001b[33mf\u001b[39m\u001b[33m\"\u001b[39m\u001b[33m   Categories: \u001b[39m\u001b[38;5;132;01m{\u001b[39;00mdf[\u001b[33m'\u001b[39m\u001b[33mfeed_category\u001b[39m\u001b[33m'\u001b[39m].unique().tolist()\u001b[38;5;132;01m}\u001b[39;00m\u001b[33m\"\u001b[39m)\n\u001b[32m---> \u001b[39m\u001b[32m12\u001b[39m \u001b[38;5;28mprint\u001b[39m(\u001b[33mf\u001b[39m\u001b[33m\"\u001b[39m\u001b[33m   Date range: \u001b[39m\u001b[38;5;132;01m{\u001b[39;00m\u001b[43mdf\u001b[49m\u001b[43m[\u001b[49m\u001b[33;43m'\u001b[39;49m\u001b[33;43mpublished\u001b[39;49m\u001b[33;43m'\u001b[39;49m\u001b[43m]\u001b[49m\u001b[43m.\u001b[49m\u001b[43mmin\u001b[49m\u001b[43m(\u001b[49m\u001b[43m)\u001b[49m\u001b[38;5;132;01m}\u001b[39;00m\u001b[33m to \u001b[39m\u001b[38;5;132;01m{\u001b[39;00mdf[\u001b[33m'\u001b[39m\u001b[33mpublished\u001b[39m\u001b[33m'\u001b[39m].max()\u001b[38;5;132;01m}\u001b[39;00m\u001b[33m\"\u001b[39m)\n\u001b[32m     14\u001b[39m \u001b[38;5;66;03m# Articles by category\u001b[39;00m\n\u001b[32m     15\u001b[39m category_counts = df[\u001b[33m'\u001b[39m\u001b[33mfeed_category\u001b[39m\u001b[33m'\u001b[39m].value_counts()\n",
            "\u001b[36mFile \u001b[39m\u001b[32m~/Documents/Dev/Python/Bit-by-Bit/venv/lib/python3.13/site-packages/pandas/core/series.py:6518\u001b[39m, in \u001b[36mSeries.min\u001b[39m\u001b[34m(self, axis, skipna, numeric_only, **kwargs)\u001b[39m\n\u001b[32m   6510\u001b[39m \u001b[38;5;129m@doc\u001b[39m(make_doc(\u001b[33m\"\u001b[39m\u001b[33mmin\u001b[39m\u001b[33m\"\u001b[39m, ndim=\u001b[32m1\u001b[39m))\n\u001b[32m   6511\u001b[39m \u001b[38;5;28;01mdef\u001b[39;00m\u001b[38;5;250m \u001b[39m\u001b[34mmin\u001b[39m(\n\u001b[32m   6512\u001b[39m     \u001b[38;5;28mself\u001b[39m,\n\u001b[32m   (...)\u001b[39m\u001b[32m   6516\u001b[39m     **kwargs,\n\u001b[32m   6517\u001b[39m ):\n\u001b[32m-> \u001b[39m\u001b[32m6518\u001b[39m     \u001b[38;5;28;01mreturn\u001b[39;00m \u001b[43mNDFrame\u001b[49m\u001b[43m.\u001b[49m\u001b[43mmin\u001b[49m\u001b[43m(\u001b[49m\u001b[38;5;28;43mself\u001b[39;49m\u001b[43m,\u001b[49m\u001b[43m \u001b[49m\u001b[43maxis\u001b[49m\u001b[43m,\u001b[49m\u001b[43m \u001b[49m\u001b[43mskipna\u001b[49m\u001b[43m,\u001b[49m\u001b[43m \u001b[49m\u001b[43mnumeric_only\u001b[49m\u001b[43m,\u001b[49m\u001b[43m \u001b[49m\u001b[43m*\u001b[49m\u001b[43m*\u001b[49m\u001b[43mkwargs\u001b[49m\u001b[43m)\u001b[49m\n",
            "\u001b[36mFile \u001b[39m\u001b[32m~/Documents/Dev/Python/Bit-by-Bit/venv/lib/python3.13/site-packages/pandas/core/generic.py:12407\u001b[39m, in \u001b[36mNDFrame.min\u001b[39m\u001b[34m(self, axis, skipna, numeric_only, **kwargs)\u001b[39m\n\u001b[32m  12400\u001b[39m \u001b[38;5;28;01mdef\u001b[39;00m\u001b[38;5;250m \u001b[39m\u001b[34mmin\u001b[39m(\n\u001b[32m  12401\u001b[39m     \u001b[38;5;28mself\u001b[39m,\n\u001b[32m  12402\u001b[39m     axis: Axis | \u001b[38;5;28;01mNone\u001b[39;00m = \u001b[32m0\u001b[39m,\n\u001b[32m   (...)\u001b[39m\u001b[32m  12405\u001b[39m     **kwargs,\n\u001b[32m  12406\u001b[39m ):\n\u001b[32m> \u001b[39m\u001b[32m12407\u001b[39m     \u001b[38;5;28;01mreturn\u001b[39;00m \u001b[38;5;28;43mself\u001b[39;49m\u001b[43m.\u001b[49m\u001b[43m_stat_function\u001b[49m\u001b[43m(\u001b[49m\n\u001b[32m  12408\u001b[39m \u001b[43m        \u001b[49m\u001b[33;43m\"\u001b[39;49m\u001b[33;43mmin\u001b[39;49m\u001b[33;43m\"\u001b[39;49m\u001b[43m,\u001b[49m\n\u001b[32m  12409\u001b[39m \u001b[43m        \u001b[49m\u001b[43mnanops\u001b[49m\u001b[43m.\u001b[49m\u001b[43mnanmin\u001b[49m\u001b[43m,\u001b[49m\n\u001b[32m  12410\u001b[39m \u001b[43m        \u001b[49m\u001b[43maxis\u001b[49m\u001b[43m,\u001b[49m\n\u001b[32m  12411\u001b[39m \u001b[43m        \u001b[49m\u001b[43mskipna\u001b[49m\u001b[43m,\u001b[49m\n\u001b[32m  12412\u001b[39m \u001b[43m        \u001b[49m\u001b[43mnumeric_only\u001b[49m\u001b[43m,\u001b[49m\n\u001b[32m  12413\u001b[39m \u001b[43m        \u001b[49m\u001b[43m*\u001b[49m\u001b[43m*\u001b[49m\u001b[43mkwargs\u001b[49m\u001b[43m,\u001b[49m\n\u001b[32m  12414\u001b[39m \u001b[43m    \u001b[49m\u001b[43m)\u001b[49m\n",
            "\u001b[36mFile \u001b[39m\u001b[32m~/Documents/Dev/Python/Bit-by-Bit/venv/lib/python3.13/site-packages/pandas/core/generic.py:12396\u001b[39m, in \u001b[36mNDFrame._stat_function\u001b[39m\u001b[34m(self, name, func, axis, skipna, numeric_only, **kwargs)\u001b[39m\n\u001b[32m  12392\u001b[39m nv.validate_func(name, (), kwargs)\n\u001b[32m  12394\u001b[39m validate_bool_kwarg(skipna, \u001b[33m\"\u001b[39m\u001b[33mskipna\u001b[39m\u001b[33m\"\u001b[39m, none_allowed=\u001b[38;5;28;01mFalse\u001b[39;00m)\n\u001b[32m> \u001b[39m\u001b[32m12396\u001b[39m \u001b[38;5;28;01mreturn\u001b[39;00m \u001b[38;5;28;43mself\u001b[39;49m\u001b[43m.\u001b[49m\u001b[43m_reduce\u001b[49m\u001b[43m(\u001b[49m\n\u001b[32m  12397\u001b[39m \u001b[43m    \u001b[49m\u001b[43mfunc\u001b[49m\u001b[43m,\u001b[49m\u001b[43m \u001b[49m\u001b[43mname\u001b[49m\u001b[43m=\u001b[49m\u001b[43mname\u001b[49m\u001b[43m,\u001b[49m\u001b[43m \u001b[49m\u001b[43maxis\u001b[49m\u001b[43m=\u001b[49m\u001b[43maxis\u001b[49m\u001b[43m,\u001b[49m\u001b[43m \u001b[49m\u001b[43mskipna\u001b[49m\u001b[43m=\u001b[49m\u001b[43mskipna\u001b[49m\u001b[43m,\u001b[49m\u001b[43m \u001b[49m\u001b[43mnumeric_only\u001b[49m\u001b[43m=\u001b[49m\u001b[43mnumeric_only\u001b[49m\n\u001b[32m  12398\u001b[39m \u001b[43m\u001b[49m\u001b[43m)\u001b[49m\n",
            "\u001b[36mFile \u001b[39m\u001b[32m~/Documents/Dev/Python/Bit-by-Bit/venv/lib/python3.13/site-packages/pandas/core/series.py:6468\u001b[39m, in \u001b[36mSeries._reduce\u001b[39m\u001b[34m(self, op, name, axis, skipna, numeric_only, filter_type, **kwds)\u001b[39m\n\u001b[32m   6463\u001b[39m     \u001b[38;5;66;03m# GH#47500 - change to TypeError to match other methods\u001b[39;00m\n\u001b[32m   6464\u001b[39m     \u001b[38;5;28;01mraise\u001b[39;00m \u001b[38;5;167;01mTypeError\u001b[39;00m(\n\u001b[32m   6465\u001b[39m         \u001b[33mf\u001b[39m\u001b[33m\"\u001b[39m\u001b[33mSeries.\u001b[39m\u001b[38;5;132;01m{\u001b[39;00mname\u001b[38;5;132;01m}\u001b[39;00m\u001b[33m does not allow \u001b[39m\u001b[38;5;132;01m{\u001b[39;00mkwd_name\u001b[38;5;132;01m}\u001b[39;00m\u001b[33m=\u001b[39m\u001b[38;5;132;01m{\u001b[39;00mnumeric_only\u001b[38;5;132;01m}\u001b[39;00m\u001b[33m \u001b[39m\u001b[33m\"\u001b[39m\n\u001b[32m   6466\u001b[39m         \u001b[33m\"\u001b[39m\u001b[33mwith non-numeric dtypes.\u001b[39m\u001b[33m\"\u001b[39m\n\u001b[32m   6467\u001b[39m     )\n\u001b[32m-> \u001b[39m\u001b[32m6468\u001b[39m \u001b[38;5;28;01mreturn\u001b[39;00m \u001b[43mop\u001b[49m\u001b[43m(\u001b[49m\u001b[43mdelegate\u001b[49m\u001b[43m,\u001b[49m\u001b[43m \u001b[49m\u001b[43mskipna\u001b[49m\u001b[43m=\u001b[49m\u001b[43mskipna\u001b[49m\u001b[43m,\u001b[49m\u001b[43m \u001b[49m\u001b[43m*\u001b[49m\u001b[43m*\u001b[49m\u001b[43mkwds\u001b[49m\u001b[43m)\u001b[49m\n",
            "\u001b[36mFile \u001b[39m\u001b[32m~/Documents/Dev/Python/Bit-by-Bit/venv/lib/python3.13/site-packages/pandas/core/nanops.py:147\u001b[39m, in \u001b[36mbottleneck_switch.__call__.<locals>.f\u001b[39m\u001b[34m(values, axis, skipna, **kwds)\u001b[39m\n\u001b[32m    145\u001b[39m         result = alt(values, axis=axis, skipna=skipna, **kwds)\n\u001b[32m    146\u001b[39m \u001b[38;5;28;01melse\u001b[39;00m:\n\u001b[32m--> \u001b[39m\u001b[32m147\u001b[39m     result = \u001b[43malt\u001b[49m\u001b[43m(\u001b[49m\u001b[43mvalues\u001b[49m\u001b[43m,\u001b[49m\u001b[43m \u001b[49m\u001b[43maxis\u001b[49m\u001b[43m=\u001b[49m\u001b[43maxis\u001b[49m\u001b[43m,\u001b[49m\u001b[43m \u001b[49m\u001b[43mskipna\u001b[49m\u001b[43m=\u001b[49m\u001b[43mskipna\u001b[49m\u001b[43m,\u001b[49m\u001b[43m \u001b[49m\u001b[43m*\u001b[49m\u001b[43m*\u001b[49m\u001b[43mkwds\u001b[49m\u001b[43m)\u001b[49m\n\u001b[32m    149\u001b[39m \u001b[38;5;28;01mreturn\u001b[39;00m result\n",
            "\u001b[36mFile \u001b[39m\u001b[32m~/Documents/Dev/Python/Bit-by-Bit/venv/lib/python3.13/site-packages/pandas/core/nanops.py:404\u001b[39m, in \u001b[36m_datetimelike_compat.<locals>.new_func\u001b[39m\u001b[34m(values, axis, skipna, mask, **kwargs)\u001b[39m\n\u001b[32m    401\u001b[39m \u001b[38;5;28;01mif\u001b[39;00m datetimelike \u001b[38;5;129;01mand\u001b[39;00m mask \u001b[38;5;129;01mis\u001b[39;00m \u001b[38;5;28;01mNone\u001b[39;00m:\n\u001b[32m    402\u001b[39m     mask = isna(values)\n\u001b[32m--> \u001b[39m\u001b[32m404\u001b[39m result = \u001b[43mfunc\u001b[49m\u001b[43m(\u001b[49m\u001b[43mvalues\u001b[49m\u001b[43m,\u001b[49m\u001b[43m \u001b[49m\u001b[43maxis\u001b[49m\u001b[43m=\u001b[49m\u001b[43maxis\u001b[49m\u001b[43m,\u001b[49m\u001b[43m \u001b[49m\u001b[43mskipna\u001b[49m\u001b[43m=\u001b[49m\u001b[43mskipna\u001b[49m\u001b[43m,\u001b[49m\u001b[43m \u001b[49m\u001b[43mmask\u001b[49m\u001b[43m=\u001b[49m\u001b[43mmask\u001b[49m\u001b[43m,\u001b[49m\u001b[43m \u001b[49m\u001b[43m*\u001b[49m\u001b[43m*\u001b[49m\u001b[43mkwargs\u001b[49m\u001b[43m)\u001b[49m\n\u001b[32m    406\u001b[39m \u001b[38;5;28;01mif\u001b[39;00m datetimelike:\n\u001b[32m    407\u001b[39m     result = _wrap_results(result, orig_values.dtype, fill_value=iNaT)\n",
            "\u001b[36mFile \u001b[39m\u001b[32m~/Documents/Dev/Python/Bit-by-Bit/venv/lib/python3.13/site-packages/pandas/core/nanops.py:1098\u001b[39m, in \u001b[36m_nanminmax.<locals>.reduction\u001b[39m\u001b[34m(values, axis, skipna, mask)\u001b[39m\n\u001b[32m   1093\u001b[39m     \u001b[38;5;28;01mreturn\u001b[39;00m _na_for_min_count(values, axis)\n\u001b[32m   1095\u001b[39m values, mask = _get_values(\n\u001b[32m   1096\u001b[39m     values, skipna, fill_value_typ=fill_value_typ, mask=mask\n\u001b[32m   1097\u001b[39m )\n\u001b[32m-> \u001b[39m\u001b[32m1098\u001b[39m result = \u001b[38;5;28;43mgetattr\u001b[39;49m\u001b[43m(\u001b[49m\u001b[43mvalues\u001b[49m\u001b[43m,\u001b[49m\u001b[43m \u001b[49m\u001b[43mmeth\u001b[49m\u001b[43m)\u001b[49m\u001b[43m(\u001b[49m\u001b[43maxis\u001b[49m\u001b[43m)\u001b[49m\n\u001b[32m   1099\u001b[39m result = _maybe_null_out(result, axis, mask, values.shape)\n\u001b[32m   1100\u001b[39m \u001b[38;5;28;01mreturn\u001b[39;00m result\n",
            "\u001b[36mFile \u001b[39m\u001b[32m~/Documents/Dev/Python/Bit-by-Bit/venv/lib/python3.13/site-packages/numpy/_core/_methods.py:47\u001b[39m, in \u001b[36m_amin\u001b[39m\u001b[34m(a, axis, out, keepdims, initial, where)\u001b[39m\n\u001b[32m     45\u001b[39m \u001b[38;5;28;01mdef\u001b[39;00m\u001b[38;5;250m \u001b[39m\u001b[34m_amin\u001b[39m(a, axis=\u001b[38;5;28;01mNone\u001b[39;00m, out=\u001b[38;5;28;01mNone\u001b[39;00m, keepdims=\u001b[38;5;28;01mFalse\u001b[39;00m,\n\u001b[32m     46\u001b[39m           initial=_NoValue, where=\u001b[38;5;28;01mTrue\u001b[39;00m):\n\u001b[32m---> \u001b[39m\u001b[32m47\u001b[39m     \u001b[38;5;28;01mreturn\u001b[39;00m \u001b[43mumr_minimum\u001b[49m\u001b[43m(\u001b[49m\u001b[43ma\u001b[49m\u001b[43m,\u001b[49m\u001b[43m \u001b[49m\u001b[43maxis\u001b[49m\u001b[43m,\u001b[49m\u001b[43m \u001b[49m\u001b[38;5;28;43;01mNone\u001b[39;49;00m\u001b[43m,\u001b[49m\u001b[43m \u001b[49m\u001b[43mout\u001b[49m\u001b[43m,\u001b[49m\u001b[43m \u001b[49m\u001b[43mkeepdims\u001b[49m\u001b[43m,\u001b[49m\u001b[43m \u001b[49m\u001b[43minitial\u001b[49m\u001b[43m,\u001b[49m\u001b[43m \u001b[49m\u001b[43mwhere\u001b[49m\u001b[43m)\u001b[49m\n",
            "\u001b[31mTypeError\u001b[39m: '<=' not supported between instances of 'str' and 'float'"
          ]
        }
      ],
      "source": [
        "# Create data directory\n",
        "os.makedirs('../data/rss', exist_ok=True)\n",
        "\n",
        "# Convert to DataFrame for analysis\n",
        "df = pd.DataFrame(all_articles)\n",
        "\n",
        "if len(df) > 0:\n",
        "    print(f\"📊 Data Analysis:\")\n",
        "    print(f\"   Total articles: {len(df)}\")\n",
        "    print(f\"   Unique feeds: {df['feed_name'].nunique()}\")\n",
        "    print(f\"   Categories: {df['feed_category'].unique().tolist()}\")\n",
        "    print(f\"   Date range: {df['published'].min()} to {df['published'].max()}\")\n",
        "    \n",
        "    # Articles by category\n",
        "    category_counts = df['feed_category'].value_counts()\n",
        "    print(f\"\\n📈 Articles by Category:\")\n",
        "    for category, count in category_counts.items():\n",
        "        print(f\"   {category}: {count} articles\")\n",
        "    \n",
        "    # Articles by feed\n",
        "    feed_counts = df['feed_name'].value_counts()\n",
        "    print(f\"\\n📰 Articles by Feed:\")\n",
        "    for feed, count in feed_counts.head(10).items():\n",
        "        print(f\"   {feed}: {count} articles\")\n",
        "    \n",
        "    # Create comprehensive data structure with all information\n",
        "    comprehensive_data = {\n",
        "        'metadata': {\n",
        "            'collection_date': datetime.now().isoformat(),\n",
        "            'total_articles': len(df),\n",
        "            'feeds_processed': len(feed_stats),\n",
        "            'categories': category_counts.to_dict(),\n",
        "            'feed_stats': feed_stats,\n",
        "            'settings': rss_config['settings'],\n",
        "            'data_structure': {\n",
        "                'fields': list(df.columns),\n",
        "                'format': 'JSON',\n",
        "                'encoding': 'UTF-8'\n",
        "            }\n",
        "        },\n",
        "        'articles': df.to_dict('records'),\n",
        "        'articles_by_category': {\n",
        "            category: df[df['feed_category'] == category].to_dict('records')\n",
        "            for category in df['feed_category'].unique()\n",
        "        },\n",
        "        'articles_by_feed': {\n",
        "            feed_name: df[df['feed_name'] == feed_name].to_dict('records')\n",
        "            for feed_name in df['feed_name'].unique()\n",
        "        }\n",
        "    }\n",
        "    \n",
        "    # Save everything in a single comprehensive JSON file\n",
        "    comprehensive_path = '../data/rss/rss_data.json'\n",
        "    with open(comprehensive_path, 'w') as f:\n",
        "        json.dump(comprehensive_data, f, indent=2)\n",
        "    \n",
        "    print(f\"\\n💾 Saved comprehensive data to {comprehensive_path}\")\n",
        "    print(f\"   📊 Total articles: {len(df)}\")\n",
        "    print(f\"   📰 Feeds: {len(feed_stats)}\")\n",
        "    print(f\"   🏷️ Categories: {len(df['feed_category'].unique())}\")\n",
        "    print(f\"   📁 File size: {os.path.getsize(comprehensive_path) / 1024:.1f} KB\")\n",
        "    \n",
        "else:\n",
        "    print(\"❌ No articles collected\")\n"
      ]
    },
    {
      "cell_type": "code",
      "execution_count": 6,
      "metadata": {},
      "outputs": [
        {
          "name": "stdout",
          "output_type": "stream",
          "text": [
            "🔧 FIXED: Data Analysis with Proper Date Handling\n",
            "==================================================\n",
            "📊 Data Analysis:\n",
            "   Total articles: 284\n",
            "   Unique feeds: 25\n",
            "   Categories: ['Tech News', 'AI/ML', 'Data Science', 'Hardware/Gadgets', 'Big Tech', 'Tech Blog']\n",
            "   Date range: 2025-09-20 11:48:14 to 2025-09-21 15:40:00\n",
            "   Valid dates: 254/284 articles\n",
            "\n",
            "📈 Articles by Category:\n",
            "   Tech News: 217 articles\n",
            "   Hardware/Gadgets: 46 articles\n",
            "   Big Tech: 10 articles\n",
            "   AI/ML: 5 articles\n",
            "   Data Science: 5 articles\n",
            "   Tech Blog: 1 articles\n",
            "\n",
            "📰 Top 10 Feeds:\n",
            "   CNET News: 25 articles\n",
            "   Mashable (Tech): 25 articles\n",
            "   Business Insider (Tech): 20 articles\n",
            "   CNN Technology: 20 articles\n",
            "   Gizmodo: 18 articles\n",
            "   Hacker News (Top): 17 articles\n",
            "   Tom's Hardware: 17 articles\n",
            "   Android Authority: 16 articles\n",
            "   Slashdot: 15 articles\n",
            "   Engadget: 15 articles\n",
            "\n",
            "💾 Saving comprehensive data...\n",
            "💾 Saved comprehensive data to ../data/rss/rss_data.json\n",
            "   📊 Total articles: 284\n",
            "   📰 Feeds: 61\n",
            "   🏷️ Categories: 6\n",
            "   📁 File size: 2763.2 KB\n"
          ]
        }
      ],
      "source": [
        "# FIXED VERSION: Run this instead of the problematic cell above\n",
        "print(\"🔧 FIXED: Data Analysis with Proper Date Handling\")\n",
        "print(\"=\" * 50)\n",
        "\n",
        "# Convert to DataFrame for analysis\n",
        "df = pd.DataFrame(all_articles)\n",
        "\n",
        "if len(df) > 0:\n",
        "    print(f\"📊 Data Analysis:\")\n",
        "    print(f\"   Total articles: {len(df)}\")\n",
        "    print(f\"   Unique feeds: {df['feed_name'].nunique()}\")\n",
        "    print(f\"   Categories: {df['feed_category'].unique().tolist()}\")\n",
        "    \n",
        "    # Handle date range with proper error handling\n",
        "    try:\n",
        "        # Convert published column to datetime, handling mixed types\n",
        "        df['published_parsed'] = pd.to_datetime(df['published'], errors='coerce')\n",
        "        valid_dates = df['published_parsed'].dropna()\n",
        "        if len(valid_dates) > 0:\n",
        "            print(f\"   Date range: {valid_dates.min()} to {valid_dates.max()}\")\n",
        "            print(f\"   Valid dates: {len(valid_dates)}/{len(df)} articles\")\n",
        "        else:\n",
        "            print(f\"   Date range: No valid dates found\")\n",
        "    except Exception as e:\n",
        "        print(f\"   Date range: Error parsing dates - {e}\")\n",
        "    \n",
        "    # Articles by category\n",
        "    category_counts = df['feed_category'].value_counts()\n",
        "    print(f\"\\n📈 Articles by Category:\")\n",
        "    for category, count in category_counts.items():\n",
        "        print(f\"   {category}: {count} articles\")\n",
        "    \n",
        "    # Articles by feed\n",
        "    feed_counts = df['feed_name'].value_counts()\n",
        "    print(f\"\\n📰 Top 10 Feeds:\")\n",
        "    for feed, count in feed_counts.head(10).items():\n",
        "        print(f\"   {feed}: {count} articles\")\n",
        "        \n",
        "    # Save comprehensive data\n",
        "    print(f\"\\n💾 Saving comprehensive data...\")\n",
        "    \n",
        "    # Create comprehensive data structure with JSON-serializable data\n",
        "    # Convert DataFrame to JSON-serializable format\n",
        "    def make_json_serializable(obj):\n",
        "        \"\"\"Convert pandas objects to JSON-serializable format\"\"\"\n",
        "        if hasattr(obj, 'isoformat'):  # datetime objects\n",
        "            return obj.isoformat()\n",
        "        elif hasattr(obj, 'item'):  # numpy scalars\n",
        "            return obj.item()\n",
        "        elif isinstance(obj, (list, tuple)):\n",
        "            return [make_json_serializable(item) for item in obj]\n",
        "        elif isinstance(obj, dict):\n",
        "            return {key: make_json_serializable(value) for key, value in obj.items()}\n",
        "        else:\n",
        "            return obj\n",
        "    \n",
        "    # Convert DataFrame to records, handling non-serializable objects\n",
        "    articles_records = []\n",
        "    for _, row in df.iterrows():\n",
        "        article_dict = {}\n",
        "        for col, value in row.items():\n",
        "            article_dict[col] = make_json_serializable(value)\n",
        "        articles_records.append(article_dict)\n",
        "    \n",
        "    comprehensive_data = {\n",
        "        'metadata': {\n",
        "            'collection_date': datetime.now().isoformat(),\n",
        "            'total_articles': len(df),\n",
        "            'feeds_processed': len(feed_stats),\n",
        "            'categories': category_counts.to_dict(),\n",
        "            'feed_stats': feed_stats,\n",
        "            'settings': rss_config['settings']\n",
        "        },\n",
        "        'articles': articles_records,\n",
        "        'articles_by_category': {\n",
        "            category: [article for article in articles_records if article['feed_category'] == category]\n",
        "            for category in df['feed_category'].unique()\n",
        "        },\n",
        "        'articles_by_feed': {\n",
        "            feed_name: [article for article in articles_records if article['feed_name'] == feed_name]\n",
        "            for feed_name in df['feed_name'].unique()\n",
        "        }\n",
        "    }\n",
        "    \n",
        "    # Save comprehensive data\n",
        "    comprehensive_path = '../data/rss/rss_data.json'\n",
        "    with open(comprehensive_path, 'w') as f:\n",
        "        json.dump(comprehensive_data, f, indent=2)\n",
        "    \n",
        "    print(f\"💾 Saved comprehensive data to {comprehensive_path}\")\n",
        "    print(f\"   📊 Total articles: {len(df)}\")\n",
        "    print(f\"   📰 Feeds: {len(feed_stats)}\")\n",
        "    print(f\"   🏷️ Categories: {len(df['feed_category'].unique())}\")\n",
        "    print(f\"   📁 File size: {os.path.getsize(comprehensive_path) / 1024:.1f} KB\")\n",
        "        \n",
        "else:\n",
        "    print(\"❌ No articles collected\")\n"
      ]
    },
    {
      "cell_type": "code",
      "execution_count": null,
      "metadata": {},
      "outputs": [],
      "source": [
        "\n"
      ]
    },
    {
      "cell_type": "markdown",
      "metadata": {},
      "source": [
        "## Visualize Data\n"
      ]
    },
    {
      "cell_type": "code",
      "execution_count": null,
      "metadata": {},
      "outputs": [
        {
          "name": "stdout",
          "output_type": "stream",
          "text": [
            "💾 Saved analysis plot to ../data/rss/rss_analysis.png\n"
          ]
        },
        {
          "data": {
            "image/png": "[encoded data removed]",
            "text/plain": [
              "<Figure size 1500x1200 with 4 Axes>"
            ]
          },
          "metadata": {},
          "output_type": "display_data"
        },
        {
          "name": "stdout",
          "output_type": "stream",
          "text": [
            "\n",
            "📰 Sample Articles:\n",
            "\n",
            "1. Find out what’s new in the Gemini app in September’s Gemini Drop.\n",
            "   Feed: Google The Keyword (company_blog)\n",
            "   Published: 2025-09-19T16:00:00\n",
            "   Summary: Gemini Drops is our new monthly update on how to get the most out of the Gemini app....\n",
            "   URL: https://blog.google/products/gemini/gemini-drop-september-2025/\n",
            "\n",
            "2. 3 ways to use photo-to-video in Gemini\n",
            "   Feed: Google The Keyword (company_blog)\n",
            "   Published: 2025-09-19T16:00:00\n",
            "   Summary: A collage of images including a still photo of a dinosaur skeleton, then the animated version create...\n",
            "   URL: https://blog.google/products/gemini/gemini-photo-to-video-tips/\n",
            "\n",
            "3. How the U.S. Patent and Trademark Office can help America maintain its AI leadership\n",
            "   Feed: Google The Keyword (company_blog)\n",
            "   Published: 2025-09-19T13:30:00\n",
            "   Summary: Stylized US map with connected dots, lightbulb, three bars, three toggle switches, orange block with...\n",
            "   URL: https://blog.google/outreach-initiatives/public-policy/uspto-ai-policy-recommendations/\n"
          ]
        }
      ],
      "source": [
        "if len(df) > 0:\n",
        "    # Create visualizations\n",
        "    fig, ((ax1, ax2), (ax3, ax4)) = plt.subplots(2, 2, figsize=(15, 12))\n",
        "    \n",
        "    # 1. Articles by Category\n",
        "    category_counts.plot(kind='bar', ax=ax1, color='skyblue')\n",
        "    ax1.set_title('Articles by Category')\n",
        "    ax1.set_xlabel('Category')\n",
        "    ax1.set_ylabel('Number of Articles')\n",
        "    ax1.tick_params(axis='x', rotation=45)\n",
        "    \n",
        "    # 2. Top 10 Feeds\n",
        "    feed_counts.head(10).plot(kind='bar', ax=ax2, color='lightcoral')\n",
        "    ax2.set_title('Top 10 Feeds by Article Count')\n",
        "    ax2.set_xlabel('Feed Name')\n",
        "    ax2.set_ylabel('Number of Articles')\n",
        "    ax2.tick_params(axis='x', rotation=45)\n",
        "    \n",
        "    # 3. Articles by Hour (if we have time data)\n",
        "    if 'published' in df.columns and df['published'].notna().any():\n",
        "        df['published_dt'] = pd.to_datetime(df['published'])\n",
        "        df['hour'] = df['published_dt'].dt.hour\n",
        "        hourly_counts = df['hour'].value_counts().sort_index()\n",
        "        hourly_counts.plot(kind='line', ax=ax3, marker='o', color='green')\n",
        "        ax3.set_title('Articles Published by Hour')\n",
        "        ax3.set_xlabel('Hour of Day')\n",
        "        ax3.set_ylabel('Number of Articles')\n",
        "        ax3.grid(True, alpha=0.3)\n",
        "    \n",
        "    # 4. Feed Performance (articles per feed)\n",
        "    feed_performance = df.groupby('feed_name').size().sort_values(ascending=True)\n",
        "    feed_performance.plot(kind='barh', ax=ax4, color='orange')\n",
        "    ax4.set_title('Articles per Feed')\n",
        "    ax4.set_xlabel('Number of Articles')\n",
        "    \n",
        "    plt.tight_layout()\n",
        "    \n",
        "    # Save the plot\n",
        "    plt.savefig('../data/rss/rss_analysis.png', dpi=300, bbox_inches='tight')\n",
        "    print(\"💾 Saved analysis plot to ../data/rss/rss_analysis.png\")\n",
        "    \n",
        "    plt.show()\n",
        "    \n",
        "    # Display sample articles\n",
        "    print(f\"\\n📰 Sample Articles:\")\n",
        "    for i, (_, article) in enumerate(df.head(3).iterrows(), 1):\n",
        "        print(f\"\\n{i}. {article['title']}\")\n",
        "        print(f\"   Feed: {article['feed_name']} ({article['feed_category']})\")\n",
        "        print(f\"   Published: {article['published']}\")\n",
        "        print(f\"   Summary: {article['summary'][:100]}...\")\n",
        "        print(f\"   URL: {article['url']}\")\n",
        "else:\n",
        "    print(\"❌ No data to visualize\")\n"
      ]
    }
  ],
  "metadata": {
    "kernelspec": {
      "display_name": "venv",
      "language": "python",
      "name": "python3"
    },
    "language_info": {
      "codemirror_mode": {
        "name": "ipython",
        "version": 3
      },
      "file_extension": ".py",
      "mimetype": "text/x-python",
      "name": "python",
      "nbconvert_exporter": "python",
      "pygments_lexer": "ipython3",
      "version": "3.13.5"
    }
  },
  "nbformat": 4,
  "nbformat_minor": 2
}
