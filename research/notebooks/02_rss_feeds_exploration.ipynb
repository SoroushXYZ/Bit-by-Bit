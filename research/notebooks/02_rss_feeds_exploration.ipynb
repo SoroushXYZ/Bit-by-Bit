{
  "cells": [
    {
      "cell_type": "markdown",
      "metadata": {},
      "source": [
        "# RSS Feeds Exploration\n",
        "\n",
        "This notebook explores RSS feeds as a data source for tech news. We'll:\n",
        "\n",
        "- Load RSS feed configuration from JSON\n",
        "- Collect articles from multiple tech RSS feeds\n",
        "- Parse and clean the data\n",
        "- Filter articles from the last 24 hours\n",
        "- Save organized data in JSON format\n",
        "- Analyze feed performance and content quality\n",
        "\n",
        "## Setup\n"
      ]
    },
    {
      "cell_type": "code",
      "execution_count": 1,
      "metadata": {},
      "outputs": [
        {
          "name": "stdout",
          "output_type": "stream",
          "text": [
            "✅ RSS feed configuration loaded\n",
            "📊 Total feeds configured: 39\n",
            "⚙️ Settings: {'max_age_hours': 24, 'max_items_per_feed': 30, 'timeout_seconds': 30, 'retry_attempts': 3}\n",
            "\n",
            "📰 Enabled feeds (39):\n",
            "  • Google The Keyword (company_blog)\n",
            "  • Google Research (research)\n",
            "  • Microsoft Official Blog (company_blog)\n",
            "  • Microsoft Developer Blog (development)\n",
            "  • Azure Blog (cloud)\n",
            "  • Amazon AWS News (cloud)\n",
            "  • OpenAI (ai)\n",
            "  • Meta Engineering (company_blog)\n",
            "  • Dropbox Tech Blog (company_blog)\n",
            "  • GitHub Engineering (development)\n",
            "  • Cloudflare Blog (infrastructure)\n",
            "  • Stripe Blog (fintech)\n",
            "  • Mozilla Blog (company_blog)\n",
            "  • Kubernetes Blog (infrastructure)\n",
            "  • JetBrains Blog (development)\n",
            "  • Slack Engineering (company_blog)\n",
            "  • LinkedIn Engineering (company_blog)\n",
            "  • Pinterest Engineering (company_blog)\n",
            "  • Airbnb Engineering (company_blog)\n",
            "  • Ars Technica (tech_news)\n",
            "  • TechCrunch (tech_news)\n",
            "  • The Verge (tech_news)\n",
            "  • Engadget (tech_news)\n",
            "  • ZDNet (tech_news)\n",
            "  • The Register (tech_news)\n",
            "  • InfoQ (development)\n",
            "  • TechRepublic (tech_news)\n",
            "  • Interesting Engineering (tech_news)\n",
            "  • arXiv AI (research)\n",
            "  • arXiv Machine Learning (research)\n",
            "  • Hacker News Front Page (development)\n",
            "  • Hacker News Newest (development)\n",
            "  • GitHub Changelog (development)\n",
            "  • Docker Blog (infrastructure)\n",
            "  • Kaggle Blog (ai)\n",
            "  • Percona Database Blog (infrastructure)\n",
            "  • Elastic Blog (infrastructure)\n",
            "  • NYT Technology (tech_news)\n",
            "  • BBC Technology (tech_news)\n"
          ]
        }
      ],
      "source": [
        "import sys\n",
        "import os\n",
        "import json\n",
        "import feedparser\n",
        "import requests\n",
        "import pandas as pd\n",
        "import matplotlib.pyplot as plt\n",
        "from datetime import datetime, timedelta\n",
        "from typing import List, Dict, Optional\n",
        "import time\n",
        "import re\n",
        "from tqdm import tqdm\n",
        "\n",
        "# Load RSS feed configuration\n",
        "with open('../config/rss_feeds.json', 'r') as f:\n",
        "    rss_config = json.load(f)\n",
        "\n",
        "print(\"✅ RSS feed configuration loaded\")\n",
        "print(f\"📊 Total feeds configured: {len(rss_config['feeds'])}\")\n",
        "print(f\"⚙️ Settings: {rss_config['settings']}\")\n",
        "\n",
        "# Display enabled feeds\n",
        "enabled_feeds = [feed for feed in rss_config['feeds'] if feed['enabled']]\n",
        "print(f\"\\n📰 Enabled feeds ({len(enabled_feeds)}):\")\n",
        "for feed in enabled_feeds:\n",
        "    print(f\"  • {feed['name']} ({feed['category']})\")\n"
      ]
    },
    {
      "cell_type": "markdown",
      "metadata": {},
      "source": [
        "## RSS Feed Collector Class\n"
      ]
    },
    {
      "cell_type": "code",
      "execution_count": 2,
      "metadata": {},
      "outputs": [],
      "source": [
        "class RSSFeedCollector:\n",
        "    def __init__(self, config):\n",
        "        self.config = config\n",
        "        self.settings = config['settings']\n",
        "        self.feeds = [feed for feed in config['feeds'] if feed['enabled']]\n",
        "        \n",
        "    def clean_text(self, text):\n",
        "        \"\"\"Clean and normalize text content\"\"\"\n",
        "        if not text:\n",
        "            return \"\"\n",
        "        \n",
        "        # Remove HTML tags\n",
        "        text = re.sub(r'<[^>]+>', '', text)\n",
        "        # Normalize whitespace\n",
        "        text = re.sub(r'\\s+', ' ', text)\n",
        "        # Strip leading/trailing whitespace\n",
        "        return text.strip()\n",
        "    \n",
        "    def parse_article(self, entry, feed_info):\n",
        "        \"\"\"Parse a single RSS entry into standardized format\"\"\"\n",
        "        try:\n",
        "            # Handle different date formats\n",
        "            published_date = None\n",
        "            if hasattr(entry, 'published_parsed') and entry.published_parsed:\n",
        "                published_date = datetime(*entry.published_parsed[:6])\n",
        "            elif hasattr(entry, 'updated_parsed') and entry.updated_parsed:\n",
        "                published_date = datetime(*entry.updated_parsed[:6])\n",
        "            \n",
        "            # Clean content\n",
        "            title = self.clean_text(entry.get('title', ''))\n",
        "            summary = self.clean_text(entry.get('summary', ''))\n",
        "            description = self.clean_text(entry.get('description', ''))\n",
        "            \n",
        "            # Use description if summary is empty\n",
        "            if not summary and description:\n",
        "                summary = description\n",
        "            \n",
        "            article = {\n",
        "                'title': title,\n",
        "                'url': entry.get('link', ''),\n",
        "                'summary': summary,\n",
        "                'content': self.clean_text(entry.get('content', [{}])[0].get('value', '')),\n",
        "                'published': published_date.isoformat() if published_date else None,\n",
        "                'author': entry.get('author', ''),\n",
        "                'feed_name': feed_info['name'],\n",
        "                'feed_category': feed_info['category'],\n",
        "                'feed_url': feed_info['url'],\n",
        "                'tags': [tag.term for tag in entry.get('tags', [])],\n",
        "                'guid': entry.get('id', entry.get('guid', '')),\n",
        "                'raw_entry': {\n",
        "                    'title': entry.get('title', ''),\n",
        "                    'summary': entry.get('summary', ''),\n",
        "                    'link': entry.get('link', ''),\n",
        "                    'published': entry.get('published', ''),\n",
        "                    'author': entry.get('author', '')\n",
        "                }\n",
        "            }\n",
        "            \n",
        "            return article\n",
        "            \n",
        "        except Exception as e:\n",
        "            print(f\"Error parsing article: {e}\")\n",
        "            return None\n",
        "    \n",
        "    def fetch_feed(self, feed_info):\n",
        "        \"\"\"Fetch and parse a single RSS feed\"\"\"\n",
        "        try:\n",
        "            # Parse the RSS feed\n",
        "            feed = feedparser.parse(feed_info['url'])\n",
        "            \n",
        "            if feed.bozo:\n",
        "                tqdm.write(f\"⚠️ Warning: {feed_info['name']} has parsing issues\")\n",
        "            \n",
        "            articles = []\n",
        "            cutoff_time = datetime.now() - timedelta(hours=self.settings['max_age_hours'])\n",
        "            \n",
        "            for entry in feed.entries[:self.settings['max_items_per_feed']]:\n",
        "                article = self.parse_article(entry, feed_info)\n",
        "                if article:\n",
        "                    # Filter by age\n",
        "                    if article['published']:\n",
        "                        article_date = datetime.fromisoformat(article['published'].replace('Z', '+00:00'))\n",
        "                        if article_date >= cutoff_time:\n",
        "                            articles.append(article)\n",
        "                    else:\n",
        "                        # If no date, include it (might be recent)\n",
        "                        articles.append(article)\n",
        "            \n",
        "            # Use tqdm.write to avoid interfering with progress bar\n",
        "            tqdm.write(f\"✅ {feed_info['name']}: {len(articles)} articles\")\n",
        "            return articles\n",
        "            \n",
        "        except Exception as e:\n",
        "            tqdm.write(f\"❌ Error fetching {feed_info['name']}: {e}\")\n",
        "            return []\n",
        "    \n",
        "    def collect_all_feeds(self):\n",
        "        \"\"\"Collect articles from all enabled feeds\"\"\"\n",
        "        all_articles = []\n",
        "        feed_stats = []\n",
        "        \n",
        "        # Use tqdm for progress tracking\n",
        "        for feed in tqdm(self.feeds, desc=\"Fetching RSS feeds\", unit=\"feed\"):\n",
        "            articles = self.fetch_feed(feed)\n",
        "            all_articles.extend(articles)\n",
        "            \n",
        "            feed_stats.append({\n",
        "                'feed_name': feed['name'],\n",
        "                'category': feed['category'],\n",
        "                'articles_count': len(articles),\n",
        "                'url': feed['url']\n",
        "            })\n",
        "            \n",
        "            # Minimal delay to be respectful to servers\n",
        "            time.sleep(0.1)  # 100ms delay\n",
        "        \n",
        "        return all_articles, feed_stats\n"
      ]
    },
    {
      "cell_type": "markdown",
      "metadata": {},
      "source": [
        "## Collect RSS Data\n"
      ]
    },
    {
      "cell_type": "code",
      "execution_count": 3,
      "metadata": {},
      "outputs": [
        {
          "name": "stdout",
          "output_type": "stream",
          "text": [
            "🚀 Starting RSS feed collection...\n",
            "⏰ Collecting articles from last 24 hours\n",
            "============================================================\n"
          ]
        },
        {
          "name": "stderr",
          "output_type": "stream",
          "text": [
            "Fetching RSS feeds:   3%|▎         | 1/39 [00:00<00:14,  2.61feed/s]"
          ]
        },
        {
          "name": "stdout",
          "output_type": "stream",
          "text": [
            "✅ Google The Keyword: 9 articles\n"
          ]
        },
        {
          "name": "stderr",
          "output_type": "stream",
          "text": [
            "Fetching RSS feeds:   5%|▌         | 2/39 [00:00<00:17,  2.13feed/s]"
          ]
        },
        {
          "name": "stdout",
          "output_type": "stream",
          "text": [
            "✅ Google Research: 1 articles\n"
          ]
        },
        {
          "name": "stderr",
          "output_type": "stream",
          "text": [
            "Fetching RSS feeds:   8%|▊         | 3/39 [00:01<00:14,  2.47feed/s]"
          ]
        },
        {
          "name": "stdout",
          "output_type": "stream",
          "text": [
            "✅ Microsoft Official Blog: 0 articles\n"
          ]
        },
        {
          "name": "stderr",
          "output_type": "stream",
          "text": [
            "Fetching RSS feeds:  10%|█         | 4/39 [00:01<00:14,  2.40feed/s]"
          ]
        },
        {
          "name": "stdout",
          "output_type": "stream",
          "text": [
            "✅ Microsoft Developer Blog: 0 articles\n"
          ]
        },
        {
          "name": "stderr",
          "output_type": "stream",
          "text": [
            "Fetching RSS feeds:  13%|█▎        | 5/39 [00:02<00:15,  2.21feed/s]"
          ]
        },
        {
          "name": "stdout",
          "output_type": "stream",
          "text": [
            "✅ Azure Blog: 0 articles\n"
          ]
        },
        {
          "name": "stderr",
          "output_type": "stream",
          "text": [
            "Fetching RSS feeds:  15%|█▌        | 6/39 [00:02<00:15,  2.17feed/s]"
          ]
        },
        {
          "name": "stdout",
          "output_type": "stream",
          "text": [
            "✅ Amazon AWS News: 2 articles\n"
          ]
        },
        {
          "name": "stderr",
          "output_type": "stream",
          "text": [
            "Fetching RSS feeds:  18%|█▊        | 7/39 [00:03<00:14,  2.15feed/s]"
          ]
        },
        {
          "name": "stdout",
          "output_type": "stream",
          "text": [
            "✅ OpenAI: 0 articles\n"
          ]
        },
        {
          "name": "stderr",
          "output_type": "stream",
          "text": [
            "Fetching RSS feeds:  21%|██        | 8/39 [00:03<00:11,  2.62feed/s]"
          ]
        },
        {
          "name": "stdout",
          "output_type": "stream",
          "text": [
            "✅ Meta Engineering: 0 articles\n"
          ]
        },
        {
          "name": "stderr",
          "output_type": "stream",
          "text": [
            "Fetching RSS feeds:  23%|██▎       | 9/39 [00:04<00:18,  1.59feed/s]"
          ]
        },
        {
          "name": "stdout",
          "output_type": "stream",
          "text": [
            "✅ Dropbox Tech Blog: 0 articles\n"
          ]
        },
        {
          "name": "stderr",
          "output_type": "stream",
          "text": [
            "Fetching RSS feeds:  26%|██▌       | 10/39 [00:04<00:14,  1.94feed/s]"
          ]
        },
        {
          "name": "stdout",
          "output_type": "stream",
          "text": [
            "✅ GitHub Engineering: 0 articles\n"
          ]
        },
        {
          "name": "stderr",
          "output_type": "stream",
          "text": [
            "Fetching RSS feeds:  28%|██▊       | 11/39 [00:05<00:16,  1.74feed/s]"
          ]
        },
        {
          "name": "stdout",
          "output_type": "stream",
          "text": [
            "✅ Cloudflare Blog: 1 articles\n"
          ]
        },
        {
          "name": "stderr",
          "output_type": "stream",
          "text": [
            "Fetching RSS feeds:  31%|███       | 12/39 [00:05<00:13,  1.94feed/s]"
          ]
        },
        {
          "name": "stdout",
          "output_type": "stream",
          "text": [
            "✅ Stripe Blog: 0 articles\n"
          ]
        },
        {
          "name": "stderr",
          "output_type": "stream",
          "text": [
            "Fetching RSS feeds:  33%|███▎      | 13/39 [00:06<00:12,  2.11feed/s]"
          ]
        },
        {
          "name": "stdout",
          "output_type": "stream",
          "text": [
            "✅ Mozilla Blog: 0 articles\n"
          ]
        },
        {
          "name": "stderr",
          "output_type": "stream",
          "text": [
            "Fetching RSS feeds:  36%|███▌      | 14/39 [00:06<00:12,  2.06feed/s]"
          ]
        },
        {
          "name": "stdout",
          "output_type": "stream",
          "text": [
            "✅ Kubernetes Blog: 1 articles\n"
          ]
        },
        {
          "name": "stderr",
          "output_type": "stream",
          "text": [
            "Fetching RSS feeds:  38%|███▊      | 15/39 [00:06<00:09,  2.45feed/s]"
          ]
        },
        {
          "name": "stdout",
          "output_type": "stream",
          "text": [
            "✅ JetBrains Blog: 3 articles\n"
          ]
        },
        {
          "name": "stderr",
          "output_type": "stream",
          "text": [
            "Fetching RSS feeds:  41%|████      | 16/39 [00:07<00:08,  2.87feed/s]"
          ]
        },
        {
          "name": "stdout",
          "output_type": "stream",
          "text": [
            "✅ Slack Engineering: 0 articles\n"
          ]
        },
        {
          "name": "stderr",
          "output_type": "stream",
          "text": [
            "Fetching RSS feeds:  44%|████▎     | 17/39 [00:07<00:06,  3.16feed/s]"
          ]
        },
        {
          "name": "stdout",
          "output_type": "stream",
          "text": [
            "✅ LinkedIn Engineering: 0 articles\n"
          ]
        },
        {
          "name": "stderr",
          "output_type": "stream",
          "text": [
            "Fetching RSS feeds:  46%|████▌     | 18/39 [00:07<00:06,  3.09feed/s]"
          ]
        },
        {
          "name": "stdout",
          "output_type": "stream",
          "text": [
            "✅ Pinterest Engineering: 0 articles\n"
          ]
        },
        {
          "name": "stderr",
          "output_type": "stream",
          "text": [
            "Fetching RSS feeds:  49%|████▊     | 19/39 [00:08<00:07,  2.66feed/s]"
          ]
        },
        {
          "name": "stdout",
          "output_type": "stream",
          "text": [
            "✅ Airbnb Engineering: 0 articles\n"
          ]
        },
        {
          "name": "stderr",
          "output_type": "stream",
          "text": [
            "Fetching RSS feeds:  51%|█████▏    | 20/39 [00:08<00:07,  2.70feed/s]"
          ]
        },
        {
          "name": "stdout",
          "output_type": "stream",
          "text": [
            "✅ Ars Technica: 20 articles\n"
          ]
        },
        {
          "name": "stderr",
          "output_type": "stream",
          "text": [
            "Fetching RSS feeds:  54%|█████▍    | 21/39 [00:09<00:08,  2.24feed/s]"
          ]
        },
        {
          "name": "stdout",
          "output_type": "stream",
          "text": [
            "✅ TechCrunch: 0 articles\n"
          ]
        },
        {
          "name": "stderr",
          "output_type": "stream",
          "text": [
            "Fetching RSS feeds:  56%|█████▋    | 22/39 [00:09<00:06,  2.60feed/s]"
          ]
        },
        {
          "name": "stdout",
          "output_type": "stream",
          "text": [
            "✅ The Verge: 10 articles\n"
          ]
        },
        {
          "name": "stderr",
          "output_type": "stream",
          "text": [
            "Fetching RSS feeds:  59%|█████▉    | 23/39 [00:10<00:08,  2.00feed/s]"
          ]
        },
        {
          "name": "stdout",
          "output_type": "stream",
          "text": [
            "⚠️ Warning: Engadget has parsing issues\n",
            "✅ Engadget: 30 articles\n"
          ]
        },
        {
          "name": "stderr",
          "output_type": "stream",
          "text": [
            "Fetching RSS feeds:  62%|██████▏   | 24/39 [00:10<00:06,  2.41feed/s]"
          ]
        },
        {
          "name": "stdout",
          "output_type": "stream",
          "text": [
            "✅ ZDNet: 20 articles\n"
          ]
        },
        {
          "name": "stderr",
          "output_type": "stream",
          "text": [
            "Fetching RSS feeds:  64%|██████▍   | 25/39 [00:10<00:05,  2.75feed/s]"
          ]
        },
        {
          "name": "stdout",
          "output_type": "stream",
          "text": [
            "✅ The Register: 27 articles\n"
          ]
        },
        {
          "name": "stderr",
          "output_type": "stream",
          "text": [
            "Fetching RSS feeds:  67%|██████▋   | 26/39 [00:11<00:04,  2.65feed/s]"
          ]
        },
        {
          "name": "stdout",
          "output_type": "stream",
          "text": [
            "✅ InfoQ: 3 articles\n"
          ]
        },
        {
          "name": "stderr",
          "output_type": "stream",
          "text": [
            "Fetching RSS feeds:  69%|██████▉   | 27/39 [00:11<00:04,  2.79feed/s]"
          ]
        },
        {
          "name": "stdout",
          "output_type": "stream",
          "text": [
            "✅ TechRepublic: 4 articles\n"
          ]
        },
        {
          "name": "stderr",
          "output_type": "stream",
          "text": [
            "Fetching RSS feeds:  72%|███████▏  | 28/39 [00:13<00:09,  1.11feed/s]"
          ]
        },
        {
          "name": "stdout",
          "output_type": "stream",
          "text": [
            "✅ Interesting Engineering: 10 articles\n"
          ]
        },
        {
          "name": "stderr",
          "output_type": "stream",
          "text": [
            "Fetching RSS feeds:  74%|███████▍  | 29/39 [00:13<00:07,  1.36feed/s]"
          ]
        },
        {
          "name": "stdout",
          "output_type": "stream",
          "text": [
            "✅ arXiv AI: 30 articles\n"
          ]
        },
        {
          "name": "stderr",
          "output_type": "stream",
          "text": [
            "Fetching RSS feeds:  77%|███████▋  | 30/39 [00:14<00:05,  1.57feed/s]"
          ]
        },
        {
          "name": "stdout",
          "output_type": "stream",
          "text": [
            "✅ arXiv Machine Learning: 30 articles\n"
          ]
        },
        {
          "name": "stderr",
          "output_type": "stream",
          "text": [
            "Fetching RSS feeds:  79%|███████▉  | 31/39 [00:14<00:04,  1.87feed/s]"
          ]
        },
        {
          "name": "stdout",
          "output_type": "stream",
          "text": [
            "✅ Hacker News Front Page: 19 articles\n"
          ]
        },
        {
          "name": "stderr",
          "output_type": "stream",
          "text": [
            "Fetching RSS feeds:  82%|████████▏ | 32/39 [00:15<00:03,  2.16feed/s]"
          ]
        },
        {
          "name": "stdout",
          "output_type": "stream",
          "text": [
            "✅ Hacker News Newest: 20 articles\n",
            "✅ GitHub Changelog: 5 articles\n"
          ]
        },
        {
          "name": "stderr",
          "output_type": "stream",
          "text": [
            "Fetching RSS feeds:  87%|████████▋ | 34/39 [00:15<00:01,  2.72feed/s]"
          ]
        },
        {
          "name": "stdout",
          "output_type": "stream",
          "text": [
            "✅ Docker Blog: 4 articles\n"
          ]
        },
        {
          "name": "stderr",
          "output_type": "stream",
          "text": [
            "Fetching RSS feeds:  90%|████████▉ | 35/39 [00:15<00:01,  2.82feed/s]"
          ]
        },
        {
          "name": "stdout",
          "output_type": "stream",
          "text": [
            "✅ Kaggle Blog: 0 articles\n"
          ]
        },
        {
          "name": "stderr",
          "output_type": "stream",
          "text": [
            "Fetching RSS feeds:  92%|█████████▏| 36/39 [00:16<00:00,  3.08feed/s]"
          ]
        },
        {
          "name": "stdout",
          "output_type": "stream",
          "text": [
            "✅ Percona Database Blog: 0 articles\n"
          ]
        },
        {
          "name": "stderr",
          "output_type": "stream",
          "text": [
            "Fetching RSS feeds:  95%|█████████▍| 37/39 [00:16<00:00,  3.24feed/s]"
          ]
        },
        {
          "name": "stdout",
          "output_type": "stream",
          "text": [
            "✅ Elastic Blog: 2 articles\n",
            "✅ NYT Technology: 7 articles\n"
          ]
        },
        {
          "name": "stderr",
          "output_type": "stream",
          "text": [
            "Fetching RSS feeds: 100%|██████████| 39/39 [00:16<00:00,  2.33feed/s]"
          ]
        },
        {
          "name": "stdout",
          "output_type": "stream",
          "text": [
            "✅ BBC Technology: 4 articles\n",
            "============================================================\n",
            "✅ Collection complete!\n",
            "📊 Total articles collected: 262\n",
            "📰 Feeds processed: 39\n",
            "\n",
            "📈 Feed Statistics:\n",
            "  • Google The Keyword: 9 articles\n",
            "  • Google Research: 1 articles\n",
            "  • Microsoft Official Blog: 0 articles\n",
            "  • Microsoft Developer Blog: 0 articles\n",
            "  • Azure Blog: 0 articles\n",
            "  • Amazon AWS News: 2 articles\n",
            "  • OpenAI: 0 articles\n",
            "  • Meta Engineering: 0 articles\n",
            "  • Dropbox Tech Blog: 0 articles\n",
            "  • GitHub Engineering: 0 articles\n",
            "  • Cloudflare Blog: 1 articles\n",
            "  • Stripe Blog: 0 articles\n",
            "  • Mozilla Blog: 0 articles\n",
            "  • Kubernetes Blog: 1 articles\n",
            "  • JetBrains Blog: 3 articles\n",
            "  • Slack Engineering: 0 articles\n",
            "  • LinkedIn Engineering: 0 articles\n",
            "  • Pinterest Engineering: 0 articles\n",
            "  • Airbnb Engineering: 0 articles\n",
            "  • Ars Technica: 20 articles\n",
            "  • TechCrunch: 0 articles\n",
            "  • The Verge: 10 articles\n",
            "  • Engadget: 30 articles\n",
            "  • ZDNet: 20 articles\n",
            "  • The Register: 27 articles\n",
            "  • InfoQ: 3 articles\n",
            "  • TechRepublic: 4 articles\n",
            "  • Interesting Engineering: 10 articles\n",
            "  • arXiv AI: 30 articles\n",
            "  • arXiv Machine Learning: 30 articles\n",
            "  • Hacker News Front Page: 19 articles\n",
            "  • Hacker News Newest: 20 articles\n",
            "  • GitHub Changelog: 5 articles\n",
            "  • Docker Blog: 4 articles\n",
            "  • Kaggle Blog: 0 articles\n",
            "  • Percona Database Blog: 0 articles\n",
            "  • Elastic Blog: 2 articles\n",
            "  • NYT Technology: 7 articles\n",
            "  • BBC Technology: 4 articles\n"
          ]
        },
        {
          "name": "stderr",
          "output_type": "stream",
          "text": [
            "\n"
          ]
        }
      ],
      "source": [
        "# Initialize collector\n",
        "collector = RSSFeedCollector(rss_config)\n",
        "\n",
        "# Collect articles from all feeds\n",
        "print(\"🚀 Starting RSS feed collection...\")\n",
        "print(f\"⏰ Collecting articles from last {rss_config['settings']['max_age_hours']} hours\")\n",
        "print(\"=\" * 60)\n",
        "\n",
        "all_articles, feed_stats = collector.collect_all_feeds()\n",
        "\n",
        "print(\"=\" * 60)\n",
        "print(f\"✅ Collection complete!\")\n",
        "print(f\"📊 Total articles collected: {len(all_articles)}\")\n",
        "print(f\"📰 Feeds processed: {len(feed_stats)}\")\n",
        "\n",
        "# Display feed statistics\n",
        "print(f\"\\n📈 Feed Statistics:\")\n",
        "for stat in feed_stats:\n",
        "    print(f\"  • {stat['feed_name']}: {stat['articles_count']} articles\")\n"
      ]
    },
    {
      "cell_type": "markdown",
      "metadata": {},
      "source": [
        "## Analyze and Save Data\n"
      ]
    },
    {
      "cell_type": "code",
      "execution_count": 4,
      "metadata": {},
      "outputs": [
        {
          "name": "stdout",
          "output_type": "stream",
          "text": [
            "📊 Data Analysis:\n",
            "   Total articles: 262\n",
            "   Unique feeds: 23\n",
            "   Categories: ['company_blog', 'research', 'cloud', 'infrastructure', 'development', 'tech_news']\n",
            "   Date range: 2025-09-18T15:36:53 to 2025-09-19T19:09:48\n",
            "\n",
            "📈 Articles by Category:\n",
            "   tech_news: 132 articles\n",
            "   research: 61 articles\n",
            "   development: 50 articles\n",
            "   company_blog: 9 articles\n",
            "   infrastructure: 8 articles\n",
            "   cloud: 2 articles\n",
            "\n",
            "📰 Articles by Feed:\n",
            "   arXiv AI: 30 articles\n",
            "   Engadget: 30 articles\n",
            "   arXiv Machine Learning: 30 articles\n",
            "   The Register: 27 articles\n",
            "   Hacker News Newest: 20 articles\n",
            "   Ars Technica: 20 articles\n",
            "   ZDNet: 20 articles\n",
            "   Hacker News Front Page: 19 articles\n",
            "   The Verge: 10 articles\n",
            "   Interesting Engineering: 10 articles\n",
            "\n",
            "💾 Saved all articles to ../data/rss/rss_articles.json\n",
            "💾 Saved company_blog articles to ../data/rss/rss_company_blog.json\n",
            "💾 Saved research articles to ../data/rss/rss_research.json\n",
            "💾 Saved cloud articles to ../data/rss/rss_cloud.json\n",
            "💾 Saved infrastructure articles to ../data/rss/rss_infrastructure.json\n",
            "💾 Saved development articles to ../data/rss/rss_development.json\n",
            "💾 Saved tech_news articles to ../data/rss/rss_tech_news.json\n",
            "💾 Saved collection summary to ../data/rss/collection_summary.json\n"
          ]
        }
      ],
      "source": [
        "# Create data directory\n",
        "os.makedirs('../data/rss', exist_ok=True)\n",
        "\n",
        "# Convert to DataFrame for analysis\n",
        "df = pd.DataFrame(all_articles)\n",
        "\n",
        "if len(df) > 0:\n",
        "    print(f\"📊 Data Analysis:\")\n",
        "    print(f\"   Total articles: {len(df)}\")\n",
        "    print(f\"   Unique feeds: {df['feed_name'].nunique()}\")\n",
        "    print(f\"   Categories: {df['feed_category'].unique().tolist()}\")\n",
        "    print(f\"   Date range: {df['published'].min()} to {df['published'].max()}\")\n",
        "    \n",
        "    # Articles by category\n",
        "    category_counts = df['feed_category'].value_counts()\n",
        "    print(f\"\\n📈 Articles by Category:\")\n",
        "    for category, count in category_counts.items():\n",
        "        print(f\"   {category}: {count} articles\")\n",
        "    \n",
        "    # Articles by feed\n",
        "    feed_counts = df['feed_name'].value_counts()\n",
        "    print(f\"\\n📰 Articles by Feed:\")\n",
        "    for feed, count in feed_counts.head(10).items():\n",
        "        print(f\"   {feed}: {count} articles\")\n",
        "    \n",
        "    # Save all articles\n",
        "    all_articles_path = '../data/rss/rss_articles.json'\n",
        "    df.to_json(all_articles_path, orient='records', indent=2)\n",
        "    print(f\"\\n💾 Saved all articles to {all_articles_path}\")\n",
        "    \n",
        "    # Save by category\n",
        "    for category in df['feed_category'].unique():\n",
        "        category_df = df[df['feed_category'] == category]\n",
        "        category_path = f'../data/rss/rss_{category}.json'\n",
        "        category_df.to_json(category_path, orient='records', indent=2)\n",
        "        print(f\"💾 Saved {category} articles to {category_path}\")\n",
        "    \n",
        "    # Save by feed\n",
        "    for feed_name in df['feed_name'].unique():\n",
        "        feed_df = df[df['feed_name'] == feed_name]\n",
        "        feed_safe_name = feed_name.lower().replace(' ', '_').replace('/', '_')\n",
        "        feed_path = f'../data/rss/rss_{feed_safe_name}.json'\n",
        "        feed_df.to_json(feed_path, orient='records', indent=2)\n",
        "    \n",
        "    # Save collection summary\n",
        "    summary_data = {\n",
        "        'collection_date': datetime.now().isoformat(),\n",
        "        'total_articles': len(df),\n",
        "        'feeds_processed': len(feed_stats),\n",
        "        'categories': category_counts.to_dict(),\n",
        "        'feed_stats': feed_stats,\n",
        "        'settings': rss_config['settings'],\n",
        "        'data_structure': {\n",
        "            'fields': list(df.columns),\n",
        "            'format': 'JSON',\n",
        "            'encoding': 'UTF-8'\n",
        "        }\n",
        "    }\n",
        "    \n",
        "    summary_path = '../data/rss/collection_summary.json'\n",
        "    with open(summary_path, 'w') as f:\n",
        "        json.dump(summary_data, f, indent=2)\n",
        "    \n",
        "    print(f\"💾 Saved collection summary to {summary_path}\")\n",
        "    \n",
        "else:\n",
        "    print(\"❌ No articles collected\")\n"
      ]
    },
    {
      "cell_type": "markdown",
      "metadata": {},
      "source": [
        "## Visualize Data\n"
      ]
    },
    {
      "cell_type": "code",
      "execution_count": 5,
      "metadata": {},
      "outputs": [
        {
          "name": "stdout",
          "output_type": "stream",
          "text": [
            "💾 Saved analysis plot to ../data/rss/rss_analysis.png\n"
          ]
        },
        {
          "data": {
            "image/png": "[encoded data removed]",
            "text/plain": [
              "<Figure size 1500x1200 with 4 Axes>"
            ]
          },
          "metadata": {},
          "output_type": "display_data"
        },
        {
          "name": "stdout",
          "output_type": "stream",
          "text": [
            "\n",
            "📰 Sample Articles:\n",
            "\n",
            "1. Find out what’s new in the Gemini app in September’s Gemini Drop.\n",
            "   Feed: Google The Keyword (company_blog)\n",
            "   Published: 2025-09-19T16:00:00\n",
            "   Summary: Gemini Drops is our new monthly update on how to get the most out of the Gemini app....\n",
            "   URL: https://blog.google/products/gemini/gemini-drop-september-2025/\n",
            "\n",
            "2. 3 ways to use photo-to-video in Gemini\n",
            "   Feed: Google The Keyword (company_blog)\n",
            "   Published: 2025-09-19T16:00:00\n",
            "   Summary: A collage of images including a still photo of a dinosaur skeleton, then the animated version create...\n",
            "   URL: https://blog.google/products/gemini/gemini-photo-to-video-tips/\n",
            "\n",
            "3. How the U.S. Patent and Trademark Office can help America maintain its AI leadership\n",
            "   Feed: Google The Keyword (company_blog)\n",
            "   Published: 2025-09-19T13:30:00\n",
            "   Summary: Stylized US map with connected dots, lightbulb, three bars, three toggle switches, orange block with...\n",
            "   URL: https://blog.google/outreach-initiatives/public-policy/uspto-ai-policy-recommendations/\n"
          ]
        }
      ],
      "source": [
        "if len(df) > 0:\n",
        "    # Create visualizations\n",
        "    fig, ((ax1, ax2), (ax3, ax4)) = plt.subplots(2, 2, figsize=(15, 12))\n",
        "    \n",
        "    # 1. Articles by Category\n",
        "    category_counts.plot(kind='bar', ax=ax1, color='skyblue')\n",
        "    ax1.set_title('Articles by Category')\n",
        "    ax1.set_xlabel('Category')\n",
        "    ax1.set_ylabel('Number of Articles')\n",
        "    ax1.tick_params(axis='x', rotation=45)\n",
        "    \n",
        "    # 2. Top 10 Feeds\n",
        "    feed_counts.head(10).plot(kind='bar', ax=ax2, color='lightcoral')\n",
        "    ax2.set_title('Top 10 Feeds by Article Count')\n",
        "    ax2.set_xlabel('Feed Name')\n",
        "    ax2.set_ylabel('Number of Articles')\n",
        "    ax2.tick_params(axis='x', rotation=45)\n",
        "    \n",
        "    # 3. Articles by Hour (if we have time data)\n",
        "    if 'published' in df.columns and df['published'].notna().any():\n",
        "        df['published_dt'] = pd.to_datetime(df['published'])\n",
        "        df['hour'] = df['published_dt'].dt.hour\n",
        "        hourly_counts = df['hour'].value_counts().sort_index()\n",
        "        hourly_counts.plot(kind='line', ax=ax3, marker='o', color='green')\n",
        "        ax3.set_title('Articles Published by Hour')\n",
        "        ax3.set_xlabel('Hour of Day')\n",
        "        ax3.set_ylabel('Number of Articles')\n",
        "        ax3.grid(True, alpha=0.3)\n",
        "    \n",
        "    # 4. Feed Performance (articles per feed)\n",
        "    feed_performance = df.groupby('feed_name').size().sort_values(ascending=True)\n",
        "    feed_performance.plot(kind='barh', ax=ax4, color='orange')\n",
        "    ax4.set_title('Articles per Feed')\n",
        "    ax4.set_xlabel('Number of Articles')\n",
        "    \n",
        "    plt.tight_layout()\n",
        "    \n",
        "    # Save the plot\n",
        "    plt.savefig('../data/rss/rss_analysis.png', dpi=300, bbox_inches='tight')\n",
        "    print(\"💾 Saved analysis plot to ../data/rss/rss_analysis.png\")\n",
        "    \n",
        "    plt.show()\n",
        "    \n",
        "    # Display sample articles\n",
        "    print(f\"\\n📰 Sample Articles:\")\n",
        "    for i, (_, article) in enumerate(df.head(3).iterrows(), 1):\n",
        "        print(f\"\\n{i}. {article['title']}\")\n",
        "        print(f\"   Feed: {article['feed_name']} ({article['feed_category']})\")\n",
        "        print(f\"   Published: {article['published']}\")\n",
        "        print(f\"   Summary: {article['summary'][:100]}...\")\n",
        "        print(f\"   URL: {article['url']}\")\n",
        "else:\n",
        "    print(\"❌ No data to visualize\")\n"
      ]
    }
  ],
  "metadata": {
    "kernelspec": {
      "display_name": "venv",
      "language": "python",
      "name": "python3"
    },
    "language_info": {
      "codemirror_mode": {
        "name": "ipython",
        "version": 3
      },
      "file_extension": ".py",
      "mimetype": "text/x-python",
      "name": "python",
      "nbconvert_exporter": "python",
      "pygments_lexer": "ipython3",
      "version": "3.13.5"
    }
  },
  "nbformat": 4,
  "nbformat_minor": 2
}
