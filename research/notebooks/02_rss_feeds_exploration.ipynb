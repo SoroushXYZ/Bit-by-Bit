{
  "cells": [
    {
      "cell_type": "markdown",
      "metadata": {},
      "source": [
        "# RSS Feeds Exploration\n",
        "\n",
        "This notebook explores RSS feeds as a data source for tech news. We'll:\n",
        "\n",
        "- Load RSS feed configuration from JSON\n",
        "- Collect articles from multiple tech RSS feeds\n",
        "- Parse and clean the data\n",
        "- Filter articles from the last 24 hours\n",
        "- Save organized data in JSON format\n",
        "- Analyze feed performance and content quality\n",
        "\n",
        "## Setup\n"
      ]
    },
    {
      "cell_type": "code",
      "execution_count": 7,
      "metadata": {},
      "outputs": [
        {
          "name": "stdout",
          "output_type": "stream",
          "text": [
            "✅ RSS feed configuration loaded\n",
            "📊 Total feeds configured: 77\n",
            "⚙️ Settings: {'max_age_hours': 24, 'max_items_per_feed': 30, 'timeout_seconds': 30, 'retry_attempts': 3}\n",
            "\n",
            "📰 Enabled feeds (77):\n",
            "  • TechCrunch (Tech News)\n",
            "  • WIRED (Tech News)\n",
            "  • The Verge (Tech News)\n",
            "  • Ars Technica (Tech News)\n",
            "  • Engadget (Tech News)\n",
            "  • Gizmodo (Tech News)\n",
            "  • CNET News (Tech News)\n",
            "  • TechRadar (Tech News)\n",
            "  • Digital Trends (Tech News)\n",
            "  • VentureBeat (Tech News)\n",
            "  • Recode (Vox Technology) (Tech News)\n",
            "  • GeekWire (Tech News)\n",
            "  • Mashable (Tech) (Tech News)\n",
            "  • Hacker News (Top) (Tech News)\n",
            "  • TechMeme (Tech News)\n",
            "  • Slashdot (Tech News)\n",
            "  • Lifehacker (Tech News)\n",
            "  • MIT Technology Review (Tech News)\n",
            "  • BBC News - Technology (Tech News)\n",
            "  • The Guardian - Technology (Tech News)\n",
            "  • NY Times - Technology (Tech News)\n",
            "  • Reuters Technology News (Tech News)\n",
            "  • CNN Technology (Tech News)\n",
            "  • Business Insider (Tech) (Tech News)\n",
            "  • HuffPost Tech (Tech News)\n",
            "  • ZDNet (All Topics) (Tech News)\n",
            "  • InfoWorld (Tech News)\n",
            "  • Computerworld (Tech News)\n",
            "  • OpenAI Blog (AI/ML)\n",
            "  • Google AI Blog (Research) (AI/ML)\n",
            "  • DeepMind Blog (AI/ML)\n",
            "  • BAIR (Berkeley AI Research) Blog (AI/ML)\n",
            "  • Machine Learning Mastery (AI/ML)\n",
            "  • MarkTechPost (AI News) (AI/ML)\n",
            "  • Analytics Vidhya (Data Science)\n",
            "  • KDnuggets (Data Science)\n",
            "  • Towards Data Science (Data Science)\n",
            "  • Datanami (Data Science)\n",
            "  • Kaggle Blog (Data Science)\n",
            "  • AWS News Blog (Cloud/Enterprise)\n",
            "  • All Things Distributed (AWS CTO) (Cloud/Enterprise)\n",
            "  • Microsoft Azure Blog (Cloud/Enterprise)\n",
            "  • Google Cloud Blog (Cloud/Enterprise)\n",
            "  • CloudTech News (Cloud/Enterprise)\n",
            "  • CloudTweaks (Cloud/Enterprise)\n",
            "  • TechRepublic (Cloud) (Cloud/Enterprise)\n",
            "  • IBM Cloud Blog (Cloud/Enterprise)\n",
            "  • AnandTech (Hardware/Gadgets)\n",
            "  • Tom's Hardware (Hardware/Gadgets)\n",
            "  • 9to5Mac (Hardware/Gadgets)\n",
            "  • Android Authority (Hardware/Gadgets)\n",
            "  • ExtremeTech (Hardware/Gadgets)\n",
            "  • NVIDIA Blog (Big Tech)\n",
            "  • Official Microsoft Blog (Big Tech)\n",
            "  • Apple Newsroom (Big Tech)\n",
            "  • Google (The Keyword) (Big Tech)\n",
            "  • Facebook Newsroom (Meta) (Big Tech)\n",
            "  • Meta Engineering Blog (Big Tech)\n",
            "  • Meta Research Blog (Big Tech)\n",
            "  • Stratechery (Ben Thompson) (Tech Blog)\n",
            "  • Daring Fireball (Tech Blog)\n",
            "  • The Hacker News (Cybersecurity)\n",
            "  • BleepingComputer (Cybersecurity)\n",
            "  • Microsoft Security Response Center (Cybersecurity)\n",
            "  • Cloudflare Blog (Developer / Security / Networking)\n",
            "  • Netflix Tech Blog (Engineering / System Design)\n",
            "  • Datafloq (Data Science / Big Data / Emerging Tech)\n",
            "  • Xtract.io Blog (Data Science)\n",
            "  • Silicon Valley Journals (Tech News)\n",
            "  • TechSpot (Tech News)\n",
            "  • AppleInsider (Apple News)\n",
            "  • gHacks (Tech News)\n",
            "  • eWeek (Enterprise Tech)\n",
            "  • Droid Life (Android News)\n",
            "  • TechJuice (Tech News)\n",
            "  • Developer Tech News (Developer)\n",
            "  • TechPlugged (Tech News)\n"
          ]
        }
      ],
      "source": [
        "import sys\n",
        "import os\n",
        "import json\n",
        "import feedparser\n",
        "import requests\n",
        "import pandas as pd\n",
        "import matplotlib.pyplot as plt\n",
        "from datetime import datetime, timedelta\n",
        "from typing import List, Dict, Optional\n",
        "import time\n",
        "import re\n",
        "from tqdm import tqdm\n",
        "\n",
        "# Load RSS feed configuration\n",
        "with open('../config/rss_feeds.json', 'r') as f:\n",
        "    rss_config = json.load(f)\n",
        "\n",
        "print(\"✅ RSS feed configuration loaded\")\n",
        "print(f\"📊 Total feeds configured: {len(rss_config['feeds'])}\")\n",
        "print(f\"⚙️ Settings: {rss_config['settings']}\")\n",
        "\n",
        "# Display enabled feeds\n",
        "enabled_feeds = [feed for feed in rss_config['feeds'] if feed['enabled']]\n",
        "print(f\"\\n📰 Enabled feeds ({len(enabled_feeds)}):\")\n",
        "for feed in enabled_feeds:\n",
        "    print(f\"  • {feed['name']} ({feed['category']})\")\n"
      ]
    },
    {
      "cell_type": "markdown",
      "metadata": {},
      "source": [
        "## RSS Feed Collector Class\n"
      ]
    },
    {
      "cell_type": "code",
      "execution_count": 8,
      "metadata": {},
      "outputs": [],
      "source": [
        "class RSSFeedCollector:\n",
        "    def __init__(self, config):\n",
        "        self.config = config\n",
        "        self.settings = config['settings']\n",
        "        self.feeds = [feed for feed in config['feeds'] if feed['enabled']]\n",
        "        \n",
        "    def clean_text(self, text):\n",
        "        \"\"\"Clean and normalize text content\"\"\"\n",
        "        if not text:\n",
        "            return \"\"\n",
        "        \n",
        "        # Remove HTML tags\n",
        "        text = re.sub(r'<[^>]+>', '', text)\n",
        "        # Normalize whitespace\n",
        "        text = re.sub(r'\\s+', ' ', text)\n",
        "        # Strip leading/trailing whitespace\n",
        "        return text.strip()\n",
        "    \n",
        "    def parse_article(self, entry, feed_info):\n",
        "        \"\"\"Parse a single RSS entry into standardized format\"\"\"\n",
        "        try:\n",
        "            # Handle different date formats\n",
        "            published_date = None\n",
        "            if hasattr(entry, 'published_parsed') and entry.published_parsed:\n",
        "                published_date = datetime(*entry.published_parsed[:6])\n",
        "            elif hasattr(entry, 'updated_parsed') and entry.updated_parsed:\n",
        "                published_date = datetime(*entry.updated_parsed[:6])\n",
        "            \n",
        "            # Clean content\n",
        "            title = self.clean_text(entry.get('title', ''))\n",
        "            summary = self.clean_text(entry.get('summary', ''))\n",
        "            description = self.clean_text(entry.get('description', ''))\n",
        "            \n",
        "            # Use description if summary is empty\n",
        "            if not summary and description:\n",
        "                summary = description\n",
        "            \n",
        "            article = {\n",
        "                'title': title,\n",
        "                'url': entry.get('link', ''),\n",
        "                'summary': summary,\n",
        "                'content': self.clean_text(entry.get('content', [{}])[0].get('value', '')),\n",
        "                'published': published_date.isoformat() if published_date else None,\n",
        "                'author': entry.get('author', ''),\n",
        "                'feed_name': feed_info['name'],\n",
        "                'feed_category': feed_info['category'],\n",
        "                'feed_url': feed_info['url'],\n",
        "                'tags': [tag.term for tag in entry.get('tags', [])],\n",
        "                'guid': entry.get('id', entry.get('guid', '')),\n",
        "                'raw_entry': {\n",
        "                    'title': entry.get('title', ''),\n",
        "                    'summary': entry.get('summary', ''),\n",
        "                    'link': entry.get('link', ''),\n",
        "                    'published': entry.get('published', ''),\n",
        "                    'author': entry.get('author', '')\n",
        "                }\n",
        "            }\n",
        "            \n",
        "            return article\n",
        "            \n",
        "        except Exception as e:\n",
        "            print(f\"Error parsing article: {e}\")\n",
        "            return None\n",
        "    \n",
        "    def fetch_feed(self, feed_info):\n",
        "        \"\"\"Fetch and parse a single RSS feed\"\"\"\n",
        "        try:\n",
        "            # Parse the RSS feed\n",
        "            feed = feedparser.parse(feed_info['url'])\n",
        "            \n",
        "            if feed.bozo:\n",
        "                tqdm.write(f\"⚠️ Warning: {feed_info['name']} has parsing issues\")\n",
        "            \n",
        "            articles = []\n",
        "            cutoff_time = datetime.now() - timedelta(hours=self.settings['max_age_hours'])\n",
        "            \n",
        "            for entry in feed.entries[:self.settings['max_items_per_feed']]:\n",
        "                article = self.parse_article(entry, feed_info)\n",
        "                if article:\n",
        "                    # Filter by age\n",
        "                    if article['published']:\n",
        "                        article_date = datetime.fromisoformat(article['published'].replace('Z', '+00:00'))\n",
        "                        if article_date >= cutoff_time:\n",
        "                            articles.append(article)\n",
        "                    else:\n",
        "                        # If no date, include it (might be recent)\n",
        "                        articles.append(article)\n",
        "            \n",
        "            # Use tqdm.write to avoid interfering with progress bar\n",
        "            tqdm.write(f\"✅ {feed_info['name']}: {len(articles)} articles\")\n",
        "            return articles\n",
        "            \n",
        "        except Exception as e:\n",
        "            tqdm.write(f\"❌ Error fetching {feed_info['name']}: {e}\")\n",
        "            return []\n",
        "    \n",
        "    def collect_all_feeds(self):\n",
        "        \"\"\"Collect articles from all enabled feeds\"\"\"\n",
        "        all_articles = []\n",
        "        feed_stats = []\n",
        "        \n",
        "        # Use tqdm for progress tracking\n",
        "        for feed in tqdm(self.feeds, desc=\"Fetching RSS feeds\", unit=\"feed\"):\n",
        "            articles = self.fetch_feed(feed)\n",
        "            all_articles.extend(articles)\n",
        "            \n",
        "            feed_stats.append({\n",
        "                'feed_name': feed['name'],\n",
        "                'category': feed['category'],\n",
        "                'articles_count': len(articles),\n",
        "                'url': feed['url']\n",
        "            })\n",
        "            \n",
        "            # Minimal delay to be respectful to servers\n",
        "            time.sleep(0.1)  # 100ms delay\n",
        "        \n",
        "        return all_articles, feed_stats\n"
      ]
    },
    {
      "cell_type": "markdown",
      "metadata": {},
      "source": [
        "## Collect RSS Data\n"
      ]
    },
    {
      "cell_type": "code",
      "execution_count": 9,
      "metadata": {},
      "outputs": [
        {
          "name": "stdout",
          "output_type": "stream",
          "text": [
            "🚀 Starting RSS feed collection...\n",
            "⏰ Collecting articles from last 24 hours\n",
            "============================================================\n"
          ]
        },
        {
          "name": "stderr",
          "output_type": "stream",
          "text": [
            "Fetching RSS feeds:   0%|          | 0/77 [00:00<?, ?feed/s]"
          ]
        },
        {
          "name": "stdout",
          "output_type": "stream",
          "text": [
            "✅ TechCrunch: 20 articles\n"
          ]
        },
        {
          "name": "stderr",
          "output_type": "stream",
          "text": [
            "Fetching RSS feeds:   1%|▏         | 1/77 [00:00<00:22,  3.38feed/s]"
          ]
        },
        {
          "name": "stdout",
          "output_type": "stream",
          "text": [
            "✅ WIRED: 14 articles\n"
          ]
        },
        {
          "name": "stderr",
          "output_type": "stream",
          "text": [
            "Fetching RSS feeds:   3%|▎         | 2/77 [00:00<00:17,  4.32feed/s]"
          ]
        },
        {
          "name": "stdout",
          "output_type": "stream",
          "text": [
            "✅ The Verge: 10 articles\n"
          ]
        },
        {
          "name": "stderr",
          "output_type": "stream",
          "text": [
            "Fetching RSS feeds:   4%|▍         | 3/77 [00:00<00:15,  4.67feed/s]"
          ]
        },
        {
          "name": "stdout",
          "output_type": "stream",
          "text": [
            "✅ Ars Technica: 5 articles\n"
          ]
        },
        {
          "name": "stderr",
          "output_type": "stream",
          "text": [
            "Fetching RSS feeds:   6%|▋         | 5/77 [00:01<00:29,  2.47feed/s]"
          ]
        },
        {
          "name": "stdout",
          "output_type": "stream",
          "text": [
            "⚠️ Warning: Engadget has parsing issues\n",
            "✅ Engadget: 17 articles\n"
          ]
        },
        {
          "name": "stderr",
          "output_type": "stream",
          "text": [
            "Fetching RSS feeds:   8%|▊         | 6/77 [00:01<00:26,  2.69feed/s]"
          ]
        },
        {
          "name": "stdout",
          "output_type": "stream",
          "text": [
            "✅ Gizmodo: 20 articles\n"
          ]
        },
        {
          "name": "stderr",
          "output_type": "stream",
          "text": [
            "Fetching RSS feeds:   9%|▉         | 7/77 [00:02<00:25,  2.75feed/s]"
          ]
        },
        {
          "name": "stdout",
          "output_type": "stream",
          "text": [
            "✅ CNET News: 25 articles\n"
          ]
        },
        {
          "name": "stderr",
          "output_type": "stream",
          "text": [
            "Fetching RSS feeds:  10%|█         | 8/77 [00:04<00:58,  1.17feed/s]"
          ]
        },
        {
          "name": "stdout",
          "output_type": "stream",
          "text": [
            "⚠️ Warning: TechRadar has parsing issues\n",
            "✅ TechRadar: 0 articles\n"
          ]
        },
        {
          "name": "stderr",
          "output_type": "stream",
          "text": [
            "Fetching RSS feeds:  12%|█▏        | 9/77 [00:04<00:46,  1.46feed/s]"
          ]
        },
        {
          "name": "stdout",
          "output_type": "stream",
          "text": [
            "⚠️ Warning: Digital Trends has parsing issues\n",
            "✅ Digital Trends: 0 articles\n"
          ]
        },
        {
          "name": "stderr",
          "output_type": "stream",
          "text": [
            "Fetching RSS feeds:  13%|█▎        | 10/77 [00:04<00:36,  1.83feed/s]"
          ]
        },
        {
          "name": "stdout",
          "output_type": "stream",
          "text": [
            "⚠️ Warning: VentureBeat has parsing issues\n",
            "✅ VentureBeat: 0 articles\n"
          ]
        },
        {
          "name": "stderr",
          "output_type": "stream",
          "text": [
            "Fetching RSS feeds:  14%|█▍        | 11/77 [00:04<00:29,  2.22feed/s]"
          ]
        },
        {
          "name": "stdout",
          "output_type": "stream",
          "text": [
            "✅ Recode (Vox Technology): 0 articles\n"
          ]
        },
        {
          "name": "stderr",
          "output_type": "stream",
          "text": [
            "Fetching RSS feeds:  16%|█▌        | 12/77 [00:05<00:30,  2.15feed/s]"
          ]
        },
        {
          "name": "stdout",
          "output_type": "stream",
          "text": [
            "✅ GeekWire: 5 articles\n"
          ]
        },
        {
          "name": "stderr",
          "output_type": "stream",
          "text": [
            "Fetching RSS feeds:  17%|█▋        | 13/77 [00:06<00:33,  1.92feed/s]"
          ]
        },
        {
          "name": "stdout",
          "output_type": "stream",
          "text": [
            "✅ Mashable (Tech): 30 articles\n"
          ]
        },
        {
          "name": "stderr",
          "output_type": "stream",
          "text": [
            "Fetching RSS feeds:  18%|█▊        | 14/77 [00:06<00:31,  2.03feed/s]"
          ]
        },
        {
          "name": "stdout",
          "output_type": "stream",
          "text": [
            "✅ Hacker News (Top): 26 articles\n"
          ]
        },
        {
          "name": "stderr",
          "output_type": "stream",
          "text": [
            "Fetching RSS feeds:  19%|█▉        | 15/77 [00:07<00:31,  1.98feed/s]"
          ]
        },
        {
          "name": "stdout",
          "output_type": "stream",
          "text": [
            "✅ TechMeme: 15 articles\n"
          ]
        },
        {
          "name": "stderr",
          "output_type": "stream",
          "text": [
            "Fetching RSS feeds:  21%|██        | 16/77 [00:07<00:26,  2.31feed/s]"
          ]
        },
        {
          "name": "stdout",
          "output_type": "stream",
          "text": [
            "✅ Slashdot: 15 articles\n"
          ]
        },
        {
          "name": "stderr",
          "output_type": "stream",
          "text": [
            "Fetching RSS feeds:  22%|██▏       | 17/77 [00:08<00:31,  1.91feed/s]"
          ]
        },
        {
          "name": "stdout",
          "output_type": "stream",
          "text": [
            "✅ Lifehacker: 8 articles\n"
          ]
        },
        {
          "name": "stderr",
          "output_type": "stream",
          "text": [
            "Fetching RSS feeds:  23%|██▎       | 18/77 [00:08<00:25,  2.34feed/s]"
          ]
        },
        {
          "name": "stdout",
          "output_type": "stream",
          "text": [
            "✅ MIT Technology Review: 3 articles\n"
          ]
        },
        {
          "name": "stderr",
          "output_type": "stream",
          "text": [
            "Fetching RSS feeds:  25%|██▍       | 19/77 [00:08<00:25,  2.26feed/s]"
          ]
        },
        {
          "name": "stdout",
          "output_type": "stream",
          "text": [
            "✅ BBC News - Technology: 4 articles\n"
          ]
        },
        {
          "name": "stderr",
          "output_type": "stream",
          "text": [
            "Fetching RSS feeds:  26%|██▌       | 20/77 [00:09<00:23,  2.43feed/s]"
          ]
        },
        {
          "name": "stdout",
          "output_type": "stream",
          "text": [
            "✅ The Guardian - Technology: 3 articles\n",
            "✅ NY Times - Technology: 9 articles\n"
          ]
        },
        {
          "name": "stderr",
          "output_type": "stream",
          "text": [
            "Fetching RSS feeds:  29%|██▊       | 22/77 [00:09<00:15,  3.47feed/s]"
          ]
        },
        {
          "name": "stdout",
          "output_type": "stream",
          "text": [
            "⚠️ Warning: Reuters Technology News has parsing issues\n",
            "✅ Reuters Technology News: 0 articles\n"
          ]
        },
        {
          "name": "stderr",
          "output_type": "stream",
          "text": [
            "Fetching RSS feeds:  30%|██▉       | 23/77 [00:09<00:18,  2.94feed/s]"
          ]
        },
        {
          "name": "stdout",
          "output_type": "stream",
          "text": [
            "✅ CNN Technology: 20 articles\n"
          ]
        },
        {
          "name": "stderr",
          "output_type": "stream",
          "text": [
            "Fetching RSS feeds:  31%|███       | 24/77 [00:10<00:17,  3.02feed/s]"
          ]
        },
        {
          "name": "stdout",
          "output_type": "stream",
          "text": [
            "✅ Business Insider (Tech): 20 articles\n"
          ]
        },
        {
          "name": "stderr",
          "output_type": "stream",
          "text": [
            "Fetching RSS feeds:  32%|███▏      | 25/77 [00:10<00:16,  3.12feed/s]"
          ]
        },
        {
          "name": "stdout",
          "output_type": "stream",
          "text": [
            "✅ HuffPost Tech: 0 articles\n"
          ]
        },
        {
          "name": "stderr",
          "output_type": "stream",
          "text": [
            "Fetching RSS feeds:  34%|███▍      | 26/77 [00:10<00:15,  3.34feed/s]"
          ]
        },
        {
          "name": "stdout",
          "output_type": "stream",
          "text": [
            "✅ ZDNet (All Topics): 20 articles\n"
          ]
        },
        {
          "name": "stderr",
          "output_type": "stream",
          "text": [
            "Fetching RSS feeds:  35%|███▌      | 27/77 [00:11<00:18,  2.65feed/s]"
          ]
        },
        {
          "name": "stdout",
          "output_type": "stream",
          "text": [
            "⚠️ Warning: InfoWorld has parsing issues\n",
            "✅ InfoWorld: 0 articles\n"
          ]
        },
        {
          "name": "stderr",
          "output_type": "stream",
          "text": [
            "Fetching RSS feeds:  36%|███▋      | 28/77 [00:11<00:20,  2.37feed/s]"
          ]
        },
        {
          "name": "stdout",
          "output_type": "stream",
          "text": [
            "⚠️ Warning: Computerworld has parsing issues\n",
            "✅ Computerworld: 0 articles\n"
          ]
        },
        {
          "name": "stderr",
          "output_type": "stream",
          "text": [
            "Fetching RSS feeds:  38%|███▊      | 29/77 [00:12<00:20,  2.39feed/s]"
          ]
        },
        {
          "name": "stdout",
          "output_type": "stream",
          "text": [
            "✅ OpenAI Blog: 3 articles\n"
          ]
        },
        {
          "name": "stderr",
          "output_type": "stream",
          "text": [
            "Fetching RSS feeds:  39%|███▉      | 30/77 [00:12<00:18,  2.47feed/s]"
          ]
        },
        {
          "name": "stdout",
          "output_type": "stream",
          "text": [
            "✅ Google AI Blog (Research): 0 articles\n"
          ]
        },
        {
          "name": "stderr",
          "output_type": "stream",
          "text": [
            "Fetching RSS feeds:  40%|████      | 31/77 [00:13<00:24,  1.85feed/s]"
          ]
        },
        {
          "name": "stdout",
          "output_type": "stream",
          "text": [
            "✅ DeepMind Blog: 1 articles\n"
          ]
        },
        {
          "name": "stderr",
          "output_type": "stream",
          "text": [
            "Fetching RSS feeds:  42%|████▏     | 32/77 [00:14<00:27,  1.65feed/s]"
          ]
        },
        {
          "name": "stdout",
          "output_type": "stream",
          "text": [
            "✅ BAIR (Berkeley AI Research) Blog: 0 articles\n"
          ]
        },
        {
          "name": "stderr",
          "output_type": "stream",
          "text": [
            "Fetching RSS feeds:  43%|████▎     | 33/77 [00:14<00:22,  1.99feed/s]"
          ]
        },
        {
          "name": "stdout",
          "output_type": "stream",
          "text": [
            "✅ Machine Learning Mastery: 0 articles\n"
          ]
        },
        {
          "name": "stderr",
          "output_type": "stream",
          "text": [
            "Fetching RSS feeds:  44%|████▍     | 34/77 [00:17<00:59,  1.38s/feed]"
          ]
        },
        {
          "name": "stdout",
          "output_type": "stream",
          "text": [
            "✅ MarkTechPost (AI News): 5 articles\n"
          ]
        },
        {
          "name": "stderr",
          "output_type": "stream",
          "text": [
            "Fetching RSS feeds:  45%|████▌     | 35/77 [00:21<01:20,  1.91s/feed]"
          ]
        },
        {
          "name": "stdout",
          "output_type": "stream",
          "text": [
            "✅ Analytics Vidhya: 2 articles\n",
            "✅ KDnuggets: 3 articles\n"
          ]
        },
        {
          "name": "stderr",
          "output_type": "stream",
          "text": [
            "Fetching RSS feeds:  48%|████▊     | 37/77 [00:21<00:44,  1.12s/feed]"
          ]
        },
        {
          "name": "stdout",
          "output_type": "stream",
          "text": [
            "✅ Towards Data Science: 4 articles\n"
          ]
        },
        {
          "name": "stderr",
          "output_type": "stream",
          "text": [
            "Fetching RSS feeds:  49%|████▉     | 38/77 [00:22<00:36,  1.05feed/s]"
          ]
        },
        {
          "name": "stdout",
          "output_type": "stream",
          "text": [
            "✅ Datanami: 1 articles\n"
          ]
        },
        {
          "name": "stderr",
          "output_type": "stream",
          "text": [
            "Fetching RSS feeds:  51%|█████     | 39/77 [00:22<00:30,  1.26feed/s]"
          ]
        },
        {
          "name": "stdout",
          "output_type": "stream",
          "text": [
            "✅ Kaggle Blog: 0 articles\n"
          ]
        },
        {
          "name": "stderr",
          "output_type": "stream",
          "text": [
            "Fetching RSS feeds:  52%|█████▏    | 40/77 [00:23<00:24,  1.53feed/s]"
          ]
        },
        {
          "name": "stdout",
          "output_type": "stream",
          "text": [
            "✅ AWS News Blog: 1 articles\n",
            "✅ All Things Distributed (AWS CTO): 0 articles\n"
          ]
        },
        {
          "name": "stderr",
          "output_type": "stream",
          "text": [
            "Fetching RSS feeds:  55%|█████▍    | 42/77 [00:23<00:15,  2.22feed/s]"
          ]
        },
        {
          "name": "stdout",
          "output_type": "stream",
          "text": [
            "✅ Microsoft Azure Blog: 0 articles\n"
          ]
        },
        {
          "name": "stderr",
          "output_type": "stream",
          "text": [
            "Fetching RSS feeds:  56%|█████▌    | 43/77 [00:26<00:44,  1.31s/feed]"
          ]
        },
        {
          "name": "stdout",
          "output_type": "stream",
          "text": [
            "✅ Google Cloud Blog: 0 articles\n"
          ]
        },
        {
          "name": "stderr",
          "output_type": "stream",
          "text": [
            "Fetching RSS feeds:  57%|█████▋    | 44/77 [00:28<00:48,  1.46s/feed]"
          ]
        },
        {
          "name": "stdout",
          "output_type": "stream",
          "text": [
            "✅ CloudTech News: 1 articles\n"
          ]
        },
        {
          "name": "stderr",
          "output_type": "stream",
          "text": [
            "Fetching RSS feeds:  58%|█████▊    | 45/77 [00:29<00:39,  1.25s/feed]"
          ]
        },
        {
          "name": "stdout",
          "output_type": "stream",
          "text": [
            "✅ CloudTweaks: 1 articles\n"
          ]
        },
        {
          "name": "stderr",
          "output_type": "stream",
          "text": [
            "Fetching RSS feeds:  60%|█████▉    | 46/77 [00:29<00:30,  1.03feed/s]"
          ]
        },
        {
          "name": "stdout",
          "output_type": "stream",
          "text": [
            "✅ TechRepublic (Cloud): 1 articles\n"
          ]
        },
        {
          "name": "stderr",
          "output_type": "stream",
          "text": [
            "Fetching RSS feeds:  61%|██████    | 47/77 [00:30<00:22,  1.32feed/s]"
          ]
        },
        {
          "name": "stdout",
          "output_type": "stream",
          "text": [
            "⚠️ Warning: IBM Cloud Blog has parsing issues\n",
            "✅ IBM Cloud Blog: 0 articles\n"
          ]
        },
        {
          "name": "stderr",
          "output_type": "stream",
          "text": [
            "Fetching RSS feeds:  62%|██████▏   | 48/77 [00:30<00:23,  1.22feed/s]"
          ]
        },
        {
          "name": "stdout",
          "output_type": "stream",
          "text": [
            "⚠️ Warning: AnandTech has parsing issues\n",
            "✅ AnandTech: 0 articles\n"
          ]
        },
        {
          "name": "stderr",
          "output_type": "stream",
          "text": [
            "Fetching RSS feeds:  64%|██████▎   | 49/77 [00:31<00:19,  1.45feed/s]"
          ]
        },
        {
          "name": "stdout",
          "output_type": "stream",
          "text": [
            "✅ Tom's Hardware: 18 articles\n"
          ]
        },
        {
          "name": "stderr",
          "output_type": "stream",
          "text": [
            "Fetching RSS feeds:  65%|██████▍   | 50/77 [00:31<00:14,  1.81feed/s]"
          ]
        },
        {
          "name": "stdout",
          "output_type": "stream",
          "text": [
            "✅ 9to5Mac: 22 articles\n"
          ]
        },
        {
          "name": "stderr",
          "output_type": "stream",
          "text": [
            "Fetching RSS feeds:  66%|██████▌   | 51/77 [00:32<00:14,  1.83feed/s]"
          ]
        },
        {
          "name": "stdout",
          "output_type": "stream",
          "text": [
            "✅ Android Authority: 28 articles\n"
          ]
        },
        {
          "name": "stderr",
          "output_type": "stream",
          "text": [
            "Fetching RSS feeds:  68%|██████▊   | 52/77 [00:32<00:12,  2.06feed/s]"
          ]
        },
        {
          "name": "stdout",
          "output_type": "stream",
          "text": [
            "✅ ExtremeTech: 8 articles\n"
          ]
        },
        {
          "name": "stderr",
          "output_type": "stream",
          "text": [
            "Fetching RSS feeds:  69%|██████▉   | 53/77 [00:33<00:17,  1.40feed/s]"
          ]
        },
        {
          "name": "stdout",
          "output_type": "stream",
          "text": [
            "✅ NVIDIA Blog: 1 articles\n"
          ]
        },
        {
          "name": "stderr",
          "output_type": "stream",
          "text": [
            "Fetching RSS feeds:  70%|███████   | 54/77 [00:34<00:13,  1.68feed/s]"
          ]
        },
        {
          "name": "stdout",
          "output_type": "stream",
          "text": [
            "✅ Official Microsoft Blog: 0 articles\n",
            "✅ Apple Newsroom: 1 articles\n"
          ]
        },
        {
          "name": "stderr",
          "output_type": "stream",
          "text": [
            "Fetching RSS feeds:  73%|███████▎  | 56/77 [00:34<00:08,  2.43feed/s]"
          ]
        },
        {
          "name": "stdout",
          "output_type": "stream",
          "text": [
            "✅ Google (The Keyword): 1 articles\n",
            "✅ Facebook Newsroom (Meta): 2 articles\n"
          ]
        },
        {
          "name": "stderr",
          "output_type": "stream",
          "text": [
            "Fetching RSS feeds:  75%|███████▌  | 58/77 [00:34<00:05,  3.26feed/s]"
          ]
        },
        {
          "name": "stdout",
          "output_type": "stream",
          "text": [
            "✅ Meta Engineering Blog: 0 articles\n"
          ]
        },
        {
          "name": "stderr",
          "output_type": "stream",
          "text": [
            "Fetching RSS feeds:  77%|███████▋  | 59/77 [00:36<00:11,  1.51feed/s]"
          ]
        },
        {
          "name": "stdout",
          "output_type": "stream",
          "text": [
            "✅ Meta Research Blog: 10 articles\n"
          ]
        },
        {
          "name": "stderr",
          "output_type": "stream",
          "text": [
            "Fetching RSS feeds:  78%|███████▊  | 60/77 [00:36<00:08,  1.89feed/s]"
          ]
        },
        {
          "name": "stdout",
          "output_type": "stream",
          "text": [
            "✅ Stratechery (Ben Thompson): 1 articles\n"
          ]
        },
        {
          "name": "stderr",
          "output_type": "stream",
          "text": [
            "Fetching RSS feeds:  79%|███████▉  | 61/77 [00:37<00:07,  2.00feed/s]"
          ]
        },
        {
          "name": "stdout",
          "output_type": "stream",
          "text": [
            "✅ Daring Fireball: 3 articles\n"
          ]
        },
        {
          "name": "stderr",
          "output_type": "stream",
          "text": [
            "Fetching RSS feeds:  81%|████████  | 62/77 [00:37<00:07,  2.09feed/s]"
          ]
        },
        {
          "name": "stdout",
          "output_type": "stream",
          "text": [
            "✅ The Hacker News: 4 articles\n"
          ]
        },
        {
          "name": "stderr",
          "output_type": "stream",
          "text": [
            "Fetching RSS feeds:  82%|████████▏ | 63/77 [00:37<00:06,  2.33feed/s]"
          ]
        },
        {
          "name": "stdout",
          "output_type": "stream",
          "text": [
            "✅ BleepingComputer: 9 articles\n"
          ]
        },
        {
          "name": "stderr",
          "output_type": "stream",
          "text": [
            "Fetching RSS feeds:  83%|████████▎ | 64/77 [00:38<00:05,  2.31feed/s]"
          ]
        },
        {
          "name": "stdout",
          "output_type": "stream",
          "text": [
            "✅ Microsoft Security Response Center: 0 articles\n"
          ]
        },
        {
          "name": "stderr",
          "output_type": "stream",
          "text": [
            "                                                                     "
          ]
        },
        {
          "name": "stdout",
          "output_type": "stream",
          "text": [
            "✅ Cloudflare Blog: 8 articles\n",
            "⚠️ Warning: Netflix Tech Blog has parsing issues\n"
          ]
        },
        {
          "name": "stderr",
          "output_type": "stream",
          "text": [
            "Fetching RSS feeds:  86%|████████▌ | 66/77 [00:39<00:04,  2.40feed/s]"
          ]
        },
        {
          "name": "stdout",
          "output_type": "stream",
          "text": [
            "✅ Netflix Tech Blog: 0 articles\n"
          ]
        },
        {
          "name": "stderr",
          "output_type": "stream",
          "text": [
            "Fetching RSS feeds:  87%|████████▋ | 67/77 [00:41<00:10,  1.03s/feed]"
          ]
        },
        {
          "name": "stdout",
          "output_type": "stream",
          "text": [
            "✅ Datafloq: 0 articles\n"
          ]
        },
        {
          "name": "stderr",
          "output_type": "stream",
          "text": [
            "Fetching RSS feeds:  88%|████████▊ | 68/77 [00:43<00:11,  1.27s/feed]"
          ]
        },
        {
          "name": "stdout",
          "output_type": "stream",
          "text": [
            "✅ Xtract.io Blog: 1 articles\n"
          ]
        },
        {
          "name": "stderr",
          "output_type": "stream",
          "text": [
            "Fetching RSS feeds:  90%|████████▉ | 69/77 [00:44<00:09,  1.22s/feed]"
          ]
        },
        {
          "name": "stdout",
          "output_type": "stream",
          "text": [
            "✅ Silicon Valley Journals: 2 articles\n"
          ]
        },
        {
          "name": "stderr",
          "output_type": "stream",
          "text": [
            "Fetching RSS feeds:  91%|█████████ | 70/77 [00:44<00:06,  1.08feed/s]"
          ]
        },
        {
          "name": "stdout",
          "output_type": "stream",
          "text": [
            "✅ TechSpot: 14 articles\n"
          ]
        },
        {
          "name": "stderr",
          "output_type": "stream",
          "text": [
            "Fetching RSS feeds:  92%|█████████▏| 71/77 [00:45<00:04,  1.21feed/s]"
          ]
        },
        {
          "name": "stdout",
          "output_type": "stream",
          "text": [
            "✅ AppleInsider: 17 articles\n"
          ]
        },
        {
          "name": "stderr",
          "output_type": "stream",
          "text": [
            "Fetching RSS feeds:  94%|█████████▎| 72/77 [00:45<00:03,  1.48feed/s]"
          ]
        },
        {
          "name": "stdout",
          "output_type": "stream",
          "text": [
            "✅ gHacks: 3 articles\n"
          ]
        },
        {
          "name": "stderr",
          "output_type": "stream",
          "text": [
            "Fetching RSS feeds:  95%|█████████▍| 73/77 [00:47<00:03,  1.12feed/s]"
          ]
        },
        {
          "name": "stdout",
          "output_type": "stream",
          "text": [
            "✅ eWeek: 2 articles\n"
          ]
        },
        {
          "name": "stderr",
          "output_type": "stream",
          "text": [
            "Fetching RSS feeds:  96%|█████████▌| 74/77 [00:48<00:03,  1.05s/feed]"
          ]
        },
        {
          "name": "stdout",
          "output_type": "stream",
          "text": [
            "✅ Droid Life: 3 articles\n"
          ]
        },
        {
          "name": "stderr",
          "output_type": "stream",
          "text": [
            "Fetching RSS feeds:  97%|█████████▋| 75/77 [00:49<00:01,  1.03feed/s]"
          ]
        },
        {
          "name": "stdout",
          "output_type": "stream",
          "text": [
            "✅ TechJuice: 15 articles\n"
          ]
        },
        {
          "name": "stderr",
          "output_type": "stream",
          "text": [
            "Fetching RSS feeds:  99%|█████████▊| 76/77 [00:50<00:01,  1.12s/feed]"
          ]
        },
        {
          "name": "stdout",
          "output_type": "stream",
          "text": [
            "✅ Developer Tech News: 1 articles\n"
          ]
        },
        {
          "name": "stderr",
          "output_type": "stream",
          "text": [
            "Fetching RSS feeds: 100%|██████████| 77/77 [00:52<00:00,  1.47feed/s]"
          ]
        },
        {
          "name": "stdout",
          "output_type": "stream",
          "text": [
            "✅ TechPlugged: 5 articles\n",
            "============================================================\n",
            "✅ Collection complete!\n",
            "📊 Total articles collected: 491\n",
            "📰 Feeds processed: 77\n",
            "\n",
            "📈 Feed Statistics:\n",
            "  • TechCrunch: 20 articles\n",
            "  • WIRED: 14 articles\n",
            "  • The Verge: 10 articles\n",
            "  • Ars Technica: 5 articles\n",
            "  • Engadget: 17 articles\n",
            "  • Gizmodo: 20 articles\n",
            "  • CNET News: 25 articles\n",
            "  • TechRadar: 0 articles\n",
            "  • Digital Trends: 0 articles\n",
            "  • VentureBeat: 0 articles\n",
            "  • Recode (Vox Technology): 0 articles\n",
            "  • GeekWire: 5 articles\n",
            "  • Mashable (Tech): 30 articles\n",
            "  • Hacker News (Top): 26 articles\n",
            "  • TechMeme: 15 articles\n",
            "  • Slashdot: 15 articles\n",
            "  • Lifehacker: 8 articles\n",
            "  • MIT Technology Review: 3 articles\n",
            "  • BBC News - Technology: 4 articles\n",
            "  • The Guardian - Technology: 3 articles\n",
            "  • NY Times - Technology: 9 articles\n",
            "  • Reuters Technology News: 0 articles\n",
            "  • CNN Technology: 20 articles\n",
            "  • Business Insider (Tech): 20 articles\n",
            "  • HuffPost Tech: 0 articles\n",
            "  • ZDNet (All Topics): 20 articles\n",
            "  • InfoWorld: 0 articles\n",
            "  • Computerworld: 0 articles\n",
            "  • OpenAI Blog: 3 articles\n",
            "  • Google AI Blog (Research): 0 articles\n",
            "  • DeepMind Blog: 1 articles\n",
            "  • BAIR (Berkeley AI Research) Blog: 0 articles\n",
            "  • Machine Learning Mastery: 0 articles\n",
            "  • MarkTechPost (AI News): 5 articles\n",
            "  • Analytics Vidhya: 2 articles\n",
            "  • KDnuggets: 3 articles\n",
            "  • Towards Data Science: 4 articles\n",
            "  • Datanami: 1 articles\n",
            "  • Kaggle Blog: 0 articles\n",
            "  • AWS News Blog: 1 articles\n",
            "  • All Things Distributed (AWS CTO): 0 articles\n",
            "  • Microsoft Azure Blog: 0 articles\n",
            "  • Google Cloud Blog: 0 articles\n",
            "  • CloudTech News: 1 articles\n",
            "  • CloudTweaks: 1 articles\n",
            "  • TechRepublic (Cloud): 1 articles\n",
            "  • IBM Cloud Blog: 0 articles\n",
            "  • AnandTech: 0 articles\n",
            "  • Tom's Hardware: 18 articles\n",
            "  • 9to5Mac: 22 articles\n",
            "  • Android Authority: 28 articles\n",
            "  • ExtremeTech: 8 articles\n",
            "  • NVIDIA Blog: 1 articles\n",
            "  • Official Microsoft Blog: 0 articles\n",
            "  • Apple Newsroom: 1 articles\n",
            "  • Google (The Keyword): 1 articles\n",
            "  • Facebook Newsroom (Meta): 2 articles\n",
            "  • Meta Engineering Blog: 0 articles\n",
            "  • Meta Research Blog: 10 articles\n",
            "  • Stratechery (Ben Thompson): 1 articles\n",
            "  • Daring Fireball: 3 articles\n",
            "  • The Hacker News: 4 articles\n",
            "  • BleepingComputer: 9 articles\n",
            "  • Microsoft Security Response Center: 0 articles\n",
            "  • Cloudflare Blog: 8 articles\n",
            "  • Netflix Tech Blog: 0 articles\n",
            "  • Datafloq: 0 articles\n",
            "  • Xtract.io Blog: 1 articles\n",
            "  • Silicon Valley Journals: 2 articles\n",
            "  • TechSpot: 14 articles\n",
            "  • AppleInsider: 17 articles\n",
            "  • gHacks: 3 articles\n",
            "  • eWeek: 2 articles\n",
            "  • Droid Life: 3 articles\n",
            "  • TechJuice: 15 articles\n",
            "  • Developer Tech News: 1 articles\n",
            "  • TechPlugged: 5 articles\n"
          ]
        },
        {
          "name": "stderr",
          "output_type": "stream",
          "text": [
            "\n"
          ]
        }
      ],
      "source": [
        "# Initialize collector\n",
        "collector = RSSFeedCollector(rss_config)\n",
        "\n",
        "# Collect articles from all feeds\n",
        "print(\"🚀 Starting RSS feed collection...\")\n",
        "print(f\"⏰ Collecting articles from last {rss_config['settings']['max_age_hours']} hours\")\n",
        "print(\"=\" * 60)\n",
        "\n",
        "all_articles, feed_stats = collector.collect_all_feeds()\n",
        "\n",
        "print(\"=\" * 60)\n",
        "print(f\"✅ Collection complete!\")\n",
        "print(f\"📊 Total articles collected: {len(all_articles)}\")\n",
        "print(f\"📰 Feeds processed: {len(feed_stats)}\")\n",
        "\n",
        "# Display feed statistics\n",
        "print(f\"\\n📈 Feed Statistics:\")\n",
        "for stat in feed_stats:\n",
        "    print(f\"  • {stat['feed_name']}: {stat['articles_count']} articles\")\n"
      ]
    },
    {
      "cell_type": "markdown",
      "metadata": {},
      "source": [
        "## Analyze and Save Data\n"
      ]
    },
    {
      "cell_type": "code",
      "execution_count": 10,
      "metadata": {},
      "outputs": [
        {
          "name": "stdout",
          "output_type": "stream",
          "text": [
            "🔧 FIXED: Data Analysis with Proper Date Handling\n",
            "==================================================\n",
            "📊 Data Analysis:\n",
            "   Total articles: 491\n",
            "   Unique feeds: 55\n",
            "   Categories: ['Tech News', 'AI/ML', 'Data Science', 'Cloud/Enterprise', 'Hardware/Gadgets', 'Big Tech', 'Tech Blog', 'Cybersecurity', 'Developer / Security / Networking', 'Apple News', 'Enterprise Tech', 'Android News', 'Developer']\n",
            "   Date range: 2025-09-21 15:05:00 to 2025-09-22 19:00:49\n",
            "   Valid dates: 461/491 articles\n",
            "\n",
            "📈 Articles by Category:\n",
            "   Tech News: 328 articles\n",
            "   Hardware/Gadgets: 76 articles\n",
            "   Apple News: 17 articles\n",
            "   Big Tech: 15 articles\n",
            "   Cybersecurity: 13 articles\n",
            "   Data Science: 11 articles\n",
            "   AI/ML: 9 articles\n",
            "   Developer / Security / Networking: 8 articles\n",
            "   Cloud/Enterprise: 4 articles\n",
            "   Tech Blog: 4 articles\n",
            "   Android News: 3 articles\n",
            "   Enterprise Tech: 2 articles\n",
            "   Developer: 1 articles\n",
            "\n",
            "📰 Top 10 Feeds:\n",
            "   Mashable (Tech): 30 articles\n",
            "   Android Authority: 28 articles\n",
            "   Hacker News (Top): 26 articles\n",
            "   CNET News: 25 articles\n",
            "   9to5Mac: 22 articles\n",
            "   TechCrunch: 20 articles\n",
            "   CNN Technology: 20 articles\n",
            "   ZDNet (All Topics): 20 articles\n",
            "   Gizmodo: 20 articles\n",
            "   Business Insider (Tech): 20 articles\n",
            "\n",
            "💾 Saving comprehensive data...\n",
            "💾 Saved comprehensive data to ../data/rss/rss_data.json\n",
            "   📊 Total articles: 491\n",
            "   📰 Feeds: 77\n",
            "   🏷️ Categories: 13\n",
            "   📁 File size: 4338.1 KB\n"
          ]
        }
      ],
      "source": [
        "# FIXED VERSION: Run this instead of the problematic cell above\n",
        "print(\"🔧 FIXED: Data Analysis with Proper Date Handling\")\n",
        "print(\"=\" * 50)\n",
        "\n",
        "# Convert to DataFrame for analysis\n",
        "df = pd.DataFrame(all_articles)\n",
        "\n",
        "if len(df) > 0:\n",
        "    print(f\"📊 Data Analysis:\")\n",
        "    print(f\"   Total articles: {len(df)}\")\n",
        "    print(f\"   Unique feeds: {df['feed_name'].nunique()}\")\n",
        "    print(f\"   Categories: {df['feed_category'].unique().tolist()}\")\n",
        "    \n",
        "    # Handle date range with proper error handling\n",
        "    try:\n",
        "        # Convert published column to datetime, handling mixed types\n",
        "        df['published_parsed'] = pd.to_datetime(df['published'], errors='coerce')\n",
        "        valid_dates = df['published_parsed'].dropna()\n",
        "        if len(valid_dates) > 0:\n",
        "            print(f\"   Date range: {valid_dates.min()} to {valid_dates.max()}\")\n",
        "            print(f\"   Valid dates: {len(valid_dates)}/{len(df)} articles\")\n",
        "        else:\n",
        "            print(f\"   Date range: No valid dates found\")\n",
        "    except Exception as e:\n",
        "        print(f\"   Date range: Error parsing dates - {e}\")\n",
        "    \n",
        "    # Articles by category\n",
        "    category_counts = df['feed_category'].value_counts()\n",
        "    print(f\"\\n📈 Articles by Category:\")\n",
        "    for category, count in category_counts.items():\n",
        "        print(f\"   {category}: {count} articles\")\n",
        "    \n",
        "    # Articles by feed\n",
        "    feed_counts = df['feed_name'].value_counts()\n",
        "    print(f\"\\n📰 Top 10 Feeds:\")\n",
        "    for feed, count in feed_counts.head(10).items():\n",
        "        print(f\"   {feed}: {count} articles\")\n",
        "        \n",
        "    # Save comprehensive data\n",
        "    print(f\"\\n💾 Saving comprehensive data...\")\n",
        "    \n",
        "    # Create comprehensive data structure with JSON-serializable data\n",
        "    # Convert DataFrame to JSON-serializable format\n",
        "    def make_json_serializable(obj):\n",
        "        \"\"\"Convert pandas objects to JSON-serializable format\"\"\"\n",
        "        if hasattr(obj, 'isoformat'):  # datetime objects\n",
        "            return obj.isoformat()\n",
        "        elif hasattr(obj, 'item'):  # numpy scalars\n",
        "            return obj.item()\n",
        "        elif isinstance(obj, (list, tuple)):\n",
        "            return [make_json_serializable(item) for item in obj]\n",
        "        elif isinstance(obj, dict):\n",
        "            return {key: make_json_serializable(value) for key, value in obj.items()}\n",
        "        else:\n",
        "            return obj\n",
        "    \n",
        "    # Convert DataFrame to records, handling non-serializable objects\n",
        "    articles_records = []\n",
        "    for _, row in df.iterrows():\n",
        "        article_dict = {}\n",
        "        for col, value in row.items():\n",
        "            article_dict[col] = make_json_serializable(value)\n",
        "        articles_records.append(article_dict)\n",
        "    \n",
        "    comprehensive_data = {\n",
        "        'metadata': {\n",
        "            'collection_date': datetime.now().isoformat(),\n",
        "            'total_articles': len(df),\n",
        "            'feeds_processed': len(feed_stats),\n",
        "            'categories': category_counts.to_dict(),\n",
        "            'feed_stats': feed_stats,\n",
        "            'settings': rss_config['settings']\n",
        "        },\n",
        "        'articles': articles_records,\n",
        "        'articles_by_category': {\n",
        "            category: [article for article in articles_records if article['feed_category'] == category]\n",
        "            for category in df['feed_category'].unique()\n",
        "        },\n",
        "        'articles_by_feed': {\n",
        "            feed_name: [article for article in articles_records if article['feed_name'] == feed_name]\n",
        "            for feed_name in df['feed_name'].unique()\n",
        "        }\n",
        "    }\n",
        "    \n",
        "    # Save comprehensive data\n",
        "    comprehensive_path = '../data/rss/rss_data.json'\n",
        "    with open(comprehensive_path, 'w') as f:\n",
        "        json.dump(comprehensive_data, f, indent=2)\n",
        "    \n",
        "    print(f\"💾 Saved comprehensive data to {comprehensive_path}\")\n",
        "    print(f\"   📊 Total articles: {len(df)}\")\n",
        "    print(f\"   📰 Feeds: {len(feed_stats)}\")\n",
        "    print(f\"   🏷️ Categories: {len(df['feed_category'].unique())}\")\n",
        "    print(f\"   📁 File size: {os.path.getsize(comprehensive_path) / 1024:.1f} KB\")\n",
        "        \n",
        "else:\n",
        "    print(\"❌ No articles collected\")\n"
      ]
    },
    {
      "cell_type": "markdown",
      "metadata": {},
      "source": [
        "## Visualize Data\n"
      ]
    },
    {
      "cell_type": "code",
      "execution_count": 11,
      "metadata": {},
      "outputs": [
        {
          "name": "stdout",
          "output_type": "stream",
          "text": [
            "📊 CONTENT ANALYSIS: Summary vs Content Availability\n",
            "============================================================\n",
            "📰 Total articles analyzed: 491\n",
            "\n",
            "📝 SUMMARY ANALYSIS:\n",
            "   ✅ Articles with summary: 485 (98.8%)\n",
            "   ❌ Articles without summary: 6 (1.2%)\n",
            "   📏 Average summary length: 335 characters\n",
            "   📏 Shortest summary: 3 characters\n",
            "   📏 Longest summary: 7462 characters\n",
            "\n",
            "📄 CONTENT ANALYSIS:\n",
            "   ✅ Articles with content: 174 (35.4%)\n",
            "   ❌ Articles without content: 317 (64.6%)\n",
            "   📏 Average content length: 2968 characters\n",
            "   📏 Shortest content: 42 characters\n",
            "   📏 Longest content: 22229 characters\n",
            "\n",
            "📊 CONTENT AVAILABILITY BY FEED:\n",
            "   Feed Name                 Total  Summary%   Content%  \n",
            "   ------------------------- ------ ---------- ----------\n",
            "   Mashable (Tech)           30     100.0    % 100.0    %\n",
            "   Android Authority         28     100.0    % 100.0    %\n",
            "   Hacker News (Top)         26     100.0    % 0.0      %\n",
            "   CNET News                 25     100.0    % 0.0      %\n",
            "   9to5Mac                   22     100.0    % 0.0      %\n",
            "   TechCrunch                20     100.0    % 0.0      %\n",
            "   Gizmodo                   20     100.0    % 100.0    %\n",
            "   CNN Technology            20     100.0    % 0.0      %\n",
            "   Business Insider (Tech)   20     100.0    % 100.0    %\n",
            "   ZDNet (All Topics)        20     100.0    % 0.0      %\n",
            "   Tom's Hardware            18     100.0    % 0.0      %\n",
            "   Engadget                  17     100.0    % 0.0      %\n",
            "   AppleInsider              17     100.0    % 0.0      %\n",
            "   TechMeme                  15     100.0    % 0.0      %\n",
            "   Slashdot                  15     100.0    % 0.0      %\n",
            "\n",
            "🏆 FEEDS WITH BEST CONTENT AVAILABILITY:\n",
            "   Mashable (Tech): 30/30 articles (100.0%)\n",
            "   Android Authority: 28/28 articles (100.0%)\n",
            "   Gizmodo: 20/20 articles (100.0%)\n",
            "   Business Insider (Tech): 20/20 articles (100.0%)\n",
            "   The Verge: 10/10 articles (100.0%)\n",
            "   NY Times - Technology: 9/9 articles (100.0%)\n",
            "   Lifehacker: 8/8 articles (100.0%)\n",
            "   Cloudflare Blog: 8/8 articles (100.0%)\n",
            "   Ars Technica: 5/5 articles (100.0%)\n",
            "   GeekWire: 5/5 articles (100.0%)\n",
            "\n",
            "💡 RECOMMENDATIONS FOR NEWSLETTER GENERATION:\n",
            "   📝 Use SUMMARY as primary content source (98.8% availability)\n",
            "   📄 CONTENT field has limited availability (35.4% availability)\n",
            "   🎯 Focus on feeds with high summary quality for consistent content\n",
            "   🔍 Consider web scraping for full articles when content is needed\n",
            "\n",
            "📰 SAMPLE ARTICLES WITH FULL CONTENT:\n",
            "\n",
            "   1. Facebook Dating tries using AI to end ‘swipe fatigue’...\n",
            "      Feed: The Verge\n",
            "      Content length: 1273 characters\n",
            "      Content preview: Facebook Dating is getting new AI features to help users avoid “swipe fatigue,” Meta announced today...\n",
            "\n",
            "   2. A ‘global call for AI red lines’ sounds the alarm about the ...\n",
            "      Feed: The Verge\n",
            "      Content length: 3107 characters\n",
            "      Content preview: On Monday, more than 200 former heads of state, diplomats, Nobel laureates, AI leaders, scientists, ...\n",
            "\n",
            "   3. How to sign up for Amazon Prime...\n",
            "      Feed: The Verge\n",
            "      Content length: 4381 characters\n",
            "      Content preview: It feels like July’s four-day Prime Day just happened, but Amazon’s annual fall sale event is about ...\n"
          ]
        }
      ],
      "source": [
        "# CONTENT ANALYSIS: Summary vs Content Availability\n",
        "print(\"📊 CONTENT ANALYSIS: Summary vs Content Availability\")\n",
        "print(\"=\" * 60)\n",
        "\n",
        "# Load the collected data\n",
        "import json\n",
        "with open('../data/rss/rss_data.json', 'r') as f:\n",
        "    data = json.load(f)\n",
        "\n",
        "articles = data['articles']\n",
        "print(f\"📰 Total articles analyzed: {len(articles)}\")\n",
        "\n",
        "# Analyze content availability\n",
        "summary_stats = {\n",
        "    'has_summary': 0,\n",
        "    'empty_summary': 0,\n",
        "    'summary_lengths': []\n",
        "}\n",
        "\n",
        "content_stats = {\n",
        "    'has_content': 0,\n",
        "    'empty_content': 0,\n",
        "    'content_lengths': []\n",
        "}\n",
        "\n",
        "# Analyze each article\n",
        "for article in articles:\n",
        "    # Check summary\n",
        "    summary = article.get('summary', '').strip()\n",
        "    if summary:\n",
        "        summary_stats['has_summary'] += 1\n",
        "        summary_stats['summary_lengths'].append(len(summary))\n",
        "    else:\n",
        "        summary_stats['empty_summary'] += 1\n",
        "    \n",
        "    # Check content\n",
        "    content = article.get('content', '').strip()\n",
        "    if content:\n",
        "        content_stats['has_content'] += 1\n",
        "        content_stats['content_lengths'].append(len(content))\n",
        "    else:\n",
        "        content_stats['empty_content'] += 1\n",
        "\n",
        "# Display results\n",
        "print(f\"\\n📝 SUMMARY ANALYSIS:\")\n",
        "print(f\"   ✅ Articles with summary: {summary_stats['has_summary']} ({summary_stats['has_summary']/len(articles)*100:.1f}%)\")\n",
        "print(f\"   ❌ Articles without summary: {summary_stats['empty_summary']} ({summary_stats['empty_summary']/len(articles)*100:.1f}%)\")\n",
        "\n",
        "if summary_stats['summary_lengths']:\n",
        "    avg_summary_length = sum(summary_stats['summary_lengths']) / len(summary_stats['summary_lengths'])\n",
        "    print(f\"   📏 Average summary length: {avg_summary_length:.0f} characters\")\n",
        "    print(f\"   📏 Shortest summary: {min(summary_stats['summary_lengths'])} characters\")\n",
        "    print(f\"   📏 Longest summary: {max(summary_stats['summary_lengths'])} characters\")\n",
        "\n",
        "print(f\"\\n📄 CONTENT ANALYSIS:\")\n",
        "print(f\"   ✅ Articles with content: {content_stats['has_content']} ({content_stats['has_content']/len(articles)*100:.1f}%)\")\n",
        "print(f\"   ❌ Articles without content: {content_stats['empty_content']} ({content_stats['empty_content']/len(articles)*100:.1f}%)\")\n",
        "\n",
        "if content_stats['content_lengths']:\n",
        "    avg_content_length = sum(content_stats['content_lengths']) / len(content_stats['content_lengths'])\n",
        "    print(f\"   📏 Average content length: {avg_content_length:.0f} characters\")\n",
        "    print(f\"   📏 Shortest content: {min(content_stats['content_lengths'])} characters\")\n",
        "    print(f\"   📏 Longest content: {max(content_stats['content_lengths'])} characters\")\n",
        "\n",
        "# Analyze by feed\n",
        "print(f\"\\n📊 CONTENT AVAILABILITY BY FEED:\")\n",
        "feed_content_stats = {}\n",
        "\n",
        "for article in articles:\n",
        "    feed_name = article['feed_name']\n",
        "    if feed_name not in feed_content_stats:\n",
        "        feed_content_stats[feed_name] = {\n",
        "            'total': 0,\n",
        "            'has_summary': 0,\n",
        "            'has_content': 0\n",
        "        }\n",
        "    \n",
        "    feed_content_stats[feed_name]['total'] += 1\n",
        "    if article.get('summary', '').strip():\n",
        "        feed_content_stats[feed_name]['has_summary'] += 1\n",
        "    if article.get('content', '').strip():\n",
        "        feed_content_stats[feed_name]['has_content'] += 1\n",
        "\n",
        "# Sort feeds by total articles\n",
        "sorted_feeds = sorted(feed_content_stats.items(), key=lambda x: x[1]['total'], reverse=True)\n",
        "\n",
        "print(f\"   {'Feed Name':<25} {'Total':<6} {'Summary%':<10} {'Content%':<10}\")\n",
        "print(f\"   {'-'*25} {'-'*6} {'-'*10} {'-'*10}\")\n",
        "\n",
        "for feed_name, stats in sorted_feeds[:15]:  # Show top 15 feeds\n",
        "    summary_pct = (stats['has_summary'] / stats['total']) * 100\n",
        "    content_pct = (stats['has_content'] / stats['total']) * 100\n",
        "    print(f\"   {feed_name[:24]:<25} {stats['total']:<6} {summary_pct:<9.1f}% {content_pct:<9.1f}%\")\n",
        "\n",
        "# Find feeds with best content availability\n",
        "print(f\"\\n🏆 FEEDS WITH BEST CONTENT AVAILABILITY:\")\n",
        "feeds_with_content = [(name, stats) for name, stats in feed_content_stats.items() if stats['has_content'] > 0]\n",
        "feeds_with_content.sort(key=lambda x: x[1]['has_content'], reverse=True)\n",
        "\n",
        "for feed_name, stats in feeds_with_content[:10]:\n",
        "    content_pct = (stats['has_content'] / stats['total']) * 100\n",
        "    print(f\"   {feed_name}: {stats['has_content']}/{stats['total']} articles ({content_pct:.1f}%)\")\n",
        "\n",
        "# Recommendations\n",
        "print(f\"\\n💡 RECOMMENDATIONS FOR NEWSLETTER GENERATION:\")\n",
        "print(f\"   📝 Use SUMMARY as primary content source ({summary_stats['has_summary']/len(articles)*100:.1f}% availability)\")\n",
        "print(f\"   📄 CONTENT field has limited availability ({content_stats['has_content']/len(articles)*100:.1f}% availability)\")\n",
        "print(f\"   🎯 Focus on feeds with high summary quality for consistent content\")\n",
        "print(f\"   🔍 Consider web scraping for full articles when content is needed\")\n",
        "\n",
        "# Sample articles with content\n",
        "if content_stats['has_content'] > 0:\n",
        "    print(f\"\\n📰 SAMPLE ARTICLES WITH FULL CONTENT:\")\n",
        "    articles_with_content = [a for a in articles if a.get('content', '').strip()]\n",
        "    for i, article in enumerate(articles_with_content[:3], 1):\n",
        "        print(f\"\\n   {i}. {article['title'][:60]}...\")\n",
        "        print(f\"      Feed: {article['feed_name']}\")\n",
        "        print(f\"      Content length: {len(article['content'])} characters\")\n",
        "        print(f\"      Content preview: {article['content'][:100]}...\")\n"
      ]
    },
    {
      "cell_type": "code",
      "execution_count": 12,
      "metadata": {},
      "outputs": [
        {
          "name": "stdout",
          "output_type": "stream",
          "text": [
            "💾 Saved analysis plot to ../data/rss/rss_analysis.png\n"
          ]
        },
        {
          "data": {
            "image/png": "[encoded data removed]",
            "text/plain": [
              "<Figure size 1500x1200 with 4 Axes>"
            ]
          },
          "metadata": {},
          "output_type": "display_data"
        },
        {
          "name": "stdout",
          "output_type": "stream",
          "text": [
            "\n",
            "📰 Sample Articles:\n",
            "\n",
            "1. Inside the mind of Elad Gil: Early-stage investing and next-gen innovation at TechCrunch Disrupt 2025\n",
            "   Feed: TechCrunch (Tech News)\n",
            "   Published: 2025-09-22T19:00:00\n",
            "   Summary: Elad Gil shares his approach to early-stage investing, frontier tech, and spotting breakout potentia...\n",
            "   URL: https://techcrunch.com/2025/09/22/elad-gil-one-of-techs-sharpest-minds-on-early-bets-breakout-growth-and-whats-coming-next-at-techcrunch-disrupt-2025/\n",
            "\n",
            "2. Automaker giant Stellantis says customers’ personal data stolen during breach\n",
            "   Feed: TechCrunch (Tech News)\n",
            "   Published: 2025-09-22T18:29:54\n",
            "   Summary: One report says, citing the hackers who took credit for the breach, that 18 million customer records...\n",
            "   URL: https://techcrunch.com/2025/09/22/automaker-giant-stellantis-says-customers-personal-data-stolen-during-breach/\n",
            "\n",
            "3. Here’s what’s happening right now with the US TikTok deal\n",
            "   Feed: TechCrunch (Tech News)\n",
            "   Published: 2025-09-22T18:11:15\n",
            "   Summary: TikTok, owned by the Chinese company ByteDance, has been at the center of controversy in the U.S. fo...\n",
            "   URL: https://techcrunch.com/2025/09/22/heres-whats-happening-right-now-with-the-us-tiktok-deal/\n"
          ]
        }
      ],
      "source": [
        "if len(df) > 0:\n",
        "    # Create visualizations\n",
        "    fig, ((ax1, ax2), (ax3, ax4)) = plt.subplots(2, 2, figsize=(15, 12))\n",
        "    \n",
        "    # 1. Articles by Category\n",
        "    category_counts.plot(kind='bar', ax=ax1, color='skyblue')\n",
        "    ax1.set_title('Articles by Category')\n",
        "    ax1.set_xlabel('Category')\n",
        "    ax1.set_ylabel('Number of Articles')\n",
        "    ax1.tick_params(axis='x', rotation=45)\n",
        "    \n",
        "    # 2. Top 10 Feeds\n",
        "    feed_counts.head(10).plot(kind='bar', ax=ax2, color='lightcoral')\n",
        "    ax2.set_title('Top 10 Feeds by Article Count')\n",
        "    ax2.set_xlabel('Feed Name')\n",
        "    ax2.set_ylabel('Number of Articles')\n",
        "    ax2.tick_params(axis='x', rotation=45)\n",
        "    \n",
        "    # 3. Articles by Hour (if we have time data)\n",
        "    if 'published' in df.columns and df['published'].notna().any():\n",
        "        df['published_dt'] = pd.to_datetime(df['published'])\n",
        "        df['hour'] = df['published_dt'].dt.hour\n",
        "        hourly_counts = df['hour'].value_counts().sort_index()\n",
        "        hourly_counts.plot(kind='line', ax=ax3, marker='o', color='green')\n",
        "        ax3.set_title('Articles Published by Hour')\n",
        "        ax3.set_xlabel('Hour of Day')\n",
        "        ax3.set_ylabel('Number of Articles')\n",
        "        ax3.grid(True, alpha=0.3)\n",
        "    \n",
        "    # 4. Feed Performance (articles per feed)\n",
        "    feed_performance = df.groupby('feed_name').size().sort_values(ascending=True)\n",
        "    feed_performance.plot(kind='barh', ax=ax4, color='orange')\n",
        "    ax4.set_title('Articles per Feed')\n",
        "    ax4.set_xlabel('Number of Articles')\n",
        "    \n",
        "    plt.tight_layout()\n",
        "    \n",
        "    # Save the plot\n",
        "    plt.savefig('../data/rss/rss_analysis.png', dpi=300, bbox_inches='tight')\n",
        "    print(\"💾 Saved analysis plot to ../data/rss/rss_analysis.png\")\n",
        "    \n",
        "    plt.show()\n",
        "    \n",
        "    # Display sample articles\n",
        "    print(f\"\\n📰 Sample Articles:\")\n",
        "    for i, (_, article) in enumerate(df.head(3).iterrows(), 1):\n",
        "        print(f\"\\n{i}. {article['title']}\")\n",
        "        print(f\"   Feed: {article['feed_name']} ({article['feed_category']})\")\n",
        "        print(f\"   Published: {article['published']}\")\n",
        "        print(f\"   Summary: {article['summary'][:100]}...\")\n",
        "        print(f\"   URL: {article['url']}\")\n",
        "else:\n",
        "    print(\"❌ No data to visualize\")\n"
      ]
    }
  ],
  "metadata": {
    "kernelspec": {
      "display_name": "venv",
      "language": "python",
      "name": "python3"
    },
    "language_info": {
      "codemirror_mode": {
        "name": "ipython",
        "version": 3
      },
      "file_extension": ".py",
      "mimetype": "text/x-python",
      "name": "python",
      "nbconvert_exporter": "python",
      "pygments_lexer": "ipython3",
      "version": "3.13.5"
    }
  },
  "nbformat": 4,
  "nbformat_minor": 2
}
