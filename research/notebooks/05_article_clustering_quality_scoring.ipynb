{
  "cells": [
    {
      "cell_type": "markdown",
      "metadata": {},
      "source": [
        "# Article Clustering and Quality Scoring\n",
        "\n",
        "This notebook explores quality scoring based on article clustering using embeddings.\n",
        "The hypothesis is that news mentioned across multiple sources is likely more important.\n",
        "\n",
        "## Goals\n",
        "\n",
        "1. **Load RSS data** - Use our collected RSS feed data\n",
        "2. **Generate embeddings** - Create semantic embeddings for articles\n",
        "3. **Cluster similar articles** - Group articles that likely cover the same news story\n",
        "4. **Count source mentions** - Track how many unique sources cover each story\n",
        "5. **Quality scoring** - Score articles based on source diversity and importance\n",
        "6. **Analysis & visualization** - Understand patterns and validate approach\n",
        "\n",
        "## Expected Outcomes\n",
        "\n",
        "- Identify major news stories that are covered across multiple sources\n",
        "- Create a quality scoring system based on source diversity\n",
        "- Find articles that are likely duplicates or very similar\n",
        "- Generate insights about news coverage patterns\n"
      ]
    },
    {
      "cell_type": "markdown",
      "metadata": {},
      "source": [
        "## Setup and Imports\n"
      ]
    },
    {
      "cell_type": "code",
      "execution_count": 1,
      "metadata": {},
      "outputs": [
        {
          "name": "stdout",
          "output_type": "stream",
          "text": [
            "✅ All imports loaded successfully\n",
            "📅 Analysis date: 2025-09-22 17:21:32\n"
          ]
        }
      ],
      "source": [
        "import json\n",
        "import numpy as np\n",
        "import pandas as pd\n",
        "import matplotlib.pyplot as plt\n",
        "import seaborn as sns\n",
        "from datetime import datetime, timedelta\n",
        "from typing import List, Dict, Tuple, Optional\n",
        "import warnings\n",
        "warnings.filterwarnings('ignore')\n",
        "\n",
        "# Clustering and embeddings\n",
        "from sentence_transformers import SentenceTransformer\n",
        "from sklearn.cluster import DBSCAN, KMeans\n",
        "from sklearn.metrics.pairwise import cosine_similarity\n",
        "from sklearn.decomposition import PCA\n",
        "from sklearn.manifold import TSNE\n",
        "\n",
        "# Progress tracking\n",
        "from tqdm.auto import tqdm\n",
        "\n",
        "print(\"✅ All imports loaded successfully\")\n",
        "print(f\"📅 Analysis date: {datetime.now().strftime('%Y-%m-%d %H:%M:%S')}\")\n"
      ]
    },
    {
      "cell_type": "markdown",
      "metadata": {},
      "source": [
        "## Load and Prepare Data\n"
      ]
    },
    {
      "cell_type": "code",
      "execution_count": 2,
      "metadata": {},
      "outputs": [
        {
          "name": "stdout",
          "output_type": "stream",
          "text": [
            "📂 Loading RSS data...\n",
            "✅ Loaded 491 articles from 77 feeds\n",
            "📊 Date range: 2025-09-22T15:03:54.233787\n",
            "📈 Categories: ['Tech News', 'Hardware/Gadgets', 'Apple News', 'Big Tech', 'Cybersecurity', 'Data Science', 'AI/ML', 'Developer / Security / Networking', 'Cloud/Enterprise', 'Tech Blog', 'Android News', 'Enterprise Tech', 'Developer']\n"
          ]
        }
      ],
      "source": [
        "# Load RSS data\n",
        "print(\"📂 Loading RSS data...\")\n",
        "with open('../data/rss/rss_data.json', 'r', encoding='utf-8') as f:\n",
        "    rss_data = json.load(f)\n",
        "\n",
        "articles = rss_data['articles']\n",
        "metadata = rss_data['metadata']\n",
        "\n",
        "print(f\"✅ Loaded {len(articles)} articles from {metadata['feeds_processed']} feeds\")\n",
        "print(f\"📊 Date range: {metadata['collection_date']}\")\n",
        "print(f\"📈 Categories: {list(metadata['categories'].keys())}\")\n"
      ]
    },
    {
      "cell_type": "code",
      "execution_count": 3,
      "metadata": {},
      "outputs": [
        {
          "name": "stdout",
          "output_type": "stream",
          "text": [
            "📝 Prepared 483 articles for clustering\n",
            "📏 Text length stats:\n",
            "   Min: 51 chars\n",
            "   Max: 7572 chars\n",
            "   Mean: 563 chars\n"
          ]
        }
      ],
      "source": [
        "# Convert to DataFrame for easier manipulation\n",
        "df = pd.DataFrame(articles)\n",
        "\n",
        "# Clean and prepare text data\n",
        "def prepare_article_text(row):\n",
        "    \"\"\"Combine title, summary, and content for embedding\"\"\"\n",
        "    title = str(row.get('title', ''))\n",
        "    summary = str(row.get('summary', ''))\n",
        "    content = str(row.get('content', ''))[:500]  # Limit content length\n",
        "    \n",
        "    # Combine with separators\n",
        "    combined = f\"{title}. {summary}. {content}\"\n",
        "    return combined.strip()\n",
        "\n",
        "df['combined_text'] = df.apply(prepare_article_text, axis=1)\n",
        "\n",
        "# Remove articles with very short text\n",
        "df = df[df['combined_text'].str.len() > 50]\n",
        "\n",
        "print(f\"📝 Prepared {len(df)} articles for clustering\")\n",
        "print(f\"📏 Text length stats:\")\n",
        "print(f\"   Min: {df['combined_text'].str.len().min()} chars\")\n",
        "print(f\"   Max: {df['combined_text'].str.len().max()} chars\")\n",
        "print(f\"   Mean: {df['combined_text'].str.len().mean():.0f} chars\")\n"
      ]
    },
    {
      "cell_type": "markdown",
      "metadata": {},
      "source": [
        "## Generate Article Embeddings\n"
      ]
    },
    {
      "cell_type": "code",
      "execution_count": 4,
      "metadata": {},
      "outputs": [
        {
          "name": "stdout",
          "output_type": "stream",
          "text": [
            "🤖 Loading sentence transformer model...\n",
            "🔄 Generating embeddings...\n"
          ]
        },
        {
          "data": {
            "application/vnd.jupyter.widget-view+json": {
              "model_id": "f2282586ca714158a2ab3b0f26186bd9",
              "version_major": 2,
              "version_minor": 0
            },
            "text/plain": [
              "Generating embeddings:   0%|          | 0/10 [00:00<?, ?it/s]"
            ]
          },
          "metadata": {},
          "output_type": "display_data"
        },
        {
          "name": "stdout",
          "output_type": "stream",
          "text": [
            "✅ Generated embeddings: (483, 384)\n"
          ]
        }
      ],
      "source": [
        "# Initialize sentence transformer model\n",
        "print(\"🤖 Loading sentence transformer model...\")\n",
        "model = SentenceTransformer('all-MiniLM-L6-v2')  # Fast and effective for clustering\n",
        "\n",
        "# Generate embeddings\n",
        "print(\"🔄 Generating embeddings...\")\n",
        "texts = df['combined_text'].tolist()\n",
        "\n",
        "# Process in batches to avoid memory issues\n",
        "batch_size = 50\n",
        "embeddings = []\n",
        "\n",
        "for i in tqdm(range(0, len(texts), batch_size), desc=\"Generating embeddings\"):\n",
        "    batch = texts[i:i + batch_size]\n",
        "    batch_embeddings = model.encode(batch, convert_to_tensor=False)\n",
        "    embeddings.extend(batch_embeddings)\n",
        "\n",
        "embeddings = np.array(embeddings)\n",
        "print(f\"✅ Generated embeddings: {embeddings.shape}\")\n"
      ]
    },
    {
      "cell_type": "markdown",
      "metadata": {},
      "source": [
        "## Clustering Analysis\n"
      ]
    },
    {
      "cell_type": "code",
      "execution_count": 5,
      "metadata": {},
      "outputs": [
        {
          "name": "stdout",
          "output_type": "stream",
          "text": [
            "🔄 Calculating similarity matrix...\n",
            "✅ Similarity matrix shape: (483, 483)\n",
            "🔍 Applying DBSCAN clustering...\n",
            "📊 Clustering Results:\n",
            "   Total clusters: 48\n",
            "   Noise points (no cluster): 339\n",
            "   Clustered articles: 144\n"
          ]
        }
      ],
      "source": [
        "# Calculate similarity matrix\n",
        "print(\"🔄 Calculating similarity matrix...\")\n",
        "similarity_matrix = cosine_similarity(embeddings)\n",
        "print(f\"✅ Similarity matrix shape: {similarity_matrix.shape}\")\n",
        "\n",
        "# Apply DBSCAN clustering\n",
        "print(\"🔍 Applying DBSCAN clustering...\")\n",
        "dbscan = DBSCAN(eps=0.3, min_samples=2, metric='cosine')\n",
        "clusters = dbscan.fit_predict(embeddings)\n",
        "\n",
        "# Analyze clustering results\n",
        "unique_clusters = np.unique(clusters)\n",
        "n_clusters = len(unique_clusters) - (1 if -1 in unique_clusters else 0)\n",
        "n_noise = list(clusters).count(-1)\n",
        "\n",
        "print(f\"📊 Clustering Results:\")\n",
        "print(f\"   Total clusters: {n_clusters}\")\n",
        "print(f\"   Noise points (no cluster): {n_noise}\")\n",
        "print(f\"   Clustered articles: {len(df) - n_noise}\")\n"
      ]
    },
    {
      "cell_type": "code",
      "execution_count": 9,
      "metadata": {},
      "outputs": [
        {
          "name": "stdout",
          "output_type": "stream",
          "text": [
            "📈 Top clusters by article count:\n",
            "            article_count  unique_sources  unique_categories\n",
            "cluster_id                                                  \n",
            "-1                    339              50                 13\n",
            " 3                     12              10                  3\n",
            " 4                     10               8                  3\n",
            " 42                     8               2                  2\n",
            " 16                     7               7                  2\n",
            " 2                      5               5                  2\n",
            " 35                     5               4                  4\n",
            " 15                     4               4                  3\n",
            " 30                     4               4                  1\n",
            " 11                     4               4                  1\n",
            "\n",
            "📈 Top clusters by source diversity:\n",
            "            article_count  unique_sources  unique_categories\n",
            "cluster_id                                                  \n",
            "-1                    339              50                 13\n",
            " 3                     12              10                  3\n",
            " 4                     10               8                  3\n",
            " 16                     7               7                  2\n",
            " 2                      5               5                  2\n",
            " 15                     4               4                  3\n",
            " 35                     5               4                  4\n",
            " 30                     4               4                  1\n",
            " 11                     4               4                  1\n",
            " 37                     3               3                  2\n"
          ]
        }
      ],
      "source": [
        "# Add cluster information to dataframe\n",
        "df['cluster_id'] = clusters\n",
        "df['is_clustered'] = clusters != -1\n",
        "\n",
        "# Calculate cluster statistics\n",
        "cluster_stats = df.groupby('cluster_id').agg({\n",
        "    'title': 'count',\n",
        "    'feed_name': lambda x: x.nunique(),\n",
        "    'feed_category': lambda x: x.nunique()\n",
        "}).rename(columns={\n",
        "    'title': 'article_count',\n",
        "    'feed_name': 'unique_sources',\n",
        "    'feed_category': 'unique_categories'\n",
        "})\n",
        "\n",
        "# Add cluster statistics to each row in the dataframe\n",
        "df = df.merge(cluster_stats, left_on='cluster_id', right_index=True, how='left')\n",
        "\n",
        "print(\"📈 Top clusters by article count:\")\n",
        "print(cluster_stats.sort_values('article_count', ascending=False).head(10))\n",
        "\n",
        "print(\"\\n📈 Top clusters by source diversity:\")\n",
        "print(cluster_stats.sort_values('unique_sources', ascending=False).head(10))\n"
      ]
    },
    {
      "cell_type": "markdown",
      "metadata": {},
      "source": [
        "## Quality Scoring System\n"
      ]
    },
    {
      "cell_type": "code",
      "execution_count": 10,
      "metadata": {},
      "outputs": [
        {
          "name": "stdout",
          "output_type": "stream",
          "text": [
            "📊 Quality Score Statistics:\n",
            "   Min: 0.400\n",
            "   Max: 1.300\n",
            "   Mean: 0.930\n",
            "   Median: 1.000\n"
          ]
        }
      ],
      "source": [
        "def calculate_quality_score(row, cluster_stats):\n",
        "    \"\"\"Calculate quality score based on clustering and source diversity\"\"\"\n",
        "    cluster_id = row['cluster_id']\n",
        "    \n",
        "    if cluster_id == -1:  # No cluster (unique article)\n",
        "        return 1.0  # Base score for unique content\n",
        "    \n",
        "    # Get cluster statistics\n",
        "    cluster_data = cluster_stats.loc[cluster_id]\n",
        "    article_count = cluster_data['article_count']\n",
        "    unique_sources = cluster_data['unique_sources']\n",
        "    unique_categories = cluster_data['unique_categories']\n",
        "    \n",
        "    # Calculate base score from source diversity\n",
        "    source_score = min(unique_sources / 5.0, 1.0)  # Normalize to max 5 sources\n",
        "    \n",
        "    # Bonus for category diversity\n",
        "    category_bonus = min(unique_categories / 3.0, 0.3)  # Max 0.3 bonus\n",
        "    \n",
        "    # Penalty for too many articles (might be spam/low-quality)\n",
        "    volume_penalty = max(0, (article_count - 5) * 0.1)  # Penalty after 5 articles\n",
        "    \n",
        "    # Combine scores\n",
        "    quality_score = source_score + category_bonus - volume_penalty\n",
        "    return max(0.1, min(2.0, quality_score))  # Clamp between 0.1 and 2.0\n",
        "\n",
        "# Calculate quality scores\n",
        "df['quality_score'] = df.apply(lambda row: calculate_quality_score(row, cluster_stats), axis=1)\n",
        "\n",
        "print(\"📊 Quality Score Statistics:\")\n",
        "print(f\"   Min: {df['quality_score'].min():.3f}\")\n",
        "print(f\"   Max: {df['quality_score'].max():.3f}\")\n",
        "print(f\"   Mean: {df['quality_score'].mean():.3f}\")\n",
        "print(f\"   Median: {df['quality_score'].median():.3f}\")\n"
      ]
    },
    {
      "cell_type": "markdown",
      "metadata": {},
      "source": [
        "## Analysis and Visualization\n"
      ]
    },
    {
      "cell_type": "code",
      "execution_count": 11,
      "metadata": {},
      "outputs": [
        {
          "data": {
            "image/png": "[encoded data removed]",
            "text/plain": [
              "<Figure size 1200x800 with 4 Axes>"
            ]
          },
          "metadata": {},
          "output_type": "display_data"
        }
      ],
      "source": [
        "# Visualize quality score distribution\n",
        "plt.figure(figsize=(12, 8))\n",
        "\n",
        "plt.subplot(2, 2, 1)\n",
        "plt.hist(df['quality_score'], bins=30, alpha=0.7, edgecolor='black')\n",
        "plt.title('Quality Score Distribution')\n",
        "plt.xlabel('Quality Score')\n",
        "plt.ylabel('Frequency')\n",
        "\n",
        "plt.subplot(2, 2, 2)\n",
        "clustered_scores = df[df['is_clustered']]['quality_score']\n",
        "unique_scores = df[~df['is_clustered']]['quality_score']\n",
        "plt.hist([clustered_scores, unique_scores], bins=20, alpha=0.7, \n",
        "         label=['Clustered', 'Unique'], edgecolor='black')\n",
        "plt.title('Quality Scores: Clustered vs Unique')\n",
        "plt.xlabel('Quality Score')\n",
        "plt.ylabel('Frequency')\n",
        "plt.legend()\n",
        "\n",
        "plt.subplot(2, 2, 3)\n",
        "plt.scatter(df['unique_sources'], df['quality_score'], alpha=0.6)\n",
        "plt.title('Quality Score vs Source Count')\n",
        "plt.xlabel('Unique Sources')\n",
        "plt.ylabel('Quality Score')\n",
        "\n",
        "plt.subplot(2, 2, 4)\n",
        "cluster_size_counts = cluster_stats['article_count'].value_counts().sort_index()\n",
        "plt.bar(cluster_size_counts.index, cluster_size_counts.values)\n",
        "plt.title('Cluster Size Distribution')\n",
        "plt.xlabel('Articles per Cluster')\n",
        "plt.ylabel('Number of Clusters')\n",
        "\n",
        "plt.tight_layout()\n",
        "plt.show()\n"
      ]
    },
    {
      "cell_type": "code",
      "execution_count": 12,
      "metadata": {},
      "outputs": [
        {
          "name": "stdout",
          "output_type": "stream",
          "text": [
            "🏆 Top 10 Articles by Quality Score:\n",
            "\n",
            "Here’s what’s happening right now with the US TikTok deal...\n",
            "   Source: TechCrunch | Score: 1.300 | Cluster 2 | Sources: 5\n",
            "\n",
            "TikTok Deal Moves Forward: New Algorithm or Brand-New App in the US?...\n",
            "   Source: CNET News | Score: 1.300 | Cluster 2 | Sources: 5\n",
            "\n",
            "TikTok algorithm to be retrained on US user data under Trump deal...\n",
            "   Source: BBC News - Technology | Score: 1.300 | Cluster 2 | Sources: 5\n",
            "\n",
            "How TikTok's deal to stay in the US will work, according to the White House...\n",
            "   Source: Business Insider (Tech) | Score: 1.300 | Cluster 2 | Sources: 5\n",
            "\n",
            "TikTok’s algorithm will be retrained in US ‘from the ground up,’ per report...\n",
            "   Source: 9to5Mac | Score: 1.300 | Cluster 2 | Sources: 5\n",
            "\n",
            "Our fave Star Wars duo is back in Mandalorian and Grogu teaser...\n",
            "   Source: Ars Technica | Score: 1.100 | Cluster 11 | Sources: 4\n",
            "\n",
            "Disney's Mandalorian and Grogu trailer shows the fall of a lumbering giant...\n",
            "   Source: Engadget | Score: 1.100 | Cluster 11 | Sources: 4\n",
            "\n",
            "Apple’s new AirPods Pro 3 get their first discount...\n",
            "   Source: Engadget | Score: 1.100 | Cluster 15 | Sources: 4\n",
            "\n",
            "Some iPhone 17 models are reportedly prone to very visible scratches...\n",
            "   Source: Engadget | Score: 1.100 | Cluster 16 | Sources: 7\n",
            "\n",
            "Why the iPhone Air and iPhone 17 Pros Are Scratching Alarmingly Fast...\n",
            "   Source: Gizmodo | Score: 1.100 | Cluster 16 | Sources: 7\n"
          ]
        }
      ],
      "source": [
        "# Show top quality articles\n",
        "print(\"🏆 Top 10 Articles by Quality Score:\")\n",
        "top_articles = df.nlargest(10, 'quality_score')[['title', 'feed_name', 'quality_score', 'cluster_id', 'unique_sources']]\n",
        "\n",
        "for idx, row in top_articles.iterrows():\n",
        "    cluster_info = f\"Cluster {row['cluster_id']}\" if row['cluster_id'] != -1 else \"Unique\"\n",
        "    print(f\"\\n{row['title'][:80]}...\")\n",
        "    print(f\"   Source: {row['feed_name']} | Score: {row['quality_score']:.3f} | {cluster_info} | Sources: {row['unique_sources']}\")\n"
      ]
    },
    {
      "cell_type": "code",
      "execution_count": 13,
      "metadata": {},
      "outputs": [
        {
          "name": "stdout",
          "output_type": "stream",
          "text": [
            "📰 Largest Clusters (Most Covered Stories):\n",
            "\n",
            "🔍 Cluster 3:\n",
            "   Articles: 12\n",
            "   Unique Sources: 10\n",
            "   Categories: 3\n",
            "   Sample titles:\n",
            "     1. The billion-dollar infrastructure deals powering the AI boom... (TechCrunch)\n",
            "     2. Nvidia plans to invest up to $100B in OpenAI... (TechCrunch)\n",
            "     3. Nvidia is partnering up with OpenAI to offer compute and cash... (The Verge)\n",
            "\n",
            "🔍 Cluster 4:\n",
            "   Articles: 10\n",
            "   Unique Sources: 8\n",
            "   Categories: 3\n",
            "   Sample titles:\n",
            "     1. Google’s Gemini AI is coming to your TV... (TechCrunch)\n",
            "     2. TCL’s Google TVs with an mmWave presence sensor are out now... (The Verge)\n",
            "     3. Gemini arrives on Google TV... (Engadget)\n",
            "\n",
            "🔍 Cluster 42:\n",
            "   Articles: 8\n",
            "   Unique Sources: 2\n",
            "   Categories: 2\n",
            "   Sample titles:\n",
            "     1. iOS 26.1 beta adds new languages for AirPods Live Translation and Appl... (9to5Mac)\n",
            "     2. Apple is rolling out visionOS 26.1 developer beta 1... (9to5Mac)\n",
            "     3. Apple releases macOS Tahoe 26.1 developer beta 1... (9to5Mac)\n",
            "\n",
            "🔍 Cluster 16:\n",
            "   Articles: 7\n",
            "   Unique Sources: 7\n",
            "   Categories: 2\n",
            "   Sample titles:\n",
            "     1. Some iPhone 17 models are reportedly prone to very visible scratches... (Engadget)\n",
            "     2. Why the iPhone Air and iPhone 17 Pros Are Scratching Alarmingly Fast... (Gizmodo)\n",
            "     3. What is ‘scratchgate’? Unpacking the iPhone 17 Pro scratching problem.... (Mashable (Tech))\n"
          ]
        }
      ],
      "source": [
        "# Show largest clusters (most covered stories)\n",
        "print(\"📰 Largest Clusters (Most Covered Stories):\")\n",
        "largest_clusters = cluster_stats.nlargest(5, 'article_count')\n",
        "\n",
        "for cluster_id, stats in largest_clusters.iterrows():\n",
        "    if cluster_id == -1:  # Skip noise cluster\n",
        "        continue\n",
        "        \n",
        "    print(f\"\\n🔍 Cluster {cluster_id}:\")\n",
        "    print(f\"   Articles: {stats['article_count']}\")\n",
        "    print(f\"   Unique Sources: {stats['unique_sources']}\")\n",
        "    print(f\"   Categories: {stats['unique_categories']}\")\n",
        "    \n",
        "    # Show sample articles from this cluster\n",
        "    cluster_articles = df[df['cluster_id'] == cluster_id]\n",
        "    print(f\"   Sample titles:\")\n",
        "    for i, (_, article) in enumerate(cluster_articles.head(3).iterrows()):\n",
        "        print(f\"     {i+1}. {article['title'][:70]}... ({article['feed_name']})\")\n"
      ]
    },
    {
      "cell_type": "markdown",
      "metadata": {},
      "source": [
        "## Save Results\n"
      ]
    },
    {
      "cell_type": "code",
      "execution_count": 14,
      "metadata": {},
      "outputs": [
        {
          "name": "stdout",
          "output_type": "stream",
          "text": [
            "✅ Results saved to ../data/clustering/clustering_quality_analysis.json\n",
            "📊 Analysis complete!\n"
          ]
        }
      ],
      "source": [
        "# Prepare results for saving\n",
        "results = {\n",
        "    'metadata': {\n",
        "        'timestamp': datetime.now().isoformat(),\n",
        "        'total_articles': len(df),\n",
        "        'total_clusters': n_clusters,\n",
        "        'noise_points': n_noise,\n",
        "        'clustered_articles': len(df) - n_noise,\n",
        "        'model_used': 'all-MiniLM-L6-v2',\n",
        "        'clustering_method': 'DBSCAN'\n",
        "    },\n",
        "    'cluster_statistics': cluster_stats.to_dict('index'),\n",
        "    'quality_score_stats': {\n",
        "        'min': float(df['quality_score'].min()),\n",
        "        'max': float(df['quality_score'].max()),\n",
        "        'mean': float(df['quality_score'].mean()),\n",
        "        'median': float(df['quality_score'].median()),\n",
        "        'std': float(df['quality_score'].std())\n",
        "    },\n",
        "    'top_articles': df.nlargest(20, 'quality_score')[\n",
        "        ['title', 'url', 'feed_name', 'quality_score', 'cluster_id', 'unique_sources']\n",
        "    ].to_dict('records'),\n",
        "    'largest_clusters': largest_clusters.to_dict('index')\n",
        "}\n",
        "\n",
        "# Save results\n",
        "output_file = '../data/clustering/clustering_quality_analysis.json'\n",
        "import os\n",
        "os.makedirs(os.path.dirname(output_file), exist_ok=True)\n",
        "\n",
        "with open(output_file, 'w', encoding='utf-8') as f:\n",
        "    json.dump(results, f, indent=2, ensure_ascii=False)\n",
        "\n",
        "print(f\"✅ Results saved to {output_file}\")\n",
        "print(f\"📊 Analysis complete!\")\n"
      ]
    },
    {
      "cell_type": "markdown",
      "metadata": {},
      "source": [
        "## Summary and Insights\n",
        "\n",
        "This analysis provides:\n",
        "\n",
        "1. **Article Clustering**: Groups similar articles covering the same news stories\n",
        "2. **Quality Scoring**: Scores articles based on source diversity and coverage\n",
        "3. **Source Analysis**: Identifies which stories are covered by multiple sources\n",
        "4. **Importance Ranking**: Ranks articles by their likely importance\n",
        "\n",
        "### Key Metrics to Track:\n",
        "- Articles with quality scores > 1.5 are likely important stories\n",
        "- Clusters with 3+ sources indicate major news events\n",
        "- High category diversity suggests broad interest stories\n",
        "\n",
        "### Next Steps:\n",
        "- Integrate this scoring into the main filtering pipeline\n",
        "- Experiment with different clustering parameters\n",
        "- Add temporal analysis (how stories evolve over time)\n",
        "- Combine with existing content quality filters\n"
      ]
    },
    {
      "cell_type": "markdown",
      "metadata": {},
      "source": []
    }
  ],
  "metadata": {
    "kernelspec": {
      "display_name": "venv",
      "language": "python",
      "name": "python3"
    },
    "language_info": {
      "codemirror_mode": {
        "name": "ipython",
        "version": 3
      },
      "file_extension": ".py",
      "mimetype": "text/x-python",
      "name": "python",
      "nbconvert_exporter": "python",
      "pygments_lexer": "ipython3",
      "version": "3.13.5"
    }
  },
  "nbformat": 4,
  "nbformat_minor": 2
}
